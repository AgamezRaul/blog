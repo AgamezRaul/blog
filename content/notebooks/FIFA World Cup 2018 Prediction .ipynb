{
 "cells": [
  {
   "cell_type": "markdown",
   "metadata": {
    "_uuid": "16fb5db8dc6b93290187232733a72a39645e7edc"
   },
   "source": [
    "# **World Cup 2018 Prediction by Ang Peng Seng**\n",
    "\n",
    "The purpose of this is to try and predict the top 3 teams for World Cup 2018 using classification models coupled with poisson distribution to predict the exact results of the semi-finals, third place playoff and final. \n",
    "\n",
    "## **Final Predictions based on this notebook:**\n",
    "\n",
    "**Winner**: Germany\n",
    "\n",
    "**2nd Place**: Spain\n",
    "\n",
    "**3rd Place**: France\n",
    "\n",
    "**Final Score**: Germany VS Spain: 2-1\n",
    "\n",
    "**Third place playoff score**: France vs England: 1-1 (France win Penalty Shootout)\n",
    "\n",
    "\n",
    "\n",
    "## **Contents:**\n",
    "\n",
    "**1. Import Necessary Packages/Datasets** \n",
    "\n",
    "**2. Data Cleaning**\n",
    "\n",
    "**3. Classification Models to predict match results (Win/Draw/Lose)**\n",
    "- Variables used:\n",
    "    - Which stadium is it played at (0 -neutral, 1-away team's stadium, 2- home team's stadium)\n",
    "    - Whether the match is an important match or a friendly match (0 - Friendly, 1- Important)\n",
    "    - How much the Home team's rank changes compared to the past period \n",
    "    - How much the Away team's rank changes compared to the past period \n",
    "    - Difference in the 2 team's ranking\n",
    "    - Difference in the 2 team's mean weighted ratings over the past 3 years\n",
    "\n",
    "**4. Classification Models to predict exact goals scored by Home and Away Sides**\n",
    "\n",
    "- Variables used same as in (3)\n",
    "\n",
    "**5. Visualizing ability/potential of players of the 32 countries**\n",
    "\n",
    "**6. Adding variables to build a poisson model**\n",
    " \n",
    "- Variables used:\n",
    "    - Soccer Power Index\n",
    "    - Average Age\n",
    "    - Average Height\n",
    "    - Total World Cup Appearances\n",
    "    - Average goals scored per game\n",
    "    - Average goals conceded per game\n",
    "    - Potential\n",
    "\n",
    "**7. Predicting World Cup 2018**\n",
    "- Detailed Methods on how to simulate and predict the World Cup 2018 Matches will be explained here"
   ]
  },
  {
   "cell_type": "markdown",
   "metadata": {
    "_uuid": "83c6d85d2dcaa8f08d1c936539b9989bf884c50a"
   },
   "source": [
    "# **1. Import Necessary Packages/Datasets**"
   ]
  },
  {
   "cell_type": "code",
   "execution_count": 1,
   "metadata": {
    "_uuid": "e6ebef840c5ac297915496c2e12fda1439a646b0"
   },
   "outputs": [],
   "source": [
    "%matplotlib inline \n",
    "import random\n",
    "import numpy as np \n",
    "import scipy as sp \n",
    "from scipy.stats import poisson\n",
    "import matplotlib as mpl\n",
    "import matplotlib.cm as cm \n",
    "import matplotlib.pyplot as plt\n",
    "import pandas as pd \n",
    "pd.set_option('display.width', 500)\n",
    "pd.set_option('display.max_columns', 100)\n",
    "pd.set_option('display.notebook_repr_html', True)\n",
    "from sklearn.model_selection import train_test_split\n",
    "from sklearn.ensemble import RandomForestClassifier\n",
    "from sklearn.feature_selection import SelectKBest\n",
    "from sklearn.model_selection import GridSearchCV\n",
    "from sklearn.linear_model import LogisticRegression\n",
    "from sklearn.tree import DecisionTreeRegressor\n",
    "from sklearn.linear_model import LinearRegression\n",
    "import statsmodels.formula.api as sm\n",
    "from sklearn.svm import SVC, LinearSVC\n",
    "from sklearn.neighbors import KNeighborsClassifier\n",
    "from sklearn.tree import DecisionTreeClassifier\n",
    "from sklearn.feature_selection import SelectFromModel\n",
    "from sklearn.model_selection import KFold\n",
    "from sklearn.model_selection import cross_val_score\n",
    "from sklearn.metrics import confusion_matrix\n",
    "from sklearn.metrics import accuracy_score\n",
    "import xgboost as xgb\n",
    "import scikitplot as skplt\n",
    "from sklearn.metrics import average_precision_score\n",
    "from sklearn.metrics import precision_score\n",
    "from sklearn.metrics import f1_score\n",
    "from sklearn import preprocessing\n",
    "import warnings\n",
    "warnings.filterwarnings('ignore')"
   ]
  },
  {
   "cell_type": "code",
   "execution_count": 2,
   "metadata": {},
   "outputs": [],
   "source": [
    "ranking = pd.read_csv('fifa_ranking.csv')"
   ]
  },
  {
   "cell_type": "code",
   "execution_count": 3,
   "metadata": {},
   "outputs": [
    {
     "data": {
      "text/html": [
       "<div>\n",
       "<style scoped>\n",
       "    .dataframe tbody tr th:only-of-type {\n",
       "        vertical-align: middle;\n",
       "    }\n",
       "\n",
       "    .dataframe tbody tr th {\n",
       "        vertical-align: top;\n",
       "    }\n",
       "\n",
       "    .dataframe thead th {\n",
       "        text-align: right;\n",
       "    }\n",
       "</style>\n",
       "<table border=\"1\" class=\"dataframe\">\n",
       "  <thead>\n",
       "    <tr style=\"text-align: right;\">\n",
       "      <th></th>\n",
       "      <th>Rnk</th>\n",
       "      <th>Team Team</th>\n",
       "      <th>Total Points PTS</th>\n",
       "      <th>Previous Points Prev.Pts</th>\n",
       "      <th>+/-</th>\n",
       "      <th>Positions Pos</th>\n",
       "      <th>Confederations fifa_confederations_abbr</th>\n",
       "    </tr>\n",
       "  </thead>\n",
       "  <tbody>\n",
       "    <tr>\n",
       "      <th>0</th>\n",
       "      <td>1</td>\n",
       "      <td>BEL Belgium BEL</td>\n",
       "      <td>1737</td>\n",
       "      <td>1727</td>\n",
       "      <td>0</td>\n",
       "      <td>NaN</td>\n",
       "      <td>#UEFA#</td>\n",
       "    </tr>\n",
       "    <tr>\n",
       "      <th>1</th>\n",
       "      <td>2</td>\n",
       "      <td>FRA France FRA</td>\n",
       "      <td>1734</td>\n",
       "      <td>1726</td>\n",
       "      <td>0</td>\n",
       "      <td>NaN</td>\n",
       "      <td>#UEFA#</td>\n",
       "    </tr>\n",
       "    <tr>\n",
       "      <th>2</th>\n",
       "      <td>3</td>\n",
       "      <td>BRA Brazil BRA</td>\n",
       "      <td>1676</td>\n",
       "      <td>1676</td>\n",
       "      <td>0</td>\n",
       "      <td>NaN</td>\n",
       "      <td>#CONMEBOL#</td>\n",
       "    </tr>\n",
       "    <tr>\n",
       "      <th>3</th>\n",
       "      <td>4</td>\n",
       "      <td>ENG England ENG</td>\n",
       "      <td>1647</td>\n",
       "      <td>1631</td>\n",
       "      <td>1</td>\n",
       "      <td>NaN</td>\n",
       "      <td>#UEFA#</td>\n",
       "    </tr>\n",
       "    <tr>\n",
       "      <th>4</th>\n",
       "      <td>5</td>\n",
       "      <td>CRO Croatia CRO</td>\n",
       "      <td>1621</td>\n",
       "      <td>1634</td>\n",
       "      <td>-1</td>\n",
       "      <td>NaN</td>\n",
       "      <td>#UEFA#</td>\n",
       "    </tr>\n",
       "    <tr>\n",
       "      <th>5</th>\n",
       "      <td>6</td>\n",
       "      <td>URU Uruguay URU</td>\n",
       "      <td>1613</td>\n",
       "      <td>1609</td>\n",
       "      <td>1</td>\n",
       "      <td>NaN</td>\n",
       "      <td>#CONMEBOL#</td>\n",
       "    </tr>\n",
       "    <tr>\n",
       "      <th>6</th>\n",
       "      <td>7</td>\n",
       "      <td>POR Portugal POR</td>\n",
       "      <td>1607</td>\n",
       "      <td>1614</td>\n",
       "      <td>-1</td>\n",
       "      <td>NaN</td>\n",
       "      <td>#UEFA#</td>\n",
       "    </tr>\n",
       "    <tr>\n",
       "      <th>7</th>\n",
       "      <td>8</td>\n",
       "      <td>SUI Switzerland SUI</td>\n",
       "      <td>1604</td>\n",
       "      <td>1599</td>\n",
       "      <td>0</td>\n",
       "      <td>NaN</td>\n",
       "      <td>#UEFA#</td>\n",
       "    </tr>\n",
       "    <tr>\n",
       "      <th>8</th>\n",
       "      <td>9</td>\n",
       "      <td>ESP Spain ESP</td>\n",
       "      <td>1601</td>\n",
       "      <td>1591</td>\n",
       "      <td>0</td>\n",
       "      <td>NaN</td>\n",
       "      <td>#UEFA#</td>\n",
       "    </tr>\n",
       "    <tr>\n",
       "      <th>9</th>\n",
       "      <td>10</td>\n",
       "      <td>DEN Denmark DEN</td>\n",
       "      <td>1586</td>\n",
       "      <td>1589</td>\n",
       "      <td>0</td>\n",
       "      <td>NaN</td>\n",
       "      <td>#UEFA#</td>\n",
       "    </tr>\n",
       "    <tr>\n",
       "      <th>10</th>\n",
       "      <td>11</td>\n",
       "      <td>ARG Argentina ARG</td>\n",
       "      <td>1580</td>\n",
       "      <td>1582</td>\n",
       "      <td>0</td>\n",
       "      <td>NaN</td>\n",
       "      <td>#CONMEBOL#</td>\n",
       "    </tr>\n",
       "    <tr>\n",
       "      <th>11</th>\n",
       "      <td>12</td>\n",
       "      <td>COL Colombia COL</td>\n",
       "      <td>1573</td>\n",
       "      <td>1575</td>\n",
       "      <td>0</td>\n",
       "      <td>NaN</td>\n",
       "      <td>#CONMEBOL#</td>\n",
       "    </tr>\n",
       "    <tr>\n",
       "      <th>12</th>\n",
       "      <td>13</td>\n",
       "      <td>GER Germany GER</td>\n",
       "      <td>1570</td>\n",
       "      <td>1558</td>\n",
       "      <td>3</td>\n",
       "      <td>NaN</td>\n",
       "      <td>#UEFA#</td>\n",
       "    </tr>\n",
       "    <tr>\n",
       "      <th>13</th>\n",
       "      <td>14</td>\n",
       "      <td>SWE Sweden SWE</td>\n",
       "      <td>1567</td>\n",
       "      <td>1560</td>\n",
       "      <td>0</td>\n",
       "      <td>NaN</td>\n",
       "      <td>#UEFA#</td>\n",
       "    </tr>\n",
       "    <tr>\n",
       "      <th>14</th>\n",
       "      <td>15</td>\n",
       "      <td>CHI Chile CHI</td>\n",
       "      <td>1559</td>\n",
       "      <td>1565</td>\n",
       "      <td>-2</td>\n",
       "      <td>NaN</td>\n",
       "      <td>#CONMEBOL#</td>\n",
       "    </tr>\n",
       "    <tr>\n",
       "      <th>15</th>\n",
       "      <td>16</td>\n",
       "      <td>NED Netherlands NED</td>\n",
       "      <td>1554</td>\n",
       "      <td>1560</td>\n",
       "      <td>-2</td>\n",
       "      <td>NaN</td>\n",
       "      <td>#UEFA#</td>\n",
       "    </tr>\n",
       "    <tr>\n",
       "      <th>16</th>\n",
       "      <td>17</td>\n",
       "      <td>ITA Italy ITA</td>\n",
       "      <td>1550</td>\n",
       "      <td>1539</td>\n",
       "      <td>1</td>\n",
       "      <td>NaN</td>\n",
       "      <td>#UEFA#</td>\n",
       "    </tr>\n",
       "    <tr>\n",
       "      <th>17</th>\n",
       "      <td>18</td>\n",
       "      <td>MEX Mexico MEX</td>\n",
       "      <td>1549</td>\n",
       "      <td>1540</td>\n",
       "      <td>-1</td>\n",
       "      <td>NaN</td>\n",
       "      <td>#CONCACAF#</td>\n",
       "    </tr>\n",
       "    <tr>\n",
       "      <th>18</th>\n",
       "      <td>19</td>\n",
       "      <td>WAL Wales WAL</td>\n",
       "      <td>1539</td>\n",
       "      <td>1525</td>\n",
       "      <td>0</td>\n",
       "      <td>NaN</td>\n",
       "      <td>#UEFA#</td>\n",
       "    </tr>\n",
       "    <tr>\n",
       "      <th>19</th>\n",
       "      <td>20</td>\n",
       "      <td>POL Poland POL</td>\n",
       "      <td>1535</td>\n",
       "      <td>1518</td>\n",
       "      <td>0</td>\n",
       "      <td>NaN</td>\n",
       "      <td>#UEFA#</td>\n",
       "    </tr>\n",
       "    <tr>\n",
       "      <th>20</th>\n",
       "      <td>21</td>\n",
       "      <td>PER Peru PER</td>\n",
       "      <td>1516</td>\n",
       "      <td>1518</td>\n",
       "      <td>-1</td>\n",
       "      <td>NaN</td>\n",
       "      <td>#CONMEBOL#</td>\n",
       "    </tr>\n",
       "    <tr>\n",
       "      <th>21</th>\n",
       "      <td>21</td>\n",
       "      <td>IRN IR Iran IRN</td>\n",
       "      <td>1516</td>\n",
       "      <td>1516</td>\n",
       "      <td>1</td>\n",
       "      <td>NaN</td>\n",
       "      <td>#AFC#</td>\n",
       "    </tr>\n",
       "    <tr>\n",
       "      <th>22</th>\n",
       "      <td>23</td>\n",
       "      <td>SEN Senegal SEN</td>\n",
       "      <td>1515</td>\n",
       "      <td>1505</td>\n",
       "      <td>1</td>\n",
       "      <td>NaN</td>\n",
       "      <td>#CAF#</td>\n",
       "    </tr>\n",
       "    <tr>\n",
       "      <th>23</th>\n",
       "      <td>24</td>\n",
       "      <td>USA USA USA</td>\n",
       "      <td>1506</td>\n",
       "      <td>1501</td>\n",
       "      <td>1</td>\n",
       "      <td>NaN</td>\n",
       "      <td>#CONCACAF#</td>\n",
       "    </tr>\n",
       "    <tr>\n",
       "      <th>24</th>\n",
       "      <td>25</td>\n",
       "      <td>ROU Romania ROU</td>\n",
       "      <td>1496</td>\n",
       "      <td>1501</td>\n",
       "      <td>0</td>\n",
       "      <td>NaN</td>\n",
       "      <td>#UEFA#</td>\n",
       "    </tr>\n",
       "    <tr>\n",
       "      <th>25</th>\n",
       "      <td>26</td>\n",
       "      <td>JPN Japan JPN</td>\n",
       "      <td>1494</td>\n",
       "      <td>1495</td>\n",
       "      <td>1</td>\n",
       "      <td>NaN</td>\n",
       "      <td>#AFC#</td>\n",
       "    </tr>\n",
       "    <tr>\n",
       "      <th>26</th>\n",
       "      <td>27</td>\n",
       "      <td>UKR Ukraine UKR</td>\n",
       "      <td>1493</td>\n",
       "      <td>1482</td>\n",
       "      <td>3</td>\n",
       "      <td>NaN</td>\n",
       "      <td>#UEFA#</td>\n",
       "    </tr>\n",
       "    <tr>\n",
       "      <th>27</th>\n",
       "      <td>28</td>\n",
       "      <td>TUN Tunisia TUN</td>\n",
       "      <td>1491</td>\n",
       "      <td>1493</td>\n",
       "      <td>0</td>\n",
       "      <td>NaN</td>\n",
       "      <td>#CAF#</td>\n",
       "    </tr>\n",
       "    <tr>\n",
       "      <th>28</th>\n",
       "      <td>29</td>\n",
       "      <td>VEN Venezuela VEN</td>\n",
       "      <td>1484</td>\n",
       "      <td>1478</td>\n",
       "      <td>3</td>\n",
       "      <td>NaN</td>\n",
       "      <td>#CONMEBOL#</td>\n",
       "    </tr>\n",
       "    <tr>\n",
       "      <th>29</th>\n",
       "      <td>29</td>\n",
       "      <td>SRB Serbia SRB</td>\n",
       "      <td>1484</td>\n",
       "      <td>1481</td>\n",
       "      <td>2</td>\n",
       "      <td>NaN</td>\n",
       "      <td>#UEFA#</td>\n",
       "    </tr>\n",
       "    <tr>\n",
       "      <th>...</th>\n",
       "      <td>...</td>\n",
       "      <td>...</td>\n",
       "      <td>...</td>\n",
       "      <td>...</td>\n",
       "      <td>...</td>\n",
       "      <td>...</td>\n",
       "      <td>...</td>\n",
       "    </tr>\n",
       "    <tr>\n",
       "      <th>181</th>\n",
       "      <td>182</td>\n",
       "      <td>LIE Liechtenstein LIE</td>\n",
       "      <td>932</td>\n",
       "      <td>937</td>\n",
       "      <td>-1</td>\n",
       "      <td>NaN</td>\n",
       "      <td>#UEFA#</td>\n",
       "    </tr>\n",
       "    <tr>\n",
       "      <th>182</th>\n",
       "      <td>183</td>\n",
       "      <td>MAC Macau MAC</td>\n",
       "      <td>925</td>\n",
       "      <td>925</td>\n",
       "      <td>0</td>\n",
       "      <td>NaN</td>\n",
       "      <td>#AFC#</td>\n",
       "    </tr>\n",
       "    <tr>\n",
       "      <th>183</th>\n",
       "      <td>184</td>\n",
       "      <td>LAO Laos LAO</td>\n",
       "      <td>923</td>\n",
       "      <td>923</td>\n",
       "      <td>0</td>\n",
       "      <td>NaN</td>\n",
       "      <td>#AFC#</td>\n",
       "    </tr>\n",
       "    <tr>\n",
       "      <th>184</th>\n",
       "      <td>185</td>\n",
       "      <td>STP Sao Tome e Principe STP</td>\n",
       "      <td>920</td>\n",
       "      <td>920</td>\n",
       "      <td>0</td>\n",
       "      <td>NaN</td>\n",
       "      <td>#CAF#</td>\n",
       "    </tr>\n",
       "    <tr>\n",
       "      <th>185</th>\n",
       "      <td>186</td>\n",
       "      <td>BHU Bhutan BHU</td>\n",
       "      <td>917</td>\n",
       "      <td>917</td>\n",
       "      <td>0</td>\n",
       "      <td>NaN</td>\n",
       "      <td>#AFC#</td>\n",
       "    </tr>\n",
       "    <tr>\n",
       "      <th>186</th>\n",
       "      <td>187</td>\n",
       "      <td>MNG Mongolia MNG</td>\n",
       "      <td>915</td>\n",
       "      <td>915</td>\n",
       "      <td>1</td>\n",
       "      <td>NaN</td>\n",
       "      <td>#AFC#</td>\n",
       "    </tr>\n",
       "    <tr>\n",
       "      <th>187</th>\n",
       "      <td>188</td>\n",
       "      <td>BAN Bangladesh BAN</td>\n",
       "      <td>909</td>\n",
       "      <td>907</td>\n",
       "      <td>4</td>\n",
       "      <td>NaN</td>\n",
       "      <td>#AFC#</td>\n",
       "    </tr>\n",
       "    <tr>\n",
       "      <th>188</th>\n",
       "      <td>188</td>\n",
       "      <td>ARU Aruba ARU</td>\n",
       "      <td>909</td>\n",
       "      <td>916</td>\n",
       "      <td>-1</td>\n",
       "      <td>NaN</td>\n",
       "      <td>#CONCACAF#</td>\n",
       "    </tr>\n",
       "    <tr>\n",
       "      <th>189</th>\n",
       "      <td>190</td>\n",
       "      <td>SEY Seychelles SEY</td>\n",
       "      <td>908</td>\n",
       "      <td>911</td>\n",
       "      <td>-1</td>\n",
       "      <td>NaN</td>\n",
       "      <td>#CAF#</td>\n",
       "    </tr>\n",
       "    <tr>\n",
       "      <th>190</th>\n",
       "      <td>190</td>\n",
       "      <td>COK Cook Islands COK</td>\n",
       "      <td>908</td>\n",
       "      <td>908</td>\n",
       "      <td>0</td>\n",
       "      <td>NaN</td>\n",
       "      <td>#OFC#</td>\n",
       "    </tr>\n",
       "    <tr>\n",
       "      <th>191</th>\n",
       "      <td>190</td>\n",
       "      <td>ASA American Samoa ASA</td>\n",
       "      <td>908</td>\n",
       "      <td>908</td>\n",
       "      <td>0</td>\n",
       "      <td>NaN</td>\n",
       "      <td>#OFC#</td>\n",
       "    </tr>\n",
       "    <tr>\n",
       "      <th>192</th>\n",
       "      <td>193</td>\n",
       "      <td>GUM Guam GUM</td>\n",
       "      <td>907</td>\n",
       "      <td>907</td>\n",
       "      <td>-1</td>\n",
       "      <td>NaN</td>\n",
       "      <td>#AFC#</td>\n",
       "    </tr>\n",
       "    <tr>\n",
       "      <th>193</th>\n",
       "      <td>194</td>\n",
       "      <td>BRU Brunei Darussalam BRU</td>\n",
       "      <td>903</td>\n",
       "      <td>903</td>\n",
       "      <td>1</td>\n",
       "      <td>NaN</td>\n",
       "      <td>#AFC#</td>\n",
       "    </tr>\n",
       "    <tr>\n",
       "      <th>194</th>\n",
       "      <td>195</td>\n",
       "      <td>TLS Timor-Leste TLS</td>\n",
       "      <td>900</td>\n",
       "      <td>900</td>\n",
       "      <td>1</td>\n",
       "      <td>NaN</td>\n",
       "      <td>#AFC#</td>\n",
       "    </tr>\n",
       "    <tr>\n",
       "      <th>195</th>\n",
       "      <td>195</td>\n",
       "      <td>GIB Gibraltar GIB</td>\n",
       "      <td>900</td>\n",
       "      <td>905</td>\n",
       "      <td>-1</td>\n",
       "      <td>NaN</td>\n",
       "      <td>#UEFA#</td>\n",
       "    </tr>\n",
       "    <tr>\n",
       "      <th>196</th>\n",
       "      <td>197</td>\n",
       "      <td>SAM Samoa SAM</td>\n",
       "      <td>896</td>\n",
       "      <td>896</td>\n",
       "      <td>0</td>\n",
       "      <td>NaN</td>\n",
       "      <td>#OFC#</td>\n",
       "    </tr>\n",
       "    <tr>\n",
       "      <th>197</th>\n",
       "      <td>197</td>\n",
       "      <td>DJI Djibouti DJI</td>\n",
       "      <td>896</td>\n",
       "      <td>896</td>\n",
       "      <td>0</td>\n",
       "      <td>NaN</td>\n",
       "      <td>#CAF#</td>\n",
       "    </tr>\n",
       "    <tr>\n",
       "      <th>198</th>\n",
       "      <td>199</td>\n",
       "      <td>MSR Montserrat MSR</td>\n",
       "      <td>895</td>\n",
       "      <td>887</td>\n",
       "      <td>1</td>\n",
       "      <td>NaN</td>\n",
       "      <td>#CONCACAF#</td>\n",
       "    </tr>\n",
       "    <tr>\n",
       "      <th>199</th>\n",
       "      <td>200</td>\n",
       "      <td>VIR US Virgin Islands VIR</td>\n",
       "      <td>888</td>\n",
       "      <td>881</td>\n",
       "      <td>2</td>\n",
       "      <td>NaN</td>\n",
       "      <td>#CONCACAF#</td>\n",
       "    </tr>\n",
       "    <tr>\n",
       "      <th>200</th>\n",
       "      <td>200</td>\n",
       "      <td>PAK Pakistan PAK</td>\n",
       "      <td>888</td>\n",
       "      <td>888</td>\n",
       "      <td>-1</td>\n",
       "      <td>NaN</td>\n",
       "      <td>#AFC#</td>\n",
       "    </tr>\n",
       "    <tr>\n",
       "      <th>201</th>\n",
       "      <td>202</td>\n",
       "      <td>SRI Sri Lanka SRI</td>\n",
       "      <td>886</td>\n",
       "      <td>886</td>\n",
       "      <td>-1</td>\n",
       "      <td>NaN</td>\n",
       "      <td>#AFC#</td>\n",
       "    </tr>\n",
       "    <tr>\n",
       "      <th>202</th>\n",
       "      <td>203</td>\n",
       "      <td>TGA Tonga TGA</td>\n",
       "      <td>868</td>\n",
       "      <td>868</td>\n",
       "      <td>1</td>\n",
       "      <td>NaN</td>\n",
       "      <td>#OFC#</td>\n",
       "    </tr>\n",
       "    <tr>\n",
       "      <th>203</th>\n",
       "      <td>203</td>\n",
       "      <td>SOM Somalia SOM</td>\n",
       "      <td>868</td>\n",
       "      <td>868</td>\n",
       "      <td>1</td>\n",
       "      <td>NaN</td>\n",
       "      <td>#CAF#</td>\n",
       "    </tr>\n",
       "    <tr>\n",
       "      <th>204</th>\n",
       "      <td>203</td>\n",
       "      <td>ERI Eritrea ERI</td>\n",
       "      <td>868</td>\n",
       "      <td>868</td>\n",
       "      <td>1</td>\n",
       "      <td>NaN</td>\n",
       "      <td>#CAF#</td>\n",
       "    </tr>\n",
       "    <tr>\n",
       "      <th>205</th>\n",
       "      <td>206</td>\n",
       "      <td>CAY Cayman Islands CAY</td>\n",
       "      <td>867</td>\n",
       "      <td>874</td>\n",
       "      <td>-3</td>\n",
       "      <td>NaN</td>\n",
       "      <td>#CONCACAF#</td>\n",
       "    </tr>\n",
       "    <tr>\n",
       "      <th>206</th>\n",
       "      <td>206</td>\n",
       "      <td>VGB British Virgin Islands VGB</td>\n",
       "      <td>867</td>\n",
       "      <td>867</td>\n",
       "      <td>1</td>\n",
       "      <td>NaN</td>\n",
       "      <td>#CONCACAF#</td>\n",
       "    </tr>\n",
       "    <tr>\n",
       "      <th>207</th>\n",
       "      <td>208</td>\n",
       "      <td>TCA Turks and Caicos Islands TCA</td>\n",
       "      <td>862</td>\n",
       "      <td>864</td>\n",
       "      <td>0</td>\n",
       "      <td>NaN</td>\n",
       "      <td>#CONCACAF#</td>\n",
       "    </tr>\n",
       "    <tr>\n",
       "      <th>208</th>\n",
       "      <td>209</td>\n",
       "      <td>AIA Anguilla AIA</td>\n",
       "      <td>857</td>\n",
       "      <td>864</td>\n",
       "      <td>-1</td>\n",
       "      <td>NaN</td>\n",
       "      <td>#CONCACAF#</td>\n",
       "    </tr>\n",
       "    <tr>\n",
       "      <th>209</th>\n",
       "      <td>210</td>\n",
       "      <td>BAH Bahamas BAH</td>\n",
       "      <td>855</td>\n",
       "      <td>858</td>\n",
       "      <td>0</td>\n",
       "      <td>NaN</td>\n",
       "      <td>#CONCACAF#</td>\n",
       "    </tr>\n",
       "    <tr>\n",
       "      <th>210</th>\n",
       "      <td>211</td>\n",
       "      <td>SMR San Marino SMR</td>\n",
       "      <td>848</td>\n",
       "      <td>854</td>\n",
       "      <td>0</td>\n",
       "      <td>NaN</td>\n",
       "      <td>#UEFA#</td>\n",
       "    </tr>\n",
       "  </tbody>\n",
       "</table>\n",
       "<p>211 rows × 7 columns</p>\n",
       "</div>"
      ],
      "text/plain": [
       "     Rnk                         Team Team  Total Points PTS  Previous Points Prev.Pts  +/-  Positions Pos Confederations fifa_confederations_abbr\n",
       "0      1                   BEL Belgium BEL              1737                      1727    0            NaN                                  #UEFA#\n",
       "1      2                    FRA France FRA              1734                      1726    0            NaN                                  #UEFA#\n",
       "2      3                    BRA Brazil BRA              1676                      1676    0            NaN                              #CONMEBOL#\n",
       "3      4                   ENG England ENG              1647                      1631    1            NaN                                  #UEFA#\n",
       "4      5                   CRO Croatia CRO              1621                      1634   -1            NaN                                  #UEFA#\n",
       "5      6                   URU Uruguay URU              1613                      1609    1            NaN                              #CONMEBOL#\n",
       "6      7                  POR Portugal POR              1607                      1614   -1            NaN                                  #UEFA#\n",
       "7      8               SUI Switzerland SUI              1604                      1599    0            NaN                                  #UEFA#\n",
       "8      9                     ESP Spain ESP              1601                      1591    0            NaN                                  #UEFA#\n",
       "9     10                   DEN Denmark DEN              1586                      1589    0            NaN                                  #UEFA#\n",
       "10    11                 ARG Argentina ARG              1580                      1582    0            NaN                              #CONMEBOL#\n",
       "11    12                  COL Colombia COL              1573                      1575    0            NaN                              #CONMEBOL#\n",
       "12    13                   GER Germany GER              1570                      1558    3            NaN                                  #UEFA#\n",
       "13    14                    SWE Sweden SWE              1567                      1560    0            NaN                                  #UEFA#\n",
       "14    15                     CHI Chile CHI              1559                      1565   -2            NaN                              #CONMEBOL#\n",
       "15    16               NED Netherlands NED              1554                      1560   -2            NaN                                  #UEFA#\n",
       "16    17                     ITA Italy ITA              1550                      1539    1            NaN                                  #UEFA#\n",
       "17    18                    MEX Mexico MEX              1549                      1540   -1            NaN                              #CONCACAF#\n",
       "18    19                     WAL Wales WAL              1539                      1525    0            NaN                                  #UEFA#\n",
       "19    20                    POL Poland POL              1535                      1518    0            NaN                                  #UEFA#\n",
       "20    21                      PER Peru PER              1516                      1518   -1            NaN                              #CONMEBOL#\n",
       "21    21                   IRN IR Iran IRN              1516                      1516    1            NaN                                   #AFC#\n",
       "22    23                   SEN Senegal SEN              1515                      1505    1            NaN                                   #CAF#\n",
       "23    24                       USA USA USA              1506                      1501    1            NaN                              #CONCACAF#\n",
       "24    25                   ROU Romania ROU              1496                      1501    0            NaN                                  #UEFA#\n",
       "25    26                     JPN Japan JPN              1494                      1495    1            NaN                                   #AFC#\n",
       "26    27                   UKR Ukraine UKR              1493                      1482    3            NaN                                  #UEFA#\n",
       "27    28                   TUN Tunisia TUN              1491                      1493    0            NaN                                   #CAF#\n",
       "28    29                 VEN Venezuela VEN              1484                      1478    3            NaN                              #CONMEBOL#\n",
       "29    29                    SRB Serbia SRB              1484                      1481    2            NaN                                  #UEFA#\n",
       "..   ...                               ...               ...                       ...  ...            ...                                     ...\n",
       "181  182             LIE Liechtenstein LIE               932                       937   -1            NaN                                  #UEFA#\n",
       "182  183                     MAC Macau MAC               925                       925    0            NaN                                   #AFC#\n",
       "183  184                      LAO Laos LAO               923                       923    0            NaN                                   #AFC#\n",
       "184  185       STP Sao Tome e Principe STP               920                       920    0            NaN                                   #CAF#\n",
       "185  186                    BHU Bhutan BHU               917                       917    0            NaN                                   #AFC#\n",
       "186  187                  MNG Mongolia MNG               915                       915    1            NaN                                   #AFC#\n",
       "187  188                BAN Bangladesh BAN               909                       907    4            NaN                                   #AFC#\n",
       "188  188                     ARU Aruba ARU               909                       916   -1            NaN                              #CONCACAF#\n",
       "189  190                SEY Seychelles SEY               908                       911   -1            NaN                                   #CAF#\n",
       "190  190              COK Cook Islands COK               908                       908    0            NaN                                   #OFC#\n",
       "191  190            ASA American Samoa ASA               908                       908    0            NaN                                   #OFC#\n",
       "192  193                      GUM Guam GUM               907                       907   -1            NaN                                   #AFC#\n",
       "193  194         BRU Brunei Darussalam BRU               903                       903    1            NaN                                   #AFC#\n",
       "194  195               TLS Timor-Leste TLS               900                       900    1            NaN                                   #AFC#\n",
       "195  195                 GIB Gibraltar GIB               900                       905   -1            NaN                                  #UEFA#\n",
       "196  197                     SAM Samoa SAM               896                       896    0            NaN                                   #OFC#\n",
       "197  197                  DJI Djibouti DJI               896                       896    0            NaN                                   #CAF#\n",
       "198  199                MSR Montserrat MSR               895                       887    1            NaN                              #CONCACAF#\n",
       "199  200         VIR US Virgin Islands VIR               888                       881    2            NaN                              #CONCACAF#\n",
       "200  200                  PAK Pakistan PAK               888                       888   -1            NaN                                   #AFC#\n",
       "201  202                 SRI Sri Lanka SRI               886                       886   -1            NaN                                   #AFC#\n",
       "202  203                     TGA Tonga TGA               868                       868    1            NaN                                   #OFC#\n",
       "203  203                   SOM Somalia SOM               868                       868    1            NaN                                   #CAF#\n",
       "204  203                   ERI Eritrea ERI               868                       868    1            NaN                                   #CAF#\n",
       "205  206            CAY Cayman Islands CAY               867                       874   -3            NaN                              #CONCACAF#\n",
       "206  206    VGB British Virgin Islands VGB               867                       867    1            NaN                              #CONCACAF#\n",
       "207  208  TCA Turks and Caicos Islands TCA               862                       864    0            NaN                              #CONCACAF#\n",
       "208  209                  AIA Anguilla AIA               857                       864   -1            NaN                              #CONCACAF#\n",
       "209  210                   BAH Bahamas BAH               855                       858    0            NaN                              #CONCACAF#\n",
       "210  211                SMR San Marino SMR               848                       854    0            NaN                                  #UEFA#\n",
       "\n",
       "[211 rows x 7 columns]"
      ]
     },
     "execution_count": 3,
     "metadata": {},
     "output_type": "execute_result"
    }
   ],
   "source": [
    "ranking"
   ]
  },
  {
   "cell_type": "code",
   "execution_count": 4,
   "metadata": {},
   "outputs": [],
   "source": [
    "fifa19 = pd.read_csv(\"FIFA19_data.csv\")"
   ]
  },
  {
   "cell_type": "code",
   "execution_count": 16,
   "metadata": {},
   "outputs": [
    {
     "data": {
      "text/plain": [
       "Index(['Unnamed: 0', 'ID', 'Name', 'Age', 'Photo', 'Nationality', 'Flag', 'Overall', 'Potential', 'Club', 'Club Logo', 'Value', 'Wage', 'Special', 'Preferred Foot', 'International Reputation', 'Weak Foot', 'Skill Moves', 'Work Rate', 'Body Type', 'Real Face', 'Position', 'Jersey Number', 'Joined', 'Loaned From', 'Contract Valid Until', 'Height', 'Weight', 'LS', 'ST', 'RS', 'LW', 'LF', 'CF', 'RF', 'RW', 'LAM', 'CAM', 'RAM', 'LM', 'LCM', 'CM', 'RCM', 'RM', 'LWB', 'LDM', 'CDM', 'RDM', 'RWB', 'LB',\n",
       "       'LCB', 'CB', 'RCB', 'RB', 'Crossing', 'Finishing', 'HeadingAccuracy', 'ShortPassing', 'Volleys', 'Dribbling', 'Curve', 'FKAccuracy', 'LongPassing', 'BallControl', 'Acceleration', 'SprintSpeed', 'Agility', 'Reactions', 'Balance', 'ShotPower', 'Jumping', 'Stamina', 'Strength', 'LongShots', 'Aggression', 'Interceptions', 'Positioning', 'Vision', 'Penalties', 'Composure', 'Marking', 'StandingTackle', 'SlidingTackle', 'GKDiving', 'GKHandling', 'GKKicking', 'GKPositioning', 'GKReflexes',\n",
       "       'Release Clause'],\n",
       "      dtype='object')"
      ]
     },
     "execution_count": 16,
     "metadata": {},
     "output_type": "execute_result"
    }
   ],
   "source": [
    "fifa19.columns"
   ]
  },
  {
   "cell_type": "code",
   "execution_count": 22,
   "metadata": {},
   "outputs": [],
   "source": [
    "fifa19.fillna(0, inplace = True)"
   ]
  },
  {
   "cell_type": "code",
   "execution_count": 20,
   "metadata": {},
   "outputs": [],
   "source": [
    "# defining a polar graph\n",
    "import requests\n",
    "import random\n",
    "from math import pi\n",
    "\n",
    "import matplotlib.image as mpimg\n",
    "from matplotlib.offsetbox import (OffsetImage,AnnotationBbox)\n",
    "\n",
    "def details(row, title, image, age, nationality, photo, logo, club):\n",
    "    \n",
    "    flag_image = \"img_flag.jpg\"\n",
    "    player_image = \"img_player.jpg\"\n",
    "    logo_image = \"img_club_logo.jpg\"\n",
    "        \n",
    "    img_flag = requests.get(image).content\n",
    "    with open(flag_image, 'wb') as handler:\n",
    "        handler.write(img_flag)\n",
    "    \n",
    "    player_img = requests.get(photo).content\n",
    "    with open(player_image, 'wb') as handler:\n",
    "        handler.write(player_img)\n",
    "     \n",
    "    logo_img = requests.get(logo).content\n",
    "    with open(logo_image, 'wb') as handler:\n",
    "        handler.write(logo_img)\n",
    "        \n",
    "    r = lambda: random.randint(0,255)\n",
    "    colorRandom = '#%02X%02X%02X' % (r(),r(),r())\n",
    "    \n",
    "    if colorRandom == '#ffffff':colorRandom = '#a5d6a7'\n",
    "    \n",
    "    basic_color = '#37474f'\n",
    "    color_annotate = '#01579b'\n",
    "    \n",
    "    img = mpimg.imread(flag_image)\n",
    "    \n",
    "    plt.figure(figsize=(15,8))\n",
    "    categories=list(players)[1:]\n",
    "    coulumnDontUseGraph = ['Flag', 'Age', 'Nationality', 'Photo', 'Logo', 'Club']\n",
    "    N = len(categories) - len(coulumnDontUseGraph)\n",
    "    \n",
    "    angles = [n / float(N) * 2 * pi for n in range(N)]\n",
    "    angles += angles[:1]\n",
    "    \n",
    "    ax = plt.subplot(111, projection='polar')\n",
    "    ax.set_theta_offset(pi / 2)\n",
    "    ax.set_theta_direction(-1)\n",
    "    plt.xticks(angles[:-1], categories, color= 'black', size=17)\n",
    "    ax.set_rlabel_position(0)\n",
    "    plt.yticks([25,50,75,100], [\"25\",\"50\",\"75\",\"100\"], color= basic_color, size= 10)\n",
    "    plt.ylim(0,100)\n",
    "    \n",
    "    values = players.loc[row].drop('Name').values.flatten().tolist() \n",
    "    valuesDontUseGraph = [image, age, nationality, photo, logo, club]\n",
    "    values = [e for e in values if e not in (valuesDontUseGraph)]\n",
    "    values += values[:1]\n",
    "    \n",
    "    ax.plot(angles, values, color= basic_color, linewidth=1, linestyle='solid')\n",
    "    ax.fill(angles, values, color= colorRandom, alpha=0.5)\n",
    "    axes_coords = [0, 0, 1, 1]\n",
    "    ax_image = plt.gcf().add_axes(axes_coords,zorder= -1)\n",
    "    ax_image.imshow(img,alpha=0.5)\n",
    "    ax_image.axis('off')\n",
    "    \n",
    "    ax.annotate('Nationality: ' + nationality.upper(), xy=(10,10), xytext=(103, 138),\n",
    "                fontsize= 12,\n",
    "                color = 'white',\n",
    "                bbox={'facecolor': color_annotate, 'pad': 7})\n",
    "                      \n",
    "    ax.annotate('Age: ' + str(age), xy=(10,10), xytext=(43, 180),\n",
    "                fontsize= 15,\n",
    "                color = 'white',\n",
    "                bbox={'facecolor': color_annotate, 'pad': 7})\n",
    "    \n",
    "    ax.annotate('Team: ' + club.upper(), xy=(10,10), xytext=(92, 168),\n",
    "                fontsize= 12,\n",
    "                color = 'white',\n",
    "                bbox={'facecolor': color_annotate, 'pad': 7})\n",
    "\n",
    "    arr_img_player = plt.imread(player_image, format='jpg')\n",
    "\n",
    "    imagebox_player = OffsetImage(arr_img_player)\n",
    "    imagebox_player.image.axes = ax\n",
    "    abPlayer = AnnotationBbox(imagebox_player, (0.5, 0.7),\n",
    "                        xybox=(313, 223),\n",
    "                        xycoords='data',\n",
    "                        boxcoords=\"offset points\"\n",
    "                        )\n",
    "    arr_img_logo = plt.imread(logo_image, format='jpg')\n",
    "\n",
    "    imagebox_logo = OffsetImage(arr_img_logo)\n",
    "    imagebox_logo.image.axes = ax\n",
    "    abLogo = AnnotationBbox(imagebox_logo, (0.5, 0.7),\n",
    "                        xybox=(-320, -226),\n",
    "                        xycoords='data',\n",
    "                        boxcoords=\"offset points\"\n",
    "                        )\n",
    "\n",
    "    ax.add_artist(abPlayer)\n",
    "    ax.add_artist(abLogo)\n",
    "\n",
    "    plt.title(title, size=50, color= basic_color)\n",
    "    \n",
    "\n",
    "def defending(data):\n",
    "    return int(round((data[['Marking', 'StandingTackle', \n",
    "                               'SlidingTackle']].mean()).mean()))\n",
    "\n",
    "def general(data):\n",
    "    return int(round((data[['HeadingAccuracy', 'Dribbling', 'Curve', \n",
    "                               'BallControl']].mean()).mean()))\n",
    "\n",
    "def mental(data):\n",
    "    return int(round((data[['Aggression', 'Interceptions', 'Positioning', \n",
    "                               'Vision','Composure']].mean()).mean()))\n",
    "\n",
    "def passing(data):\n",
    "    return int(round((data[['Crossing', 'ShortPassing', \n",
    "                               'LongPassing']].mean()).mean()))\n",
    "\n",
    "def mobility(data):\n",
    "    return int(round((data[['Acceleration', 'SprintSpeed', \n",
    "                               'Agility','Reactions']].mean()).mean()))\n",
    "def power(data):\n",
    "    return int(round((data[['Balance', 'Jumping', 'Stamina', \n",
    "                               'Strength']].mean()).mean()))\n",
    "\n",
    "def rating(data):\n",
    "    return int(round((data[['Potential', 'Overall']].mean()).mean()))\n",
    "\n",
    "def shooting(data):\n",
    "    return int(round((data[['Finishing', 'Volleys', 'FKAccuracy', \n",
    "                               'ShotPower','LongShots', 'Penalties']].mean()).mean()))\n",
    "\n",
    "\n",
    "\n",
    "\n",
    "def graphPolar(data= None, id = 0):\n",
    "    # renaming a column\n",
    "    data.rename(columns={'Club Logo':'Club_Logo'}, inplace=True)\n",
    "\n",
    "    # adding these categories to the data\n",
    "\n",
    "    data['Defending'] = data.apply(defending, axis = 1)\n",
    "    data['General'] = data.apply(general, axis = 1)\n",
    "    data['Mental'] = data.apply(mental, axis = 1)\n",
    "    data['Passing'] = data.apply(passing, axis = 1)\n",
    "    data['Mobility'] = data.apply(mobility, axis = 1)\n",
    "    data['Power'] = data.apply(power, axis = 1)\n",
    "    data['Rating'] = data.apply(rating, axis = 1)\n",
    "    data['Shooting'] = data.apply(shooting, axis = 1)\n",
    "    players = data[['Name','Defending','General','Mental','Passing',\n",
    "                'Mobility','Power','Rating','Shooting','Flag','Age',\n",
    "                'Nationality', 'Photo', 'Club_Logo', 'Club']]\n",
    "    if 0 <= id < len(data.ID):\n",
    "        details(row = players.index[id], \n",
    "                title = players['Name'][id], \n",
    "                age = players['Age'][id], \n",
    "                photo = players['Photo'][id],\n",
    "                nationality = players['Nationality'][id],\n",
    "                image = players['Flag'][id], \n",
    "                logo = players['Club_Logo'][id], \n",
    "                club = players['Club'][id])\n",
    "    else:\n",
    "        print('The base has 17917 players. You can put positive numbers from 0 to 17917')"
   ]
  },
  {
   "cell_type": "code",
   "execution_count": 23,
   "metadata": {},
   "outputs": [
    {
     "ename": "NameError",
     "evalue": "name 'players' is not defined",
     "output_type": "error",
     "traceback": [
      "\u001b[0;31m---------------------------------------------------------------------------\u001b[0m",
      "\u001b[0;31mNameError\u001b[0m                                 Traceback (most recent call last)",
      "\u001b[0;32m<ipython-input-23-586ecc7d5b6e>\u001b[0m in \u001b[0;36m<module>\u001b[0;34m\u001b[0m\n\u001b[0;32m----> 1\u001b[0;31m \u001b[0mgraphPolar\u001b[0m\u001b[0;34m(\u001b[0m\u001b[0mdata\u001b[0m\u001b[0;34m=\u001b[0m\u001b[0mfifa19\u001b[0m\u001b[0;34m,\u001b[0m \u001b[0mid\u001b[0m\u001b[0;34m=\u001b[0m\u001b[0;36m0\u001b[0m\u001b[0;34m)\u001b[0m\u001b[0;34m\u001b[0m\u001b[0;34m\u001b[0m\u001b[0m\n\u001b[0m",
      "\u001b[0;32m<ipython-input-20-69bf35ab7075>\u001b[0m in \u001b[0;36mgraphPolar\u001b[0;34m(data, id)\u001b[0m\n\u001b[1;32m    161\u001b[0m                 \u001b[0mimage\u001b[0m \u001b[0;34m=\u001b[0m \u001b[0mplayers\u001b[0m\u001b[0;34m[\u001b[0m\u001b[0;34m'Flag'\u001b[0m\u001b[0;34m]\u001b[0m\u001b[0;34m[\u001b[0m\u001b[0mid\u001b[0m\u001b[0;34m]\u001b[0m\u001b[0;34m,\u001b[0m\u001b[0;34m\u001b[0m\u001b[0;34m\u001b[0m\u001b[0m\n\u001b[1;32m    162\u001b[0m                 \u001b[0mlogo\u001b[0m \u001b[0;34m=\u001b[0m \u001b[0mplayers\u001b[0m\u001b[0;34m[\u001b[0m\u001b[0;34m'Club_Logo'\u001b[0m\u001b[0;34m]\u001b[0m\u001b[0;34m[\u001b[0m\u001b[0mid\u001b[0m\u001b[0;34m]\u001b[0m\u001b[0;34m,\u001b[0m\u001b[0;34m\u001b[0m\u001b[0;34m\u001b[0m\u001b[0m\n\u001b[0;32m--> 163\u001b[0;31m                 club = players['Club'][id])\n\u001b[0m\u001b[1;32m    164\u001b[0m     \u001b[0;32melse\u001b[0m\u001b[0;34m:\u001b[0m\u001b[0;34m\u001b[0m\u001b[0;34m\u001b[0m\u001b[0m\n\u001b[1;32m    165\u001b[0m         \u001b[0mprint\u001b[0m\u001b[0;34m(\u001b[0m\u001b[0;34m'The base has 17917 players. You can put positive numbers from 0 to 17917'\u001b[0m\u001b[0;34m)\u001b[0m\u001b[0;34m\u001b[0m\u001b[0;34m\u001b[0m\u001b[0m\n",
      "\u001b[0;32m<ipython-input-20-69bf35ab7075>\u001b[0m in \u001b[0;36mdetails\u001b[0;34m(row, title, image, age, nationality, photo, logo, club)\u001b[0m\n\u001b[1;32m     36\u001b[0m \u001b[0;34m\u001b[0m\u001b[0m\n\u001b[1;32m     37\u001b[0m     \u001b[0mplt\u001b[0m\u001b[0;34m.\u001b[0m\u001b[0mfigure\u001b[0m\u001b[0;34m(\u001b[0m\u001b[0mfigsize\u001b[0m\u001b[0;34m=\u001b[0m\u001b[0;34m(\u001b[0m\u001b[0;36m15\u001b[0m\u001b[0;34m,\u001b[0m\u001b[0;36m8\u001b[0m\u001b[0;34m)\u001b[0m\u001b[0;34m)\u001b[0m\u001b[0;34m\u001b[0m\u001b[0;34m\u001b[0m\u001b[0m\n\u001b[0;32m---> 38\u001b[0;31m     \u001b[0mcategories\u001b[0m\u001b[0;34m=\u001b[0m\u001b[0mlist\u001b[0m\u001b[0;34m(\u001b[0m\u001b[0mplayers\u001b[0m\u001b[0;34m)\u001b[0m\u001b[0;34m[\u001b[0m\u001b[0;36m1\u001b[0m\u001b[0;34m:\u001b[0m\u001b[0;34m]\u001b[0m\u001b[0;34m\u001b[0m\u001b[0;34m\u001b[0m\u001b[0m\n\u001b[0m\u001b[1;32m     39\u001b[0m     \u001b[0mcoulumnDontUseGraph\u001b[0m \u001b[0;34m=\u001b[0m \u001b[0;34m[\u001b[0m\u001b[0;34m'Flag'\u001b[0m\u001b[0;34m,\u001b[0m \u001b[0;34m'Age'\u001b[0m\u001b[0;34m,\u001b[0m \u001b[0;34m'Nationality'\u001b[0m\u001b[0;34m,\u001b[0m \u001b[0;34m'Photo'\u001b[0m\u001b[0;34m,\u001b[0m \u001b[0;34m'Logo'\u001b[0m\u001b[0;34m,\u001b[0m \u001b[0;34m'Club'\u001b[0m\u001b[0;34m]\u001b[0m\u001b[0;34m\u001b[0m\u001b[0;34m\u001b[0m\u001b[0m\n\u001b[1;32m     40\u001b[0m     \u001b[0mN\u001b[0m \u001b[0;34m=\u001b[0m \u001b[0mlen\u001b[0m\u001b[0;34m(\u001b[0m\u001b[0mcategories\u001b[0m\u001b[0;34m)\u001b[0m \u001b[0;34m-\u001b[0m \u001b[0mlen\u001b[0m\u001b[0;34m(\u001b[0m\u001b[0mcoulumnDontUseGraph\u001b[0m\u001b[0;34m)\u001b[0m\u001b[0;34m\u001b[0m\u001b[0;34m\u001b[0m\u001b[0m\n",
      "\u001b[0;31mNameError\u001b[0m: name 'players' is not defined"
     ]
    },
    {
     "data": {
      "text/plain": [
       "<Figure size 1080x576 with 0 Axes>"
      ]
     },
     "metadata": {},
     "output_type": "display_data"
    }
   ],
   "source": [
    "graphPolar(data=fifa19, id=0)"
   ]
  },
  {
   "cell_type": "raw",
   "metadata": {},
   "source": []
  },
  {
   "cell_type": "code",
   "execution_count": null,
   "metadata": {},
   "outputs": [],
   "source": []
  },
  {
   "cell_type": "code",
   "execution_count": null,
   "metadata": {},
   "outputs": [],
   "source": []
  },
  {
   "cell_type": "code",
   "execution_count": null,
   "metadata": {
    "_uuid": "a6946761bcaad52cba0531322856e969e44d35ec",
    "collapsed": true
   },
   "outputs": [],
   "source": [
    "countries = pd.read_csv(\"../input/world-cup-dataset/01 2018 World Cup Team Statistics.csv\")\n",
    "historical = pd.read_csv(\"../input/world-cup-dataset/02 Historical Data on World Cup Matches.csv\")\n",
    "player_stats_18 = pd.read_csv(\"../input/world-cup-dataset/03 2018 FIFA Players Database.csv\")\n",
    "results = pd.read_csv(\"../input/cleaned-matches/cleaned_matches.csv\")\n",
    "squads = pd.read_csv(\"../input/2018-fifa-world-cup-squads/2018 FIFA World Cup Squads.csv\")\n",
    "fifa18 = pd.read_csv(\"../input/fifa-18-more-complete-player-dataset/complete.csv\")\n",
    "results_so_far = pd.read_csv(\"../input/updatedfixtures/05 2018 World Cup Match Fixtures.csv\")\n",
    "stats = pd.read_csv(\"../input/world-cup-dataset/01 2018 World Cup Team Statistics.csv\")\n",
    "world_cup = pd.read_csv(\"../input/fifa-worldcup-2018-dataset/World Cup 2018 Dataset.csv\")"
   ]
  },
  {
   "cell_type": "markdown",
   "metadata": {
    "_uuid": "c3d5d5e7b77905a825d00cddb171085a89f3a5e4"
   },
   "source": [
    "# **2. Data Cleaning**"
   ]
  },
  {
   "cell_type": "code",
   "execution_count": null,
   "metadata": {
    "_uuid": "88f956c729808295ce60d4418b1f3ae6ad840013",
    "collapsed": true
   },
   "outputs": [],
   "source": [
    "squads.Player = squads.Player.apply(lambda x: x[:-10] if \"captain\" in x else x)"
   ]
  },
  {
   "cell_type": "code",
   "execution_count": null,
   "metadata": {
    "_uuid": "27d4ad63a72026e29576256cbb9d2157bcdb9cdf",
    "collapsed": true
   },
   "outputs": [],
   "source": [
    "fifa18 = fifa18.replace({\"Korea Republic\":\"South Korea\"})\n",
    "wc_player_stats_18 = fifa18[fifa18[\"name\"].isin(squads.Player) | fifa18[\"full_name\"].isin(squads.Player)]\n",
    "wc_fifa18_stats = fifa18[fifa18.nationality.isin(squads.Team)]"
   ]
  },
  {
   "cell_type": "markdown",
   "metadata": {
    "_uuid": "e1d7d0d6d8b9347510faae14dbe617419c62461e"
   },
   "source": [
    "Updated Results as at 23/06"
   ]
  },
  {
   "cell_type": "code",
   "execution_count": null,
   "metadata": {
    "_uuid": "d40e586de896ad0fb112b1d533c4f50449a8084a",
    "collapsed": true
   },
   "outputs": [],
   "source": [
    "results_so_far = results_so_far.replace({\"Korea Republic\":\"South Korea\"})\n",
    "results_so_far[\"Result\"] = np.where(results_so_far[\"Home Team Goals\"] < results_so_far[\"Away Team Goals\"], 0, np.where(results_so_far[\"Home Team Goals\"]==results_so_far[\"Away Team Goals\"],1,2))\n",
    "results_so_far[\"Matches\"] = results_so_far[\"Home Team Name\"] + \",\" + results_so_far[\"Away Team Name\"]\n",
    "results_so_far = results_so_far.dropna(how=\"any\")\n",
    "results_so_far = results_so_far.drop([\"Year\",\"Match date\",\"Stage\",\"Stadium\",\"Group\"],axis=1)\n",
    "results_so_far[\"Home Team Goals\"] = results_so_far[\"Home Team Goals\"].apply(lambda x: int(x))\n",
    "results_so_far[\"Away Team Goals\"] = results_so_far[\"Away Team Goals\"].apply(lambda x: int(x))\n",
    "results_so_far.tail(2)"
   ]
  },
  {
   "cell_type": "code",
   "execution_count": null,
   "metadata": {
    "_uuid": "2bd7c21ba06451f4c84b5a5483922dc904792ca0",
    "collapsed": true
   },
   "outputs": [],
   "source": [
    "results = results.drop([\"Unnamed: 0\"],axis=1)\n",
    "results.reset_index(inplace=True,drop=True)\n",
    "results.tail(2)"
   ]
  },
  {
   "cell_type": "code",
   "execution_count": null,
   "metadata": {
    "_uuid": "b16014abea78fbd124eaaa3abe883d3cdded1231",
    "collapsed": true
   },
   "outputs": [],
   "source": [
    "world_cup = world_cup.loc[:, ['Team', 'Group', 'First match \\nagainst', 'Second match\\n against', 'Third match\\n against']]\n",
    "world_cup = world_cup.dropna(how='all')\n",
    "world_cup = world_cup.replace({\"IRAN\": \"Iran\", \n",
    "                               \"Costarica\": \"Costa Rica\", \n",
    "                               \"Porugal\": \"Portugal\", \n",
    "                               \"Columbia\": \"Colombia\", \n",
    "                               \"Korea\" : \"South Korea\"})\n",
    "world_cup = world_cup.set_index('Team')\n",
    "world_cup.head(4)"
   ]
  },
  {
   "cell_type": "code",
   "execution_count": null,
   "metadata": {
    "_uuid": "4c08c9120499d14401dd715e8985b6532a609fb6",
    "collapsed": true
   },
   "outputs": [],
   "source": [
    "wc_countries = countries[countries.team.isin(squads.Team)]\n",
    "wc_countries.head(2)"
   ]
  },
  {
   "cell_type": "code",
   "execution_count": null,
   "metadata": {
    "_uuid": "acb06fb495a70a3dc34ebd46aa5a41770a9347bf",
    "collapsed": true
   },
   "outputs": [],
   "source": [
    "squads = pd.read_csv(\"../input/2018-fifa-world-cup-squads/2018 FIFA World Cup Squads.csv\")\n",
    "rankings = pd.read_csv(\"../input/fifa-international-soccer-mens-ranking-1993now/fifa_ranking.csv\")\n",
    "\n",
    "rankings_prev = rankings[rankings[\"rank_date\"]==\"2018-05-17\"]\n",
    "rankings_prev = rankings_prev.replace({\"IR Iran\":\"Iran\",\"Korea Republic\":\"South Korea\"})\n",
    "rankings_prev = rankings_prev.loc[rankings_prev[\"country_full\"].isin(list(squads[\"Team\"]))]\n",
    "rankings_prev=rankings_prev.drop([\"country_abrv\",\"confederation\"],axis=1)\n",
    "rankings_prev.reset_index(inplace=True,drop=True)\n",
    "rankings_prev = rankings_prev.set_index(\"country_full\",drop=True)\n",
    "\n",
    "rankings_18 = rankings[rankings[\"rank_date\"]==\"2018-06-07\"]\n",
    "rankings_18 = rankings_18.replace({\"IR Iran\":\"Iran\",\"Korea Republic\":\"South Korea\"})\n",
    "rankings_18 = rankings_18.loc[rankings_18[\"country_full\"].isin(list(squads[\"Team\"]))]\n",
    "rankings_18=rankings_18.drop([\"country_abrv\",\"confederation\"],axis=1)\n",
    "rankings_18.reset_index(inplace=True,drop=True)\n",
    "rankings_18 = rankings_18.set_index(\"country_full\",drop=False)\n",
    "\n",
    "rankings_18[\"mean_weighted_over_years\"] = (rankings_18[\"cur_year_avg_weighted\"]+rankings_18[\"last_year_avg_weighted\"]+\n",
    "                                            rankings_18[\"two_year_ago_weighted\"]+rankings_18[\"three_year_ago_weighted\"])/4\n",
    "rankings_18.head()"
   ]
  },
  {
   "cell_type": "markdown",
   "metadata": {
    "_uuid": "334cddecb0e5b8db2a4dfcd58fc0e8b35b947635"
   },
   "source": [
    "# **3. Classification Models to predict match results (Win/Draw/Lose)**"
   ]
  },
  {
   "cell_type": "markdown",
   "metadata": {
    "_uuid": "3b6d77fad19080afde1ce1c57eb19d5970a6d1ed"
   },
   "source": [
    "**The 6 variables used to predict the results of a match are: **\n",
    "- Which stadium is it played at (0 -neutral, 1-away team's stadium, 2- home team's stadium)\n",
    "- Whether the match is an important match or a friendly match (0 - Friendly, 1- Important)\n",
    "- How much the Home team's rank changes compared to the past period \n",
    "- How much the Away team's rank changes compared to the past period \n",
    "- Difference in the 2 team's ranking\n",
    "- Difference in the 2 team's mean weighted ratings over the past 3 years"
   ]
  },
  {
   "cell_type": "code",
   "execution_count": null,
   "metadata": {
    "_uuid": "47b195e9e3faf1bda71fd6855087516480e8336e",
    "collapsed": true
   },
   "outputs": [],
   "source": [
    "x = results.loc[:,[\"country\",\"impt\",\"home_rank_change\",\"away_rank_change\",\"diff_in_ranking\",\"diff_in_mean_weighted_over_years\"]]\n",
    "y = results.loc[:,\"Result\"]"
   ]
  },
  {
   "cell_type": "markdown",
   "metadata": {
    "_uuid": "8fd612a5ddf1c68648cc3ed383398260b718952d"
   },
   "source": [
    "## **3.1 Splitting into training and test set**"
   ]
  },
  {
   "cell_type": "markdown",
   "metadata": {
    "_uuid": "3467157999e559e553e06871d41c35a81e94f43b"
   },
   "source": [
    "We shall use 80% of our dataset as our training set and 20% as our test set. We will also apply 5-fold Cross Validation"
   ]
  },
  {
   "cell_type": "code",
   "execution_count": null,
   "metadata": {
    "_uuid": "38ed1508fe7ed0de2c4b16aa36a139c3e79765ff",
    "collapsed": true
   },
   "outputs": [],
   "source": [
    "x_train,x_test,y_train,y_test=train_test_split(x,y,test_size=0.2,random_state=0)"
   ]
  },
  {
   "cell_type": "code",
   "execution_count": null,
   "metadata": {
    "_uuid": "7f95c1bb2c02d267efd2f6ad299e2d8d262ea24a",
    "collapsed": true
   },
   "outputs": [],
   "source": [
    "k_fold = KFold(n_splits=5, shuffle=True, random_state=0)"
   ]
  },
  {
   "cell_type": "markdown",
   "metadata": {
    "_uuid": "e9e8284b3b4ee6d84ffd13b55fe289979da963b7"
   },
   "source": [
    "Let's define some function to evaluate our models"
   ]
  },
  {
   "cell_type": "code",
   "execution_count": null,
   "metadata": {
    "_uuid": "ed8be554a580b1dc2f845e6e18f492c895acdfdb",
    "collapsed": true
   },
   "outputs": [],
   "source": [
    "def train_acc_score(model):\n",
    "    return round(np.mean(cross_val_score(model,x_train,y_train,cv=k_fold,scoring=\"accuracy\")),2)\n",
    "\n",
    "def test_acc_score(model):\n",
    "    return round(accuracy_score(y_test, model.predict(x_test)),2)\n",
    "\n",
    "def train_prec_score(model):\n",
    "    return round(precision_score(y_train,model.predict(x_train),average='macro'),2)\n",
    "\n",
    "def test_prec_score(model):\n",
    "    return round(precision_score(y_test,model.predict(x_test),average='macro'),2)\n",
    "\n",
    "def train_f1(model):\n",
    "    return round(f1_score(y_train,model.predict(x_train),average='macro'),2)\n",
    "\n",
    "def test_f1(model):\n",
    "    return round(f1_score(y_test,model.predict(x_test),average='macro'),2)\n",
    "\n",
    "def confusion_matrix_model(model_used):\n",
    "    cm=confusion_matrix(y_test,model_used.predict(x_test))\n",
    "    col=[\"Predicted Away Win\",\"Predicted Draw\",\"Predicted Home Win\"]\n",
    "    cm=pd.DataFrame(cm)\n",
    "    cm.columns=[\"Predicted Away Win\",\"Predicted Draw\",\"Predicted Home Win\"]\n",
    "    cm.index=[\"Actual Away Win\",\"Actual Draw\",\"Actual Home Win\"]\n",
    "    return cm.T\n",
    "\n",
    "def confusion_matrix_model_train(model_used):\n",
    "    cm=confusion_matrix(y_train,model_used.predict(x_train))\n",
    "    col=[\"Predicted Away Win\",\"Predicted Draw\",\"Predicted Home Win\"]\n",
    "    cm=pd.DataFrame(cm)\n",
    "    cm.columns=[\"Predicted Away Win\",\"Predicted Draw\",\"Predicted Home Win\"]\n",
    "    cm.index=[\"Actual Away Win\",\"Actual Draw\",\"Actual Home Win\"]\n",
    "    return cm.T\n",
    "\n",
    "def importance_of_features(model):\n",
    "    features = pd.DataFrame()\n",
    "    features['feature'] = x_train.columns\n",
    "    features['importance'] = model.feature_importances_\n",
    "    features.sort_values(by=['importance'], ascending=True, inplace=True)\n",
    "    features.set_index('feature', inplace=True)\n",
    "    return features.plot(kind='barh', figsize=(6,6))"
   ]
  },
  {
   "cell_type": "markdown",
   "metadata": {
    "_uuid": "a5240ee242c448208dd8a0a2c3a6a7d2dcbfec54"
   },
   "source": [
    "## **3.2 Building classification models to predict results**"
   ]
  },
  {
   "cell_type": "markdown",
   "metadata": {
    "_uuid": "2eec9bfa4745ef6def938ede9d9cdaca1b13f354"
   },
   "source": [
    "The models will be optimised using GridSearchCV based on F1 score. F1 score gives a weighted average between precision and accuracy/recall. It tells you how precise your classifier is (how many instances it classifies correctly), as well as how robust it is (it does not miss a significant number of instances).\n",
    "\n",
    "I have typed in some of the optimised parameters based on the GridSearchCV code output, then commented out the GridSearchCV codes to make the notebook run faster as it won't be re-optimised.\n",
    "\n",
    "Confusion matrix table and details will only be shown for the final selected models in order to save space. There would be a summary of each models in the evaluation section below"
   ]
  },
  {
   "cell_type": "markdown",
   "metadata": {
    "_uuid": "ceeb9ea422f8c06c4e63f0d74edbcf46279e1d18"
   },
   "source": [
    "**3.2.1. Logistic Regression (Lasso)**"
   ]
  },
  {
   "cell_type": "code",
   "execution_count": null,
   "metadata": {
    "_uuid": "4aa0fceeca9cb1ec9efa85c9b4d2a3127b57aa8e",
    "collapsed": true
   },
   "outputs": [],
   "source": [
    "param_grid = dict(C=(0.0001,0.001,0.005,0.01,0.1,0.5,1))\n",
    "log_reg1 = GridSearchCV(LogisticRegression(penalty=\"l1\"),param_grid=param_grid,scoring=\"f1_macro\")\n",
    "#log_reg1=LogisticRegression(penalty=\"l1\")\n",
    "log_reg1.fit(x_train,y_train)\n",
    "print(log_reg1.best_params_)\n",
    "print(\"In-sample accuracy: \" + str(train_acc_score(log_reg1)))\n",
    "print(\"Test accuracy: \" + str(test_acc_score(log_reg1)))\n",
    "print (\"In-sample Precision Score: \" + str(train_prec_score(log_reg1)))\n",
    "print (\"Test Precision Score: \" + str(test_prec_score(log_reg1)))\n",
    "print (\"In-sample F1 Score: \" + str(train_f1(log_reg1)))\n",
    "print (\"Test F1 Score: \" + str(test_f1(log_reg1)))\n",
    "#confusion_matrix_model_train(log_reg1)"
   ]
  },
  {
   "cell_type": "markdown",
   "metadata": {
    "_uuid": "e2985bc1dc4778dce885ee9e20e77cb85fb47f21"
   },
   "source": [
    "**3.2.2. Logistic Regression (Ridge)**"
   ]
  },
  {
   "cell_type": "code",
   "execution_count": null,
   "metadata": {
    "_uuid": "13ba0dca0d886c8dfa52bf0861b064d44e660167",
    "collapsed": true
   },
   "outputs": [],
   "source": [
    "param_grid = dict(C=(0.0001,0.001,0.005,0.01,0.1,0.5,1))\n",
    "log_reg2 = GridSearchCV(LogisticRegression(penalty=\"l2\"),param_grid=param_grid,scoring=\"f1_macro\")\n",
    "#log_reg2=LogisticRegression(penalty=\"l2\",C=0.01)\n",
    "log_reg2.fit(x_train,y_train)\n",
    "print(log_reg2.best_params_)\n",
    "print(\"In-sample accuracy: \" + str(train_acc_score(log_reg2)))\n",
    "print(\"Test accuracy: \" + str(test_acc_score(log_reg2)))\n",
    "print (\"In-sample Precision Score: \" + str(train_prec_score(log_reg2)))\n",
    "print (\"Test Precision Score: \" + str(test_prec_score(log_reg2)))\n",
    "print (\"In-sample F1 Score: \" + str(train_f1(log_reg2)))\n",
    "print (\"Test F1 Score: \" + str(test_f1(log_reg2)))\n",
    "#confusion_matrix_model_train(log_reg2)"
   ]
  },
  {
   "cell_type": "markdown",
   "metadata": {
    "_uuid": "1d6c4318368e3ca8e2f335f3b17f42b8d84cb6f0"
   },
   "source": [
    "**3.2.3. SVM (RBF Kernel)**"
   ]
  },
  {
   "cell_type": "code",
   "execution_count": null,
   "metadata": {
    "_uuid": "7584978ddfc9c397da322fbe5fad73b8a2345f77",
    "collapsed": true
   },
   "outputs": [],
   "source": [
    "#param_grid = dict(C=(0.001,0.01,0.1,0.5,1,2),gamma=(0.001,0.01,0.1,0.5,1,2))\n",
    "#svc_rbf = GridSearchCV(SVC(kernel=\"rbf\",random_state=0),param_grid=param_grid,scoring=\"f1_macro\")\n",
    "svc_rbf = SVC(kernel='rbf', gamma=0.001, C=0.5,random_state=0)\n",
    "svc_rbf.fit(x_train, y_train)\n",
    "#print(svc_rbf.best_params_)\n",
    "print(\"In-sample accuracy: \" + str(train_acc_score(svc_rbf)))\n",
    "print(\"Test accuracy: \" + str(test_acc_score(svc_rbf)))\n",
    "print (\"In-sample Precision Score: \" + str(train_prec_score(svc_rbf)))\n",
    "print (\"Test Precision Score: \" + str(test_prec_score(svc_rbf)))\n",
    "print (\"In-sample F1 Score: \" + str(train_f1(svc_rbf)))\n",
    "print (\"Test F1 Score: \" + str(test_f1(svc_rbf)))\n",
    "#confusion_matrix_model_train(svc_rbf)"
   ]
  },
  {
   "cell_type": "markdown",
   "metadata": {
    "_uuid": "c87c05b0dda4ea1734d3c78517a1491f507b97c0"
   },
   "source": [
    "**3.2.4. SVM (Linear Kernel)**"
   ]
  },
  {
   "cell_type": "code",
   "execution_count": null,
   "metadata": {
    "_uuid": "d5ee8711ef6fdd409bf4fe64e24db3d4bc1f8688",
    "collapsed": true
   },
   "outputs": [],
   "source": [
    "#param_grid = dict(C=(0.001,0.01,0.1,0.5,1,2),gamma=(0.001,0.01,0.1,0.5,1,2))\n",
    "#svc_lin= GridSearchCV(SVC(kernel=\"linear\",random_state=0),param_grid=param_grid,scoring=\"f1_macro\")\n",
    "svc_lin = SVC(kernel='linear', gamma=0.001, C=0.1,random_state=0)\n",
    "svc_lin.fit(x_train, y_train)\n",
    "#print(svc_lin.best_params_)\n",
    "print(\"In-sample accuracy: \" + str(train_acc_score(svc_lin)))\n",
    "print(\"Test accuracy: \" + str(test_acc_score(svc_lin)))\n",
    "print (\"In-sample Precision Score: \" + str(train_prec_score(svc_lin)))\n",
    "print (\"Test Precision Score: \" + str(test_prec_score(svc_lin)))\n",
    "print (\"In-sample F1 Score: \" + str(train_f1(svc_lin)))\n",
    "print (\"Test F1 Score: \" + str(test_f1(svc_lin)))\n",
    "#confusion_matrix_model_train(svc_lin)"
   ]
  },
  {
   "cell_type": "markdown",
   "metadata": {
    "_uuid": "540440f636f9556798b6c3f8f81252f349123ec8"
   },
   "source": [
    "**3.2.5. K-Nearest Neighbour**"
   ]
  },
  {
   "cell_type": "code",
   "execution_count": null,
   "metadata": {
    "_uuid": "ad86c2dc181e5389f9bdef34ac9b124d4c6a2827",
    "collapsed": true
   },
   "outputs": [],
   "source": [
    "#param_grid = dict(n_neighbors=np.arange(10,70),weights=(\"uniform\",\"distance\"),p=(1,2))\n",
    "#KNN = GridSearchCV(KNeighborsClassifier(),param_grid=param_grid,scoring=\"f1_macro\")\n",
    "KNN=KNeighborsClassifier(n_neighbors=16,p=1,weights='uniform')\n",
    "KNN.fit(x_train,y_train)\n",
    "#print(KNN.best_params_)\n",
    "print(\"In-sample accuracy: \" + str(train_acc_score(KNN)))\n",
    "print(\"Test accuracy: \" + str(test_acc_score(KNN)))\n",
    "print (\"In-sample Precision Score: \" + str(train_prec_score(KNN)))\n",
    "print (\"Test Precision Score: \" + str(test_prec_score(KNN)))\n",
    "print (\"In-sample F1 Score: \" + str(train_f1(KNN)))\n",
    "print (\"Test F1 Score: \" + str(test_f1(KNN)))\n",
    "#confusion_matrix_model_train(KNN)"
   ]
  },
  {
   "cell_type": "markdown",
   "metadata": {
    "_uuid": "aef87ef6057bf35989d37063c0dd0cb6f43ea01a"
   },
   "source": [
    "**3.2.6. Decision Tree**"
   ]
  },
  {
   "cell_type": "code",
   "execution_count": null,
   "metadata": {
    "_uuid": "628361af87b56896e067f8331a3a545ea2455d07",
    "collapsed": true
   },
   "outputs": [],
   "source": [
    "#param_grid = dict(max_depth=np.arange(4,10),min_samples_leaf=np.arange(1,8),min_samples_split=np.arange(2,8),max_leaf_nodes=np.arange(30,100,10))\n",
    "#Dec_tree = GridSearchCV(DecisionTreeClassifier(),param_grid=param_grid,scoring=\"f1_macro\")\n",
    "Dec_tree=DecisionTreeClassifier(max_depth= 8, max_leaf_nodes= 40, min_samples_leaf= 1, min_samples_split= 7)\n",
    "Dec_tree.fit(x_train,y_train)\n",
    "#print(Dec_tree.best_params_)\n",
    "print(\"In-sample accuracy: \" + str(train_acc_score(Dec_tree)))\n",
    "print(\"Test accuracy: \" + str(test_acc_score(Dec_tree)))\n",
    "print (\"In-sample Precision Score: \" + str(train_prec_score(Dec_tree)))\n",
    "print (\"Test Precision Score: \" + str(test_prec_score(Dec_tree)))\n",
    "print (\"In-sample F1 Score: \" + str(train_f1(Dec_tree)))\n",
    "print (\"Test F1 Score: \" + str(test_f1(Dec_tree)))\n",
    "#confusion_matrix_model_train(Dec_tree)"
   ]
  },
  {
   "cell_type": "markdown",
   "metadata": {
    "_uuid": "44fc97b03e22e6d1a5f83c246df1d9b577fe1420"
   },
   "source": [
    "**3.2.7. Random Forest**"
   ]
  },
  {
   "cell_type": "code",
   "execution_count": null,
   "metadata": {
    "_uuid": "e89df97c1d263441dc75dff57b1d9f8cc896c932",
    "collapsed": true
   },
   "outputs": [],
   "source": [
    "#param_grid = dict(max_depth=np.arange(3,10),min_samples_leaf=np.arange(1,10),min_samples_split=np.arange(2,6),max_leaf_nodes=np.arange(50,120,10))\n",
    "#param_grid = dict(n_estimators = np.arange(50,500,50))\n",
    "#ranfor = GridSearchCV(RandomForestClassifier(max_depth= 7, max_leaf_nodes=50, min_samples_leaf= 7, min_samples_split= 4,random_state=0),param_grid=param_grid,scoring=\"f1_macro\")\n",
    "ranfor = RandomForestClassifier(n_estimators=50,max_depth= 7, max_leaf_nodes=50, min_samples_leaf= 7, min_samples_split= 4,random_state=0)\n",
    "ranfor.fit(x_train,y_train)\n",
    "#print(ranfor.best_params_)\n",
    "print(\"In-sample accuracy: \" + str(train_acc_score(ranfor)))\n",
    "print(\"Test accuracy: \" + str(test_acc_score(ranfor)))\n",
    "print (\"In-sample Precision Score: \" + str(train_prec_score(ranfor)))\n",
    "print (\"Test Precision Score: \" + str(test_prec_score(ranfor)))\n",
    "print (\"In-sample F1 Score: \" + str(train_f1(ranfor)))\n",
    "print (\"Test F1 Score: \" + str(test_f1(ranfor)))\n",
    "#confusion_matrix_model_train(ranfor)"
   ]
  },
  {
   "cell_type": "markdown",
   "metadata": {
    "_uuid": "66056b7f557383aacd612c640f09afa9e2470848"
   },
   "source": [
    "**3.2.8. XGBoosting**"
   ]
  },
  {
   "cell_type": "code",
   "execution_count": null,
   "metadata": {
    "_uuid": "0abd26535587d428c5ce681db04bc1be902daf3d",
    "collapsed": true
   },
   "outputs": [],
   "source": [
    "#param_grid = dict(n_estimators=np.arange(50,500,50),max_depth=np.arange(6,12),learning_rate=(0.0001,0.001,0.01,0.1))\n",
    "#xgclass = GridSearchCV(xgb.XGBClassifier(random_state=0),param_grid=param_grid,scoring=\"f1_macro\")\n",
    "xgclass = xgb.XGBClassifier(max_depth=9, n_estimators=450, learning_rate=0.01)\n",
    "xgclass.fit(x_train,y_train)\n",
    "#print(xgclass.best_params_)\n",
    "print(\"In-sample accuracy: \" + str(train_acc_score(xgclass)))\n",
    "print(\"Test accuracy: \" + str(test_acc_score(xgclass)))\n",
    "print (\"In-sample Precision Score: \" + str(train_prec_score(xgclass)))\n",
    "print (\"Test Precision Score: \" + str(test_prec_score(xgclass)))\n",
    "print (\"In-sample F1 Score: \" + str(train_f1(xgclass)))\n",
    "print (\"Test F1 Score: \" + str(test_f1(xgclass)))\n",
    "confusion_matrix_model_train(xgclass)"
   ]
  },
  {
   "cell_type": "code",
   "execution_count": null,
   "metadata": {
    "_uuid": "c27c9b652a47e7715347c03c5eafe15f51c78742",
    "collapsed": true
   },
   "outputs": [],
   "source": [
    "importance_of_features(xgclass)"
   ]
  },
  {
   "cell_type": "markdown",
   "metadata": {
    "_uuid": "234847758ef70efb62e6b04987bc4c21cd93b74f"
   },
   "source": [
    "## **3.3 Evaluation for models predicting results**"
   ]
  },
  {
   "cell_type": "code",
   "execution_count": null,
   "metadata": {
    "_uuid": "57fcadca365d0344e60b1ac2ac085c3adec585d6",
    "collapsed": true
   },
   "outputs": [],
   "source": [
    "Classifiers=[\"Logistic Regression (Lasso)\",\"Logistic Regression (Ridge)\",\"Support Vector Machine (RBF)\",\"Support Vector Machine(Linear)\",\"K-Nearest Neighbours\",\"Decision Tree\",\"Random Forest\",\"XGBoost\"]\n",
    "in_sample_acc=[round(train_acc_score(x),2) for x in [log_reg1,log_reg2,svc_rbf,svc_lin,KNN,Dec_tree,ranfor,xgclass]]\n",
    "test_acc=[round(test_acc_score(x),2) for x in [log_reg1,log_reg2,svc_rbf,svc_lin,KNN,Dec_tree,ranfor,xgclass]]\n",
    "train_prec = [round(train_prec_score(x),2) for x in [log_reg1,log_reg2,svc_rbf,svc_lin,KNN,Dec_tree,ranfor,xgclass]]\n",
    "test_prec = [round(test_prec_score(x),2) for x in [log_reg1,log_reg2,svc_rbf,svc_lin,KNN,Dec_tree,ranfor,xgclass]]\n",
    "trainf1 = [train_f1(x) for x in [log_reg1,log_reg2,svc_rbf,svc_lin,KNN,Dec_tree,ranfor,xgclass]]\n",
    "testf1 = [test_f1(x) for x in [log_reg1,log_reg2,svc_rbf,svc_lin,KNN,Dec_tree,ranfor,xgclass]]\n",
    "cols=[\"Classifier\",\"Training Accuracy\",\"Test Accuracy\",\"Training Precision\",\"Test Precision\",\"Training F1 Score\",\"Test F1 Score\"]\n",
    "pred_results = pd.DataFrame(columns=cols)\n",
    "pred_results[\"Classifier\"]=Classifiers\n",
    "pred_results[\"Training Accuracy\"]=in_sample_acc\n",
    "pred_results[\"Test Accuracy\"]=test_acc\n",
    "pred_results[\"Training Precision\"]=train_prec\n",
    "pred_results[\"Test Precision\"]=test_prec\n",
    "pred_results[\"Training F1 Score\"]=trainf1\n",
    "pred_results[\"Test F1 Score\"]=testf1\n",
    "pred_results"
   ]
  },
  {
   "cell_type": "markdown",
   "metadata": {
    "_uuid": "c47168ec5ba2d1c5878503aff6c6b3dfa4911cf6"
   },
   "source": [
    "**Selected model to predict W/D/L result: **\n",
    "\n",
    "**XGBoost** --> Highest Test set F1 score, along with highest test set accuracy and precision "
   ]
  },
  {
   "cell_type": "markdown",
   "metadata": {
    "_uuid": "0028838fe2558282d0dd8410ddbd4db977413914"
   },
   "source": [
    "# **4. Classification Models to predict exact goals scored by Home and Away Sides**"
   ]
  },
  {
   "cell_type": "markdown",
   "metadata": {
    "_uuid": "dbe205d98e11ddfdb1d3632ffba68691e8f5d6ea"
   },
   "source": [
    "## **4.1 Splitting into training and test set**"
   ]
  },
  {
   "cell_type": "markdown",
   "metadata": {
    "_uuid": "ddc7acdf8a10bc7035089bbe31e5039637463cf7"
   },
   "source": [
    "Again, we will use 80-20 to split the training and test set with 5-fold cross validation. "
   ]
  },
  {
   "cell_type": "code",
   "execution_count": null,
   "metadata": {
    "_uuid": "ebb2122496029a2804a0ee8ef7e60807f91e908c",
    "collapsed": true
   },
   "outputs": [],
   "source": [
    "x = results.loc[:,[\"country\",\"impt\",\"home_rank_change\",\"away_rank_change\",\"diff_in_ranking\",\"diff_in_mean_weighted_over_years\"]]\n",
    "y_home=results.loc[:,\"home_score\"]\n",
    "y_away=results.loc[:,\"away_score\"]"
   ]
  },
  {
   "cell_type": "code",
   "execution_count": null,
   "metadata": {
    "_uuid": "a35625d1e7df12308b72b40b0e69ac6cc771d477",
    "collapsed": true
   },
   "outputs": [],
   "source": [
    "x_home_train,x_home_test,y_home_train,y_home_test=train_test_split(x,y_home,test_size=0.2,random_state=0)\n",
    "x_away_train,x_away_test,y_away_train,y_away_test=train_test_split(x,y_away,test_size=0.2,random_state=0)\n",
    "k_fold = KFold(n_splits=5, shuffle=True, random_state=0)"
   ]
  },
  {
   "cell_type": "markdown",
   "metadata": {
    "_uuid": "e77b6c34851d18d1fb612b142db18806617aa18e"
   },
   "source": [
    "Functions to evaluate the models for goals scored for home and away:"
   ]
  },
  {
   "cell_type": "code",
   "execution_count": null,
   "metadata": {
    "_uuid": "ab94246fdf9c619e11f33c0447d50ca882c60ba6",
    "collapsed": true
   },
   "outputs": [],
   "source": [
    "#home goals\n",
    "def home_train_acc_score(model):\n",
    "    return round(np.mean(cross_val_score(model,x_home_train,y_home_train,cv=k_fold,scoring=\"accuracy\")),2)\n",
    "def home_test_acc_score(model):\n",
    "    return round(accuracy_score(y_home_test, model.predict(x_home_test)),2)\n",
    "def home_train_prec_score(model):\n",
    "    return round(precision_score(y_home_train,model.predict(x_home_train),average='macro'),2)\n",
    "def home_test_prec_score(model):\n",
    "    return round(precision_score(y_home_test,model.predict(x_home_test),average='macro'),2)\n",
    "def home_train_f1(model):\n",
    "    return round(f1_score(y_home_train,model.predict(x_home_train),average='macro'),2)\n",
    "def home_test_f1(model):\n",
    "    return round(f1_score(y_home_test,model.predict(x_home_test),average='macro'),2)\n",
    "def home_confusion_matrix_model_train(model_used):\n",
    "    cm=confusion_matrix(y_home_train,model_used.predict(x_home_train))\n",
    "    col=[\"Predicted Home Goals: 0\",\"Predicted Home Goals: 1\",\"Predicted Home Goals: 2\",\"Predicted Home Goals: 3\",\"Predicted Home Goals: 4\",\"Predicted Home Goals: 5\",\"Predicted Home Goals: 6\"]\n",
    "    cm=pd.DataFrame(cm)\n",
    "    cm.columns=[\"Predicted Home Goals: 0\",\"Predicted Home Goals: 1\",\"Predicted Home Goals: 2\",\"Predicted Home Goals: 3\",\"Predicted Home Goals: 4\",\"Predicted Home Goals: 5\",\"Predicted Home Goals: 6\"]\n",
    "    cm.index=[\"Actual Home Goals: 0\",\"Actual Home Goals: 1\",\"Actual Home Goals: 2\",\"Actual Home Goals: 3\",\"Actual Home Goals: 4\",\"Actual Home Goals: 5\",\"Actual Home Goals: 6\"]\n",
    "    #cm[col]=np(cm[col])\n",
    "    return cm.T\n",
    "def home_confusion_matrix_model_test(model_used):\n",
    "    cm=confusion_matrix(y_home_test,model_used.predict(x_home_test))\n",
    "    col=[\"Predicted Home Goals: 0\",\"Predicted Home Goals: 1\",\"Predicted Home Goals: 2\",\"Predicted Home Goals: 3\",\"Predicted Home Goals: 4\",\"Predicted Home Goals: 5\",\"Predicted Home Goals: 6\"]\n",
    "    cm=pd.DataFrame(cm)\n",
    "    cm.columns=[\"Predicted Home Goals: 0\",\"Predicted Home Goals: 1\",\"Predicted Home Goals: 2\",\"Predicted Home Goals: 3\",\"Predicted Home Goals: 4\",\"Predicted Home Goals: 5\",\"Predicted Home Goals: 6\"]\n",
    "    cm.index=[\"Actual Home Goals: 0\",\"Actual Home Goals: 1\",\"Actual Home Goals: 2\",\"Actual Home Goals: 3\",\"Actual Home Goals: 4\",\"Actual Home Goals: 5\",\"Actual Home Goals: 6\"]\n",
    "    #cm[col]=np(cm[col])\n",
    "    return cm.T\n",
    "def home_importance_of_features(model):\n",
    "    features = pd.DataFrame()\n",
    "    features['feature'] = x_home_train.columns\n",
    "    features['importance'] = model.feature_importances_\n",
    "    features.sort_values(by=['importance'], ascending=True, inplace=True)\n",
    "    features.set_index('feature', inplace=True)\n",
    "    return features.plot(kind='barh', figsize=(10,10))\n",
    "\n",
    "#away goals\n",
    "def away_train_acc_score(model):\n",
    "    return round(np.mean(cross_val_score(model,x_away_train,y_away_train,cv=k_fold,scoring=\"accuracy\")),2)\n",
    "def away_test_acc_score(model):\n",
    "    return round(accuracy_score(y_away_test, model.predict(x_away_test)),2)\n",
    "def away_train_prec_score(model):\n",
    "    return round(precision_score(y_away_train,model.predict(x_away_train),average='macro'),2)\n",
    "def away_test_prec_score(model):\n",
    "    return round(precision_score(y_away_test,model.predict(x_away_test),average='macro'),2)\n",
    "def away_train_f1(model):\n",
    "    return round(f1_score(y_away_train,model.predict(x_away_train),average='macro'),2)\n",
    "def away_test_f1(model):\n",
    "    return round(f1_score(y_away_test,model.predict(x_away_test),average='macro'),2)\n",
    "def away_confusion_matrix_model_train(model_used):\n",
    "    cm=confusion_matrix(y_away_train,model_used.predict(x_away_train))\n",
    "    col=[\"Predicted Away Goals: 0\",\"Predicted Away Goals: 1\",\"Predicted Away Goals: 2\",\"Predicted Away Goals: 3\",\"Predicted Away Goals: 4\",\"Predicted Away Goals: 5\",\"Predicted Away Goals: 6\"]\n",
    "    cm=pd.DataFrame(cm)\n",
    "    cm.columns=[\"Predicted Away Goals: 0\",\"Predicted Away Goals: 1\",\"Predicted Away Goals: 2\",\"Predicted Away Goals: 3\",\"Predicted Away Goals: 4\",\"Predicted Away Goals: 5\",\"Predicted Away Goals: 6\"]\n",
    "    cm.index=[\"Actual Away Goals: 0\",\"Actual Away Goals: 1\",\"Actual Away Goals: 2\",\"Actual Away Goals: 3\",\"Actual Away Goals: 4\",\"Actual Away Goals: 5\",\"Actual Away Goals: 6\"]\n",
    "    #cm[col]=np(cm[col])\n",
    "    return cm.T\n",
    "def away_confusion_matrix_model_test(model_used):\n",
    "    cm=confusion_matrix(y_away_test,model_used.predict(x_away_test))\n",
    "    col=[\"Predicted Away Goals: 0\",\"Predicted Away Goals: 1\",\"Predicted Away Goals: 2\",\"Predicted Away Goals: 3\",\"Predicted Away Goals: 4\",\"Predicted Away Goals: 5\",\"Predicted Away Goals: 6\"]\n",
    "    cm=pd.DataFrame(cm)\n",
    "    cm.columns=[\"Predicted Away Goals: 0\",\"Predicted Away Goals: 1\",\"Predicted Away Goals: 2\",\"Predicted Away Goals: 3\",\"Predicted Away Goals: 4\",\"Predicted Away Goals: 5\",\"Predicted Away Goals: 6\"]\n",
    "    cm.index=[\"Actual Away Goals: 0\",\"Actual Away Goals: 1\",\"Actual Away Goals: 2\",\"Actual Away Goals: 3\",\"Actual Away Goals: 4\",\"Actual Away Goals: 5\",\"Actual Away Goals: 6\"]\n",
    "    #cm[col]=np(cm[col])\n",
    "    return cm.T\n",
    "def away_importance_of_features(model):\n",
    "    features = pd.DataFrame()\n",
    "    features['feature'] = x_away_train.columns\n",
    "    features['importance'] = model.feature_importances_\n",
    "    features.sort_values(by=['importance'], ascending=True, inplace=True)\n",
    "    features.set_index('feature', inplace=True)\n",
    "    return features.plot(kind='barh', figsize=(10,10))"
   ]
  },
  {
   "cell_type": "markdown",
   "metadata": {
    "_uuid": "29e93384a22c8a4174f9a816a6707ae1f0ae91b1"
   },
   "source": [
    "## **4.2 Classification models for goals scored by Home Side**"
   ]
  },
  {
   "cell_type": "markdown",
   "metadata": {
    "_uuid": "3d4aca8f27f6bd3a7e711be0a07425f3f8504332"
   },
   "source": [
    "Just like in (3.2), the models will be optimised using GridSearchCV based on F1 score. \n",
    "\n",
    "I have typed in some of the optimised parameters based on the GridSearchCV code output, then commented out the GridSearchCV codes to make the notebook run faster as it won't be re-optimised.\n",
    "\n",
    "Confusion matrix table and details will only be shown for the final selected models in order to save space. There would be a summary of each models in the evaluation section below"
   ]
  },
  {
   "cell_type": "markdown",
   "metadata": {
    "_uuid": "ef372bb28625e04533ab45631594d21438e60240"
   },
   "source": [
    "**4.2.1. Logistic Regression (Lasso)**"
   ]
  },
  {
   "cell_type": "code",
   "execution_count": null,
   "metadata": {
    "_uuid": "9ff2ac25740ec33ea6540a048e52877d6fa2529d",
    "collapsed": true
   },
   "outputs": [],
   "source": [
    "param_grid = dict(C=(0.0001,0.001,0.005,0.01,0.1,0.5,1))\n",
    "homelog_reg1 = GridSearchCV(LogisticRegression(penalty=\"l1\"),param_grid=param_grid,scoring=\"f1_macro\")\n",
    "#homelog_reg1=LogisticRegression(penalty=\"l1\")\n",
    "homelog_reg1.fit(x_home_train,y_home_train)\n",
    "#predicted=log_reg1.predict(x_test)\n",
    "print(homelog_reg1.best_params_)\n",
    "print(\"In-sample accuracy: \" + str(home_train_acc_score(homelog_reg1)))\n",
    "print(\"Test accuracy: \" + str(home_test_acc_score(homelog_reg1)))\n",
    "print (\"In-sample Precision Score: \" + str(home_train_prec_score(homelog_reg1)))\n",
    "print (\"Test Precision Score: \" + str(home_test_prec_score(homelog_reg1)))\n",
    "print (\"In-sample F1 Score: \" + str(home_train_f1(homelog_reg1)))\n",
    "print (\"Test F1 Score: \" + str(home_test_f1(homelog_reg1)))\n",
    "home_confusion_matrix_model_train(homelog_reg1)"
   ]
  },
  {
   "cell_type": "markdown",
   "metadata": {
    "_uuid": "174cfa741e9760080cbcb686b24e70b2a2fc3492"
   },
   "source": [
    "**4.2.2. Logistic Regression (Ridge)**"
   ]
  },
  {
   "cell_type": "code",
   "execution_count": null,
   "metadata": {
    "_uuid": "f5a9821d5c348db8abcb0073428935560aefa271",
    "collapsed": true
   },
   "outputs": [],
   "source": [
    "param_grid = dict(C=(0.0001,0.001,0.005,0.01,0.1,0.5,1))\n",
    "homelog_reg2 = GridSearchCV(LogisticRegression(penalty=\"l2\"),param_grid=param_grid,scoring=\"f1_macro\")\n",
    "#homelog_reg1=LogisticRegression(penalty=\"l1\")\n",
    "homelog_reg2.fit(x_home_train,y_home_train)\n",
    "#predicted=log_reg1.predict(x_test)\n",
    "print(homelog_reg2.best_params_)\n",
    "print(\"In-sample accuracy: \" + str(home_train_acc_score(homelog_reg2)))\n",
    "print(\"Test accuracy: \" + str(home_test_acc_score(homelog_reg2)))\n",
    "print (\"In-sample Precision Score: \" + str(home_train_prec_score(homelog_reg2)))\n",
    "print (\"Test Precision Score: \" + str(home_test_prec_score(homelog_reg2)))\n",
    "print (\"In-sample F1 Score: \" + str(home_train_f1(homelog_reg2)))\n",
    "print (\"Test F1 Score: \" + str(home_test_f1(homelog_reg2)))\n",
    "#home_confusion_matrix_model_train(homelog_reg2)"
   ]
  },
  {
   "cell_type": "markdown",
   "metadata": {
    "_uuid": "843f5dd5a35e352c0bf4e2de4348c4d25d0e3be3"
   },
   "source": [
    "**4.2.3. SVM (RBF Kernel)**"
   ]
  },
  {
   "cell_type": "code",
   "execution_count": null,
   "metadata": {
    "_uuid": "0b06bf8f9f3d2609bc4f0a501a8079a520cf42df",
    "collapsed": true
   },
   "outputs": [],
   "source": [
    "#param_grid = dict(C=(0.001,0.01,0.1,0.5,1,2),gamma=(0.001,0.01,0.1,0.5,1,2))\n",
    "#homesvc_rbf = GridSearchCV(SVC(kernel=\"rbf\",random_state=0),param_grid=param_grid,scoring=\"f1_macro\")\n",
    "homesvc_rbf = SVC(kernel='rbf', gamma=0.001, C=1,random_state=0)\n",
    "homesvc_rbf.fit(x_home_train, y_home_train)\n",
    "#print(homesvc_rbf.best_params_)\n",
    "print(\"In-sample accuracy: \" + str(home_train_acc_score(homesvc_rbf)))\n",
    "print(\"Test accuracy: \" + str(home_test_acc_score(homesvc_rbf)))\n",
    "print (\"In-sample Precision Score: \" + str(home_train_prec_score(homesvc_rbf)))\n",
    "print (\"Test Precision Score: \" + str(home_test_prec_score(homesvc_rbf)))\n",
    "print (\"In-sample F1 Score: \" + str(home_train_f1(homesvc_rbf)))\n",
    "print (\"Test F1 Score: \" + str(home_test_f1(homesvc_rbf)))\n",
    "#home_confusion_matrix_model_train(homesvc_rbf)"
   ]
  },
  {
   "cell_type": "markdown",
   "metadata": {
    "_uuid": "66a42a5bc1ab10c676d135850d33dfc8481e9bc9"
   },
   "source": [
    "**4.2.4. KNN** "
   ]
  },
  {
   "cell_type": "code",
   "execution_count": null,
   "metadata": {
    "_uuid": "003b9f8cbd07e0ad8f730e40ea09627dd89f5443",
    "collapsed": true
   },
   "outputs": [],
   "source": [
    "#param_grid = dict(n_neighbors=np.arange(10,70),weights=(\"uniform\",\"distance\"),p=(1,2))\n",
    "#homeKNN = GridSearchCV(KNeighborsClassifier(),param_grid=param_grid,scoring=\"f1_macro\")\n",
    "homeKNN=KNeighborsClassifier(n_neighbors=10,p=1,weights='uniform')\n",
    "homeKNN.fit(x_home_train,y_home_train)\n",
    "predicted=homeKNN.predict(x_home_test)\n",
    "#print(homeKNN.best_params_)\n",
    "print(\"In-sample accuracy: \" + str(home_train_acc_score(homeKNN)))\n",
    "print(\"Test accuracy: \" + str(home_test_acc_score(homeKNN)))\n",
    "print (\"In-sample Precision Score: \" + str(home_train_prec_score(homeKNN)))\n",
    "print (\"Test Precision Score: \" + str(home_test_prec_score(homeKNN)))\n",
    "print (\"In-sample F1 Score: \" + str(home_train_f1(homeKNN)))\n",
    "print (\"Test F1 Score: \" + str(home_test_f1(homeKNN)))\n",
    "#home_confusion_matrix_model_train(homeKNN)"
   ]
  },
  {
   "cell_type": "markdown",
   "metadata": {
    "_uuid": "b3849108adf55536c9e71ac9fd8d0a675fcd94cd"
   },
   "source": [
    "**4.2.5. Decision Tree**"
   ]
  },
  {
   "cell_type": "code",
   "execution_count": null,
   "metadata": {
    "_uuid": "81127a145ab88ff7eb0c06a3c6ef8f897e39cda3",
    "collapsed": true
   },
   "outputs": [],
   "source": [
    "#param_grid = dict(max_depth=np.arange(4,10),min_samples_leaf=np.arange(1,8),min_samples_split=np.arange(2,8),max_leaf_nodes=np.arange(30,100,10))\n",
    "#homeDec_tree = GridSearchCV(DecisionTreeClassifier(),param_grid=param_grid,scoring=\"f1_macro\")\n",
    "homeDec_tree=DecisionTreeClassifier(max_depth= 8, max_leaf_nodes= 50, min_samples_leaf= 1, min_samples_split= 6,random_state=0)\n",
    "homeDec_tree.fit(x_home_train,y_home_train)\n",
    "predicted=homeDec_tree.predict(x_home_test)\n",
    "#print(homeDec_tree.best_params_)\n",
    "print(\"In-sample accuracy: \" + str(home_train_acc_score(homeDec_tree)))\n",
    "print(\"Test accuracy: \" + str(home_test_acc_score(homeDec_tree)))\n",
    "print (\"In-sample Precision Score: \" + str(home_train_prec_score(homeDec_tree)))\n",
    "print (\"Test Precision Score: \" + str(home_test_prec_score(homeDec_tree)))\n",
    "print (\"In-sample F1 Score: \" + str(home_train_f1(homeDec_tree)))\n",
    "print (\"Test F1 Score: \" + str(home_test_f1(homeDec_tree)))\n",
    "#home_confusion_matrix_model_train(homeDec_tree)"
   ]
  },
  {
   "cell_type": "markdown",
   "metadata": {
    "_uuid": "f86aef1263a05283c84af78e483387cbeb528f9b"
   },
   "source": [
    "**4.2.6. Random Forest**"
   ]
  },
  {
   "cell_type": "code",
   "execution_count": null,
   "metadata": {
    "_uuid": "3c28cb8edc9288cb497957cec63e10f31e56cf49",
    "collapsed": true
   },
   "outputs": [],
   "source": [
    "#param_grid = dict(max_depth=np.arange(3,10),min_samples_leaf=np.arange(1,10),min_samples_split=np.arange(2,6),max_leaf_nodes=np.arange(50,120,10))\n",
    "#param_grid = dict(n_estimators = np.arange(50,500,50))\n",
    "#homeranfor = GridSearchCV(RandomForestClassifier(max_depth= 4, max_leaf_nodes=50, min_samples_leaf= 1, min_samples_split= 3,random_state=0),param_grid=param_grid,scoring=\"f1_macro\")\n",
    "homeranfor = RandomForestClassifier(n_estimators=250,max_depth= 4, max_leaf_nodes=50, min_samples_leaf= 1, min_samples_split= 3,random_state=0)\n",
    "homeranfor.fit(x_home_train,y_home_train)\n",
    "predicted=homeranfor.predict(x_home_test)\n",
    "#print(ranfor.best_params_)\n",
    "print(\"In-sample accuracy: \" + str(home_train_acc_score(homeranfor)))\n",
    "print(\"Test accuracy: \" + str(home_test_acc_score(homeranfor)))\n",
    "print (\"In-sample Precision Score: \" + str(home_train_prec_score(homeranfor)))\n",
    "print (\"Test Precision Score: \" + str(home_test_prec_score(homeranfor)))\n",
    "print (\"In-sample F1 Score: \" + str(home_train_f1(homeranfor)))\n",
    "print (\"Test F1 Score: \" + str(home_test_f1(homeranfor)))\n",
    "#home_confusion_matrix_model_train(homeranfor)"
   ]
  },
  {
   "cell_type": "markdown",
   "metadata": {
    "_uuid": "6058d829f798728ec910cf229f8d25ae281c5e81"
   },
   "source": [
    "**4.2.7. XGBooost**"
   ]
  },
  {
   "cell_type": "code",
   "execution_count": null,
   "metadata": {
    "_uuid": "fcfdf55c6e104ed4b38d3ee04e05d51992c811ee",
    "collapsed": true
   },
   "outputs": [],
   "source": [
    "#param_grid = dict(n_estimators=np.arange(50,500,50),max_depth=np.arange(6,12),learning_rate=(0.0001,0.001,0.01,0.1))\n",
    "#homexgclass = GridSearchCV(xgb.XGBClassifier(random_state=0),param_grid=param_grid,scoring=\"f1_macro\")\n",
    "homexgclass = xgb.XGBClassifier(max_depth=11, n_estimators=350, learning_rate=0.01)\n",
    "homexgclass.fit(x_home_train,y_home_train)\n",
    "predicted=homexgclass.predict(x_home_test)\n",
    "#print(homexgclass.best_params_)\n",
    "print(\"In-sample accuracy: \" + str(home_train_acc_score(homexgclass)))\n",
    "print(\"Test accuracy: \" + str(home_test_acc_score(homexgclass)))\n",
    "print (\"In-sample Precision Score: \" + str(home_train_prec_score(homexgclass)))\n",
    "print (\"Test Precision Score: \" + str(home_test_prec_score(homexgclass)))\n",
    "print (\"In-sample F1 Score: \" + str(home_train_f1(homexgclass)))\n",
    "print (\"Test F1 Score: \" + str(home_test_f1(homexgclass)))\n",
    "#home_confusion_matrix_model_train(homexgclass)"
   ]
  },
  {
   "cell_type": "markdown",
   "metadata": {
    "_uuid": "36b50a776aba1b9b8bd2b609f833d6248657a227"
   },
   "source": [
    "## **4.3 Evaluation for Models predicting Home Goals**"
   ]
  },
  {
   "cell_type": "code",
   "execution_count": null,
   "metadata": {
    "_uuid": "5711537f1defb85818d4c32aa24c43a5454b9823",
    "collapsed": true
   },
   "outputs": [],
   "source": [
    "Classifiers=[\"Logistic Regression (Lasso)\",\"Logistic Regression (Ridge)\",\"Support Vector Machine (RBF)\",\"K-Nearest Neighbours\",\"Decision Tree\",\"Random Forest\",\"XGBoost\"]\n",
    "in_sample_acc=[round(home_train_acc_score(x),2) for x in [homelog_reg1,homelog_reg2,homesvc_rbf,homeKNN,homeDec_tree,homeranfor,homexgclass]]\n",
    "test_acc=[round(home_test_acc_score(x),2) for x in [homelog_reg1,homelog_reg2,homesvc_rbf,homeKNN,homeDec_tree,homeranfor,homexgclass]]\n",
    "train_prec = [round(home_train_prec_score(x),2) for x in [homelog_reg1,homelog_reg2,homesvc_rbf,homeKNN,homeDec_tree,homeranfor,homexgclass]]\n",
    "test_prec = [round(home_test_prec_score(x),2) for x in [homelog_reg1,homelog_reg2,homesvc_rbf,homeKNN,homeDec_tree,homeranfor,homexgclass]]\n",
    "trainf1 = [home_train_f1(x) for x in [homelog_reg1,homelog_reg2,homesvc_rbf,homeKNN,homeDec_tree,homeranfor,homexgclass]]\n",
    "testf1 = [home_test_f1(x) for x in [homelog_reg1,homelog_reg2,homesvc_rbf,homeKNN,homeDec_tree,homeranfor,homexgclass]]\n",
    "cols=[\"Classifier\",\"Training Accuracy\",\"Test Accuracy\",\"Training Precision\",\"Test Precision\",\"Training F1 Score\",\"Test F1 Score\"]\n",
    "Home_goals_pred = pd.DataFrame(columns=cols)\n",
    "Home_goals_pred[\"Classifier\"]=Classifiers\n",
    "Home_goals_pred[\"Training Accuracy\"]=in_sample_acc\n",
    "Home_goals_pred[\"Test Accuracy\"]=test_acc\n",
    "Home_goals_pred[\"Training Precision\"]=train_prec\n",
    "Home_goals_pred[\"Test Precision\"]=test_prec\n",
    "Home_goals_pred[\"Training F1 Score\"]=trainf1\n",
    "Home_goals_pred[\"Test F1 Score\"]=testf1\n",
    "Home_goals_pred\n"
   ]
  },
  {
   "cell_type": "markdown",
   "metadata": {
    "_uuid": "31a9fd66e3b20086a43baf7248396a5ddb4d9930"
   },
   "source": [
    "We will use **Logistic Regression (Lasso)** to predict goals scored by home side. Although the F1 score for XGBoost is highest, logistic regression accuracy and precision are higher for the test set, while the precision metric for training and test differs alot, which makes it overfitted. Logistic Regression is also a simpler model to use."
   ]
  },
  {
   "cell_type": "markdown",
   "metadata": {
    "_uuid": "df2c9372672d5ec2115a5a48f1d86fa55e709b58"
   },
   "source": [
    " "
   ]
  },
  {
   "cell_type": "markdown",
   "metadata": {
    "_uuid": "2c937a7fe2fee7173df2500f089591f48b099ecb"
   },
   "source": [
    "## **4.4 Classification models for goals scored by Away Side**"
   ]
  },
  {
   "cell_type": "markdown",
   "metadata": {
    "_uuid": "24969cf2f331d2c3eaa2fa3e0124456029adf1f5"
   },
   "source": [
    "Just like in (4.2), the models will be optimised using GridSearchCV based on F1 score. \n",
    "\n",
    "I have typed in some of the optimised parameters based on the GridSearchCV code output, then commented out the GridSearchCV codes to make the notebook run faster as it won't be re-optimised.\n",
    "\n",
    "Confusion matrix table and details will only be shown for the final selected models in order to save space. There would be a summary of each models in the evaluation section below"
   ]
  },
  {
   "cell_type": "markdown",
   "metadata": {
    "_uuid": "ca3a4792f36e0b1924acfcaf02c310d62e7473e2"
   },
   "source": [
    "**4.4.1. Logistic Regression (Lasso)**"
   ]
  },
  {
   "cell_type": "code",
   "execution_count": null,
   "metadata": {
    "_uuid": "073bc73a3f53dc87657416a9ac94aa73ab354297",
    "collapsed": true
   },
   "outputs": [],
   "source": [
    "param_grid = dict(C=(0.0001,0.001,0.005,0.01,0.1,0.5,1))\n",
    "awaylog_reg1 = GridSearchCV(LogisticRegression(penalty=\"l1\"),param_grid=param_grid,scoring=\"f1_macro\")\n",
    "#awaylog_reg1=LogisticRegression(penalty=\"l1\")\n",
    "awaylog_reg1.fit(x_away_train,y_away_train)\n",
    "#predicted=awaylog_reg1.predict(x_test)\n",
    "print(awaylog_reg1.best_params_)\n",
    "print(\"In-sample accuracy: \" + str(away_train_acc_score(awaylog_reg1)))\n",
    "print(\"Test accuracy: \" + str(away_test_acc_score(awaylog_reg1)))\n",
    "print (\"In-sample Precision Score: \" + str(away_train_prec_score(awaylog_reg1)))\n",
    "print (\"Test Precision Score: \" + str(away_test_prec_score(awaylog_reg1)))\n",
    "print (\"In-sample F1 Score: \" + str(away_train_f1(awaylog_reg1)))\n",
    "print (\"Test F1 Score: \" + str(away_test_f1(awaylog_reg1)))\n",
    "away_confusion_matrix_model_train(awaylog_reg1)"
   ]
  },
  {
   "cell_type": "markdown",
   "metadata": {
    "_uuid": "249e8acf777596420ca749e9a5652ce969b11fcf"
   },
   "source": [
    "**4.4.2. Logistic Regression (Ridge)**"
   ]
  },
  {
   "cell_type": "code",
   "execution_count": null,
   "metadata": {
    "_uuid": "8c634f8544aa13ab37370d20fd9efd0892c13a9d",
    "collapsed": true
   },
   "outputs": [],
   "source": [
    "param_grid = dict(C=(0.0001,0.001,0.005,0.01,0.1,0.5,1))\n",
    "awaylog_reg2 = GridSearchCV(LogisticRegression(penalty=\"l2\"),param_grid=param_grid,scoring=\"f1_macro\")\n",
    "#awaylog_reg1=LogisticRegression(penalty=\"l1\")\n",
    "awaylog_reg2.fit(x_away_train,y_away_train)\n",
    "#predicted=awaylog_reg1.predict(x_test)\n",
    "print(awaylog_reg2.best_params_)\n",
    "print(\"In-sample accuracy: \" + str(away_train_acc_score(awaylog_reg2)))\n",
    "print(\"Test accuracy: \" + str(away_test_acc_score(awaylog_reg2)))\n",
    "print (\"In-sample Precision Score: \" + str(away_train_prec_score(awaylog_reg2)))\n",
    "print (\"Test Precision Score: \" + str(away_test_prec_score(awaylog_reg2)))\n",
    "print (\"In-sample F1 Score: \" + str(away_train_f1(awaylog_reg2)))\n",
    "print (\"Test F1 Score: \" + str(away_test_f1(awaylog_reg2)))\n",
    "#away_confusion_matrix_model_train(awaylog_reg2)"
   ]
  },
  {
   "cell_type": "markdown",
   "metadata": {
    "_uuid": "88deac6ae74150c46f76ce07750605809d5fa877"
   },
   "source": [
    "**4.4.3. SVM (RBF Kernel)**"
   ]
  },
  {
   "cell_type": "code",
   "execution_count": null,
   "metadata": {
    "_uuid": "3e3e0054ebe83f1827b190045fded29b36988007",
    "collapsed": true
   },
   "outputs": [],
   "source": [
    "#param_grid = dict(C=(0.001,0.01,0.1,0.5,1,2),gamma=(0.001,0.01,0.1,0.5,1,2))\n",
    "#awaysvc_rbf = GridSearchCV(SVC(kernel=\"rbf\",random_state=0),param_grid=param_grid,scoring=\"f1_macro\")\n",
    "awaysvc_rbf = SVC(kernel='rbf', gamma=0.01, C=2,random_state=0)\n",
    "awaysvc_rbf.fit(x_away_train, y_away_train)\n",
    "#print(awaysvc_rbf.best_params_)\n",
    "print(\"In-sample accuracy: \" + str(away_train_acc_score(awaysvc_rbf)))\n",
    "print(\"Test accuracy: \" + str(away_test_acc_score(awaysvc_rbf)))\n",
    "print (\"In-sample Precision Score: \" + str(away_train_prec_score(awaysvc_rbf)))\n",
    "print (\"Test Precision Score: \" + str(away_test_prec_score(awaysvc_rbf)))\n",
    "print (\"In-sample F1 Score: \" + str(away_train_f1(awaysvc_rbf)))\n",
    "print (\"Test F1 Score: \" + str(away_test_f1(awaysvc_rbf)))\n",
    "#away_confusion_matrix_model_train(awaysvc_rbf)"
   ]
  },
  {
   "cell_type": "markdown",
   "metadata": {
    "_uuid": "4ccc496b96e4003e9c83fdb27c3fb1c18ae573d8"
   },
   "source": [
    "**4.4.4. KNN** "
   ]
  },
  {
   "cell_type": "code",
   "execution_count": null,
   "metadata": {
    "_uuid": "b08b45508a1a62844cf6702706083322c2542ecf",
    "collapsed": true
   },
   "outputs": [],
   "source": [
    "#param_grid = dict(n_neighbors=np.arange(10,70),weights=(\"uniform\",\"distance\"),p=(1,2))\n",
    "#awayKNN = GridSearchCV(KNeighborsClassifier(),param_grid=param_grid,scoring=\"f1_macro\")\n",
    "awayKNN=KNeighborsClassifier(n_neighbors=18,p=1,weights='distance')\n",
    "awayKNN.fit(x_away_train,y_away_train)\n",
    "predicted=awayKNN.predict(x_away_test)\n",
    "#print(awayKNN.best_params_)\n",
    "print(\"In-sample accuracy: \" + str(away_train_acc_score(awayKNN)))\n",
    "print(\"Test accuracy: \" + str(away_test_acc_score(awayKNN)))\n",
    "print (\"In-sample Precision Score: \" + str(away_train_prec_score(awayKNN)))\n",
    "print (\"Test Precision Score: \" + str(away_test_prec_score(awayKNN)))\n",
    "print (\"In-sample F1 Score: \" + str(away_train_f1(awayKNN)))\n",
    "print (\"Test F1 Score: \" + str(away_test_f1(awayKNN)))\n",
    "#away_confusion_matrix_model_train(awayKNN)"
   ]
  },
  {
   "cell_type": "markdown",
   "metadata": {
    "_uuid": "2da0051187fac154af895bc54da26f524fd025aa"
   },
   "source": [
    "**4.4.5. Decision Tree**"
   ]
  },
  {
   "cell_type": "code",
   "execution_count": null,
   "metadata": {
    "_uuid": "f391389a93279d868b286689389cb8b30003fdba",
    "collapsed": true
   },
   "outputs": [],
   "source": [
    "#param_grid = dict(max_depth=np.arange(4,10),min_samples_leaf=np.arange(1,8),min_samples_split=np.arange(2,8),max_leaf_nodes=np.arange(30,100,10))\n",
    "#awayDec_tree = GridSearchCV(DecisionTreeClassifier(),param_grid=param_grid,scoring=\"f1_macro\")\n",
    "awayDec_tree=DecisionTreeClassifier(max_depth= 8, max_leaf_nodes= 40, min_samples_leaf= 2, min_samples_split= 5,random_state=0)\n",
    "awayDec_tree.fit(x_away_train,y_away_train)\n",
    "predicted=awayDec_tree.predict(x_away_test)\n",
    "#print(awayDec_tree.best_params_)\n",
    "print(\"In-sample accuracy: \" + str(away_train_acc_score(awayDec_tree)))\n",
    "print(\"Test accuracy: \" + str(away_test_acc_score(awayDec_tree)))\n",
    "print (\"In-sample Precision Score: \" + str(away_train_prec_score(awayDec_tree)))\n",
    "print (\"Test Precision Score: \" + str(away_test_prec_score(awayDec_tree)))\n",
    "print (\"In-sample F1 Score: \" + str(away_train_f1(awayDec_tree)))\n",
    "print (\"Test F1 Score: \" + str(away_test_f1(awayDec_tree)))\n",
    "#away_confusion_matrix_model_train(awayDec_tree)"
   ]
  },
  {
   "cell_type": "markdown",
   "metadata": {
    "_uuid": "90fe52c452a5958ac26e9c06091d32a156cbc53a"
   },
   "source": [
    "**4.4.6. Random Forest**"
   ]
  },
  {
   "cell_type": "code",
   "execution_count": null,
   "metadata": {
    "_uuid": "009ed82f96c1b0eadcab3debbd012fad169df29b",
    "collapsed": true
   },
   "outputs": [],
   "source": [
    "#param_grid = dict(max_depth=np.arange(3,10),min_samples_leaf=np.arange(1,10),min_samples_split=np.arange(2,6),max_leaf_nodes=np.arange(50,120,10))\n",
    "#param_grid = dict(n_estimators = np.arange(50,500,50))\n",
    "#awayranfor = GridSearchCV(RandomForestClassifier(max_depth= 7, max_leaf_nodes=50, min_samples_leaf= 4, min_samples_split= 2,random_state=0),param_grid=param_grid,scoring=\"f1_macro\")\n",
    "awayranfor = RandomForestClassifier(n_estimators=150,max_depth= 7, max_leaf_nodes=50, min_samples_leaf= 4, min_samples_split= 2,random_state=0)\n",
    "awayranfor.fit(x_away_train,y_away_train)\n",
    "predicted=awayranfor.predict(x_away_test)\n",
    "#print(awayranfor.best_params_)\n",
    "print(\"In-sample accuracy: \" + str(away_train_acc_score(awayranfor)))\n",
    "print(\"Test accuracy: \" + str(away_test_acc_score(awayranfor)))\n",
    "print (\"In-sample Precision Score: \" + str(away_train_prec_score(awayranfor)))\n",
    "print (\"Test Precision Score: \" + str(away_test_prec_score(awayranfor)))\n",
    "print (\"In-sample F1 Score: \" + str(away_train_f1(awayranfor)))\n",
    "print (\"Test F1 Score: \" + str(away_test_f1(awayranfor)))\n",
    "#away_confusion_matrix_model_train(awayranfor)"
   ]
  },
  {
   "cell_type": "markdown",
   "metadata": {
    "_uuid": "ad680343cf42a9c1623a6b15981341e89ff04939"
   },
   "source": [
    "**4.4.7. XGBooost**"
   ]
  },
  {
   "cell_type": "code",
   "execution_count": null,
   "metadata": {
    "_uuid": "f6be0b4e6f64dca4648d0e968073247bcbde72ad",
    "collapsed": true
   },
   "outputs": [],
   "source": [
    "#param_grid = dict(n_estimators=np.arange(50,500,50),max_depth=np.arange(6,12),learning_rate=(0.0001,0.001,0.01,0.1))\n",
    "#awayxgclass = GridSearchCV(xgb.XGBClassifier(random_state=0),param_grid=param_grid,scoring=\"f1_macro\")\n",
    "awayxgclass = xgb.XGBClassifier(max_depth=7, n_estimators=100, learning_rate=0.01)\n",
    "awayxgclass.fit(x_away_train,y_away_train)\n",
    "predicted=awayxgclass.predict(x_away_test)\n",
    "#print(awayxgclass.best_params_)\n",
    "print(\"In-sample accuracy: \" + str(away_train_acc_score(awayxgclass)))\n",
    "print(\"Test accuracy: \" + str(away_test_acc_score(awayxgclass)))\n",
    "print (\"In-sample Precision Score: \" + str(away_train_prec_score(awayxgclass)))\n",
    "print (\"Test Precision Score: \" + str(away_test_prec_score(awayxgclass)))\n",
    "print (\"In-sample F1 Score: \" + str(away_train_f1(awayxgclass)))\n",
    "print (\"Test F1 Score: \" + str(away_test_f1(awayxgclass)))\n",
    "#away_confusion_matrix_model_train(awayxgclass)"
   ]
  },
  {
   "cell_type": "markdown",
   "metadata": {
    "_uuid": "cbd2afa48cc36e618e88f38352909712ed8a8c2e"
   },
   "source": [
    "## **4.5 Evaluation for Models predicting Away Goals**"
   ]
  },
  {
   "cell_type": "code",
   "execution_count": null,
   "metadata": {
    "_uuid": "d0ff30c8d0d1a5bca4b2c257e9cbc1365daf199b",
    "collapsed": true
   },
   "outputs": [],
   "source": [
    "Classifiers=[\"Logistic Regression (Lasso)\",\"Logistic Regression (Ridge)\",\"Support Vector Machine (RBF)\",\"K-Nearest Neighbours\",\"Decision Tree\",\"Random Forest\",\"XGBoost\"]\n",
    "in_sample_acc=[round(away_train_acc_score(x),2) for x in [awaylog_reg1,awaylog_reg2,awaysvc_rbf,awayKNN,awayDec_tree,awayranfor,awayxgclass]]\n",
    "test_acc=[round(away_test_acc_score(x),2) for x in [awaylog_reg1,awaylog_reg2,awaysvc_rbf,awayKNN,awayDec_tree,awayranfor,awayxgclass]]\n",
    "train_prec = [round(away_train_prec_score(x),2) for x in [awaylog_reg1,awaylog_reg2,awaysvc_rbf,awayKNN,awayDec_tree,awayranfor,awayxgclass]]\n",
    "test_prec = [round(away_test_prec_score(x),2) for x in [awaylog_reg1,awaylog_reg2,awaysvc_rbf,awayKNN,awayDec_tree,awayranfor,awayxgclass]]\n",
    "trainf1 = [away_train_f1(x) for x in [awaylog_reg1,awaylog_reg2,awaysvc_rbf,awayKNN,awayDec_tree,awayranfor,awayxgclass]]\n",
    "testf1 = [away_test_f1(x) for x in [awaylog_reg1,awaylog_reg2,awaysvc_rbf,awayKNN,awayDec_tree,awayranfor,awayxgclass]]\n",
    "cols=[\"Classifier\",\"Training Accuracy\",\"Test Accuracy\",\"Training Precision\",\"Test Precision\",\"Training F1 Score\",\"Test F1 Score\"]\n",
    "away_goals_pred = pd.DataFrame(columns=cols)\n",
    "away_goals_pred[\"Classifier\"]=Classifiers\n",
    "away_goals_pred[\"Training Accuracy\"]=in_sample_acc\n",
    "away_goals_pred[\"Test Accuracy\"]=test_acc\n",
    "away_goals_pred[\"Training Precision\"]=train_prec\n",
    "away_goals_pred[\"Test Precision\"]=test_prec\n",
    "away_goals_pred[\"Training F1 Score\"]=trainf1\n",
    "away_goals_pred[\"Test F1 Score\"]=testf1\n",
    "away_goals_pred\n"
   ]
  },
  {
   "cell_type": "markdown",
   "metadata": {
    "_uuid": "c4efe5a46494a5226dd8429139c44aafa4091d25"
   },
   "source": [
    "We shall use **logistic regression (Lasso)** to predict the number of goals scored by away side due to the highest Test set F1 score. "
   ]
  },
  {
   "cell_type": "markdown",
   "metadata": {
    "_uuid": "458544625444cb31e987972dc1f1393d3d5658d5"
   },
   "source": [
    "# **5. Visualizing ability/potential of players of the 32 countries**"
   ]
  },
  {
   "cell_type": "markdown",
   "metadata": {
    "_uuid": "471292d1207c8d86141dd58bbc9dd3c9d14bba7c"
   },
   "source": [
    "**Let's get the top 30 players from each WC countries as a representation for the country.**"
   ]
  },
  {
   "cell_type": "code",
   "execution_count": null,
   "metadata": {
    "_uuid": "a16e06638bdbaa98ce167397a558a2c52355d808",
    "collapsed": true
   },
   "outputs": [],
   "source": [
    "wc_fifa18_stats.replace([False,\"False\",True,\"True\"],[0,0,1,1])\n",
    "unused_var=[]\n",
    "for i in fifa18.columns:\n",
    "    if \"prefers\" in i:\n",
    "        unused_var.append(i)\n",
    "wc_fifa18_stats = wc_fifa18_stats.drop([\"club_logo\",\"ID\",\"real_face\",\"birth_date\",\"flag\",\"photo\"],axis=1)\n",
    "wc_fifa18_stats = wc_fifa18_stats.drop(unused_var,axis=1)\n",
    "grouped_wc_fifa18_stats = wc_fifa18_stats.groupby(['nationality']).apply(lambda x: (x.sort_values('overall',ascending=False)).head(30).mean()).sort_values('potential',ascending=True)\n",
    "grouped_wc_fifa18_stats.head()"
   ]
  },
  {
   "cell_type": "code",
   "execution_count": null,
   "metadata": {
    "_uuid": "bdae6b82fc0922d841a65cb86ae632969242bb53",
    "collapsed": true
   },
   "outputs": [],
   "source": [
    "grouped_wc_fifa18_stats[\"Points_to_max_potential\"] = grouped_wc_fifa18_stats[\"potential\"] - grouped_wc_fifa18_stats[\"overall\"]"
   ]
  },
  {
   "cell_type": "code",
   "execution_count": null,
   "metadata": {
    "_uuid": "e7b4ee23852b00c1af2d27b8c4c445cd90c2a651",
    "collapsed": true
   },
   "outputs": [],
   "source": [
    "curr = grouped_wc_fifa18_stats[\"overall\"]\n",
    "pot = grouped_wc_fifa18_stats[\"Points_to_max_potential\"]\n",
    "ind = np.arange(32)\n",
    "width = 0.7\n",
    "plt.figure(figsize=(10,10))\n",
    "p1 = plt.bar(ind,curr, width)\n",
    "p2 = plt.bar(ind,pot, width, bottom=curr)\n",
    "\n",
    "plt.ylabel('Ability')\n",
    "plt.title('Current and Potential Ability for each country')\n",
    "plt.xticks(ind,(grouped_wc_fifa18_stats.index),rotation=90)\n",
    "plt.legend((p1[0], p2[0]), ('Current', 'Potential'))\n",
    "\n",
    "plt.show()"
   ]
  },
  {
   "cell_type": "markdown",
   "metadata": {
    "_uuid": "32af9575581976d15e69be3febd9dbfbfafd6a8e"
   },
   "source": [
    "We can see that France has the highest potential while Spain has the highest current ability."
   ]
  },
  {
   "cell_type": "markdown",
   "metadata": {
    "_uuid": "f933e81ba183d31485651863037e0d9c8a5d6c3b"
   },
   "source": [
    "# **6. Adding variables to build a poisson model**"
   ]
  },
  {
   "cell_type": "markdown",
   "metadata": {
    "_uuid": "af2f04c617f8c52cbe17bbda859ae492a2ffffd1"
   },
   "source": [
    "We shall use the following variables of each country:\n",
    "\n",
    "- Soccer Power Index\n",
    "- Average Age\n",
    "- Average Height\n",
    "- Total World Cup Appearances\n",
    "- Average goals scored per game\n",
    "- Average goals conceded per game\n",
    "- Potential\n",
    "\n",
    "and compare it with the opponent to build a poisson distribution model to predict the number of goals scored. Detailed method will be explained below in **(7)**."
   ]
  },
  {
   "cell_type": "code",
   "execution_count": null,
   "metadata": {
    "_uuid": "f8eb349557052fb8409834db3ea1bb3c33cbe812",
    "collapsed": true
   },
   "outputs": [],
   "source": [
    "stats = stats.set_index(\"team\",drop=True)\n",
    "stats = stats.fillna(0)\n",
    "stats[\"Ave_goals_scored_per_game\"] = stats['total_worldcup_match_goals_scored'] / stats['total_world_cup_matches_played']\n",
    "stats[\"Ave_goals_conceded_per_game\"] = stats['total_worldcup_match_goals_against'] / stats['total_world_cup_matches_played']\n",
    "stats[\"Potential\"] = 0\n",
    "for i in stats.index:\n",
    "    stats.loc[i,\"Potential\"] = grouped_wc_fifa18_stats.loc[i,\"potential\"]\n",
    "    \n",
    "#Normalise the variables\n",
    "for i in [\"Soccer_power_index\",\"Average_age\",\"Average_height\",\"total_worldcup_appearances\",\"Potential\"]:\n",
    "    stats[i] = stats[i].apply(lambda x: (x - stats[i].mean())/stats[i].std())\n",
    "\n",
    "stats = stats.loc[:,['Soccer_power_index','Average_age','Average_height','total_worldcup_appearances',\"Ave_goals_scored_per_game\",\"Ave_goals_conceded_per_game\",\"Potential\"]]\n",
    "stats = stats.fillna(0)  #for panama and iceland (First time WC)"
   ]
  },
  {
   "cell_type": "code",
   "execution_count": null,
   "metadata": {
    "_uuid": "45963891dc5641a57a5f3e7eb949e88e7d56a1dd",
    "collapsed": true
   },
   "outputs": [],
   "source": [
    "stats.head(5)"
   ]
  },
  {
   "cell_type": "markdown",
   "metadata": {
    "_uuid": "e62cb8d79a3eab99907648e228f8a48e1de24494"
   },
   "source": [
    "# **7. Predicting World Cup 2018**\n",
    "\n",
    "## **Overall Method used:**\n",
    "\n",
    "**1)** XGBoost would be used first to predict just the result of the matches (Win,Lose,Draw) for the **group stages** as I am only interested in the match result and who progresses. Real results up to 23/06 was used. \n",
    "\n",
    "**2)** For the **elimination rounds onwards**, Logistic Regression (Lasso) model along with the poisson distribution would be used to predict the exact score.\n",
    "    * Weight of 0.8 would be given to the poisson distribution and weight of 0.2 would be given to \n",
    "      the Logistic Regression (Lasso)\n",
    "      \n",
    "### **Explanation on how I combine poisson distribution with Logistic Regression to predict the goals**\n",
    "\n",
    "We shall use the method and formula:\n",
    "- **Base goals** = Average goals scored from X against Y = max(Ave_goals_scored_per_game (X), Ave_goals_conceded_per_game(Y))\n",
    "\n",
    "- **difference in countries** = 0.4 * (diff. in Soccer_Power_index) + 0.25 * (diff. in Potential) + 0.25 * (diff. in total_worldcup_appearances) + 0.05 * (diff. in Average_height) - 0.05 * (diff. in Average_age)\n",
    "                              \n",
    "    E.g diff in Soccer_Power_index --> Soccer_Power_index (X) - Soccer_Power_index (Y)\n",
    "\n",
    "    Most weight (0.4) is given to difference in soccer power index because I feel it is the main determining factor of a soccer match. \n",
    "    \n",
    "    The potential of the players and the experience (total_worldcup_experience) would also play a important role in a match, especially in a semi-final/final. \n",
    "    \n",
    "    Least weights were given to the height (Headers advantage) and age (might be correlated with their stamina) as they might play a small part in some parts of the match. Age difference was \"subtracted\" because the younger the player is, there is a higher change of having more stamina, hence lower age is \"better\". \n",
    "\n",
    "- **Mean goals scored from X against Y** = Max(0, Base goals + difference in countries)\n",
    "\n",
    "A poisson distribution would then be used to calculate the probability of them scoring 0,1,2,3,4,5,6 goals and combined with the classification models used to predict the number of goals for the match. \n",
    "\n",
    "## **Combining poisson distribution with logistic regression together**\n",
    "\n",
    "1) Using the mean goals scored from Home side against Away side (Calculated as above), we can generate a list of probabilities of Home Side scoring 0 - 6 goals against the Away side. \n",
    "    \n",
    "    e.g [ Prob(0 goals), Prob(1 Goal), Prob(2Goals)....Prob(6 goals)]\n",
    "    \n",
    "2) We then use the Logistic Regression (Lasso) Model to generate a list of probabilities of Home Side scoring 0-6 goals against the Away Side. \n",
    "\n",
    "    e.g [ Prob(0 goals), Prob(1 Goal), Prob(2Goals)....Prob(6 goals)]\n",
    "    \n",
    "3) We then combine the probabilities by multiplying the poisson probabilities by 0.8 and logistic regression probabilities by 0.2 \n",
    "\n",
    "    e.g Prob (0 goals) = 0.8 * Poisson Probability (0 goals) + 0.2 * Logisti Regression Probability(0 goals)\n",
    "        etc\n",
    "        etc\n",
    "        \n",
    "    (More weight is given to poisson probabilities as I feel they are more accurate and stronger compared to the logistic regression models).\n",
    "\n",
    "4) Our prediction for the number of goals scored by the home side against the away side would be the one with the highest probability.\n",
    "\n",
    "5) Repeat step 1-4 for the away side. \n",
    "    \n",
    "    "
   ]
  },
  {
   "cell_type": "markdown",
   "metadata": {
    "_uuid": "a5942be0efcc2be792a0dcc9558e105605c7ac92"
   },
   "source": [
    "### **Group Stage Matches**"
   ]
  },
  {
   "cell_type": "code",
   "execution_count": null,
   "metadata": {
    "_uuid": "62e43c1f4092e0e910b8aec2a6b79f87d1fbc486",
    "collapsed": true
   },
   "outputs": [],
   "source": [
    "from itertools import combinations\n",
    "#variables: [\"country\",\"impt\",\"home_rank_change\",\"away_rank_change\",\"diff_in_ranking\",\"diff_in_mean_weighted_over_years\"]\n",
    "opponents = ['First match \\nagainst', 'Second match\\n against', 'Third match\\n against']\n",
    "\n",
    "world_cup['points'] = 0\n",
    "world_cup['total_prob'] = 0\n",
    "\n",
    "for group in set(world_cup['Group']):\n",
    "    print('___Starting group {}:___'.format(group))\n",
    "    for home, away in combinations(world_cup.query('Group == \"{}\"'.format(group)).index, 2):\n",
    "        print(\"{} vs. {}: \".format(home, away), end='')\n",
    "        \n",
    "        if (home + \",\" + away) in list(results_so_far[\"Matches\"]):\n",
    "            real_result = results_so_far[results_so_far[\"Matches\"] == (home + \",\" + away)]\n",
    "            real_result.reset_index(inplace=True,drop=True)\n",
    "            real_result = real_result.loc[0,\"Result\"]\n",
    "            world_cup.loc[home, 'total_prob'] += 1\n",
    "            world_cup.loc[away, 'total_prob'] += 1\n",
    "            if real_result == 0:\n",
    "                print(\"{} wins \".format(away))\n",
    "                world_cup.loc[away, 'points'] += 3\n",
    "                continue\n",
    "            elif real_result == 1:\n",
    "                points = 1\n",
    "                print(\"Draw\")\n",
    "                world_cup.loc[home, 'points'] += 1\n",
    "                world_cup.loc[away, 'points'] += 1\n",
    "                continue\n",
    "            elif real_result == 2:\n",
    "                points = 3\n",
    "                world_cup.loc[home, 'points'] += 3\n",
    "                print(\"{} wins \".format(home))\n",
    "                continue\n",
    "        elif (away + \",\" + home) in list(results_so_far[\"Matches\"]):\n",
    "            real_result = results_so_far[results_so_far[\"Matches\"] == (away + \",\" + home)]\n",
    "            real_result.reset_index(inplace=True,drop=True)\n",
    "            real_result = real_result.loc[0,\"Result\"]\n",
    "            world_cup.loc[home, 'total_prob'] += 1\n",
    "            world_cup.loc[away, 'total_prob'] += 1\n",
    "            if real_result == 0:\n",
    "                print(\"{} wins \".format(home))\n",
    "                world_cup.loc[home, 'points'] += 3\n",
    "                continue\n",
    "            elif real_result == 1:\n",
    "                points = 1\n",
    "                print(\"Draw\")\n",
    "                world_cup.loc[home, 'points'] += 1\n",
    "                world_cup.loc[away, 'points'] += 1\n",
    "                continue\n",
    "            elif real_result == 2:\n",
    "                points = 3\n",
    "                world_cup.loc[away, 'points'] += 3\n",
    "                print(\"{} wins \".format(away))\n",
    "                continue\n",
    "        \n",
    "        \n",
    "        row = pd.DataFrame(np.array([[np.nan, np.nan, np.nan, np.nan,np.nan,np.nan]]), columns=x_test.columns)\n",
    "        home_rank = rankings_18.loc[home,\"rank\"]\n",
    "        away_rank =  rankings_18.loc[away,\"rank\"]\n",
    "        \n",
    "\n",
    "        row[\"country\"] = 2 if home == \"Russia\" else 0\n",
    "        row[\"impt\"] = 1\n",
    "        row[\"home_rank_change\"] = rankings_18.loc[home,\"rank\"] - rankings_prev.loc[home,\"rank\"]\n",
    "        row[\"away_rank_change\"] = rankings_18.loc[away,\"rank\"] - rankings_prev.loc[away,\"rank\"]\n",
    "        row['diff_in_ranking'] = home_rank - away_rank\n",
    "        row[\"diff_in_mean_weighted_over_years\"] = rankings_18.loc[home,\"mean_weighted_over_years\"] - rankings_18.loc[away,\"mean_weighted_over_years\"]\n",
    "        \n",
    "        home_win_prob = xgclass.predict_proba(row)[:,2][0]\n",
    "        away_win_prob = xgclass.predict_proba(row)[:,0][0]\n",
    "        draw_prob = xgclass.predict_proba(row)[:,1][0]\n",
    "\n",
    "        \n",
    "        points = 0\n",
    "        if max(home_win_prob,away_win_prob,draw_prob) == away_win_prob:\n",
    "            print(\"{} wins with a probability of {:.2f}% \".format(away, away_win_prob))\n",
    "            world_cup.loc[away, 'points'] += 3\n",
    "            world_cup.loc[home, 'total_prob'] += home_win_prob\n",
    "            world_cup.loc[away, 'total_prob'] += away_win_prob\n",
    "        if max(home_win_prob,away_win_prob,draw_prob) == draw_prob:\n",
    "            points = 1\n",
    "            print(\"Draw with probability of {:.2f}%\".format(draw_prob))\n",
    "            world_cup.loc[home, 'points'] += 1\n",
    "            world_cup.loc[away, 'points'] += 1\n",
    "            world_cup.loc[home, 'total_prob'] += draw_prob\n",
    "            world_cup.loc[away, 'total_prob'] += draw_prob\n",
    "        if max(home_win_prob,away_win_prob,draw_prob) == home_win_prob:\n",
    "            points = 3\n",
    "            world_cup.loc[home, 'points'] += 3\n",
    "            world_cup.loc[home, 'total_prob'] += home_win_prob\n",
    "            world_cup.loc[away, 'total_prob'] += away_win_prob\n",
    "            print(\"{} wins with a probability of {:.2f}%\".format(home, home_win_prob))"
   ]
  },
  {
   "cell_type": "markdown",
   "metadata": {
    "_uuid": "088289cb6513a633abf229e7eb803c689425efe0"
   },
   "source": [
    "Note that some probabilities are not more than 50% because the maximum of (Win Probability, Draw Probability and Loss Probability) is taken to make the decision, and hence the maximum probability selected might not be more than 50%."
   ]
  },
  {
   "cell_type": "markdown",
   "metadata": {
    "_uuid": "9a592510384dd21eeebef84e5d5c71bcc44957f6"
   },
   "source": [
    "### **Elimination Round**"
   ]
  },
  {
   "cell_type": "code",
   "execution_count": null,
   "metadata": {
    "_uuid": "9c9cf8e8d69f507f1bedefedd25c26a1ba24ef30",
    "collapsed": true
   },
   "outputs": [],
   "source": [
    "pairing = [0,3,4,7,8,11,12,15,1,2,5,6,9,10,13,14]  # pair up for round-of-16\n",
    "\n",
    "labels = []\n",
    "odds = []\n",
    "\n",
    "world_cup = world_cup.sort_values(by=['Group', 'points', 'total_prob'], ascending=False).reset_index()\n",
    "next_round_wc = world_cup.groupby('Group').nth([0, 1]) # select the top 2\n",
    "next_round_wc = next_round_wc.reset_index()\n",
    "next_round_wc = next_round_wc.loc[pairing]\n",
    "next_round_wc = next_round_wc.set_index('Team')\n",
    "\n",
    "finals = ['round_of_16', 'quarterfinal']\n",
    "\n",
    "for f in finals:\n",
    "    print(\"___Starting of the {}___\".format(f))\n",
    "    iterations = int(len(next_round_wc) / 2)\n",
    "    winners = []\n",
    "\n",
    "    for i in range(iterations):\n",
    "        home = next_round_wc.index[i*2]\n",
    "        away = next_round_wc.index[i*2+1]\n",
    "        print(\"{} vs. {}: \".format(home,\n",
    "                                   away), \n",
    "                                   end='')\n",
    "        row = pd.DataFrame(np.array([[np.nan, np.nan, np.nan, np.nan,np.nan,np.nan]]), columns=x_test.columns)\n",
    "        home_rank = rankings_18.loc[home,\"rank\"]\n",
    "        away_rank =  rankings_18.loc[away,\"rank\"]\n",
    "\n",
    "\n",
    "        row[\"country\"] = 2 if home == \"Russia\" else 0\n",
    "        row[\"impt\"] = 1\n",
    "        row[\"home_rank_change\"] = rankings_18.loc[home,\"rank\"] - rankings_prev.loc[home,\"rank\"]\n",
    "        row[\"away_rank_change\"] = rankings_18.loc[away,\"rank\"] - rankings_prev.loc[away,\"rank\"]\n",
    "        row['diff_in_ranking'] = home_rank - away_rank\n",
    "        row[\"diff_in_mean_weighted_over_years\"] = rankings_18.loc[home,\"mean_weighted_over_years\"] - rankings_18.loc[away,\"mean_weighted_over_years\"]\n",
    "        base_home_goals = max(stats.loc[home,\"Ave_goals_scored_per_game\"],stats.loc[away,\"Ave_goals_conceded_per_game\"])\n",
    "        base_away_goals = max(stats.loc[away,\"Ave_goals_scored_per_game\"],stats.loc[home,\"Ave_goals_conceded_per_game\"])\n",
    "        home_diff_in_countries = (0.4 * (stats.loc[home,\"Soccer_power_index\"] - stats.loc[away,\"Soccer_power_index\"]) +\n",
    "                                  0.25 * (stats.loc[home,\"Potential\"] - stats.loc[away,\"Potential\"]) +\n",
    "                                  0.25 * (stats.loc[home,\"total_worldcup_appearances\"] - stats.loc[away,\"total_worldcup_appearances\"]) +\n",
    "                                  0.05 * (stats.loc[home,\"Average_height\"] - stats.loc[away,\"Average_height\"]) -\n",
    "                                  0.05 * (stats.loc[home,\"Average_age\"] - stats.loc[away,\"Average_age\"]))\n",
    "        away_diff_in_countries = (0.4 * (stats.loc[away,\"Soccer_power_index\"] - stats.loc[home,\"Soccer_power_index\"]) +\n",
    "                                  0.25 * (stats.loc[away,\"Potential\"] - stats.loc[home,\"Potential\"]) +\n",
    "                                  0.25 * (stats.loc[away,\"total_worldcup_appearances\"] - stats.loc[home,\"total_worldcup_appearances\"]) +\n",
    "                                  0.05 * (stats.loc[away,\"Average_height\"] - stats.loc[home,\"Average_height\"]) -\n",
    "                                  0.05 * (stats.loc[away,\"Average_age\"] - stats.loc[home,\"Average_age\"]))\n",
    "\n",
    "        mean_home_goals = max(0,base_home_goals + home_diff_in_countries)   #max (0,goals) because cant be negative goals\n",
    "        mean_away_goals = max(0,base_away_goals + away_diff_in_countries) \n",
    "\n",
    "        home_prob_of_goals = []\n",
    "        home_prob_of_goals_logmodel = list(homelog_reg1.predict_proba(row)[0])\n",
    "        away_prob_of_goals = []\n",
    "        away_prob_of_goals_logmodel = list(awaylog_reg1.predict_proba(row)[0])\n",
    "        for i in range(7):\n",
    "            home_prob_of_goals.append(0.8 * poisson.pmf(i, mean_home_goals) + 0.2 * home_prob_of_goals_logmodel[i])\n",
    "            away_prob_of_goals.append(0.8 * poisson.pmf(i, mean_away_goals) + 0.2 * away_prob_of_goals_logmodel[i])\n",
    "\n",
    "\n",
    "        home_goals = np.argmax(home_prob_of_goals)\n",
    "        away_goals = np.argmax(away_prob_of_goals)\n",
    "        if home_goals > away_goals:\n",
    "            print(\"{} wins {} with score of {}:{}\".format(home,away,str(home_goals),str(away_goals)),end='')\n",
    "            winners.append(home)\n",
    "\n",
    "        elif home_goals < away_goals:\n",
    "            print(\"{} wins {} with score of {}:{}\".format(away,home,str(away_goals),str(home_goals)),end='')\n",
    "            winners.append(away)\n",
    "\n",
    "        else:\n",
    "            team=[home,away]\n",
    "            win = random.choice(team)\n",
    "            print(\"{} draws with {} with a score of {}:{} after extra time and {} wins the penalty shootout\".format(home,away,str(home_goals),str(away_goals),win))\n",
    "            winners.append(win)\n",
    "        print(\"\\n\")\n",
    "    next_round_wc = next_round_wc.loc[winners]\n",
    "    \n",
    "print(\"Top 4: \" + winners[0]+ \",\" + winners[1] + \",\" + winners[2] + \",\" +winners[3])"
   ]
  },
  {
   "cell_type": "markdown",
   "metadata": {
    "_uuid": "46984bb53e7d0591910ff371a387e6c3836a0f53"
   },
   "source": [
    "### **Predict exact scores for the final and 3rd place play-off**"
   ]
  },
  {
   "cell_type": "code",
   "execution_count": null,
   "metadata": {
    "_uuid": "79b88e59771d3541a2bd0210ea7a46c3d6411946",
    "collapsed": true
   },
   "outputs": [],
   "source": [
    "home_sides = winners[0:3:2]\n",
    "away_sides = winners[1::2]\n",
    "winner = []\n",
    "loser = []\n",
    "print(\"__Starting of the Semifinal__\")\n",
    "for i in range(2):\n",
    "    home = home_sides[i]\n",
    "    away = away_sides[i]\n",
    "    print(\"{} vs. {}: \".format(home,\n",
    "                                away), \n",
    "                                end='')\n",
    "    row = pd.DataFrame(np.array([[np.nan, np.nan, np.nan, np.nan,np.nan,np.nan]]), columns=x_home_test.columns)\n",
    "    home_rank = rankings_18.loc[home,\"rank\"]\n",
    "    away_rank =  rankings_18.loc[away,\"rank\"]\n",
    "    row[\"country\"] = 0\n",
    "    row[\"impt\"] = 1\n",
    "    row[\"home_rank_change\"] = rankings_18.loc[home,\"rank\"] - rankings_prev.loc[home,\"rank\"]\n",
    "    row[\"away_rank_change\"] = rankings_18.loc[away,\"rank\"] - rankings_prev.loc[away,\"rank\"]\n",
    "    row['diff_in_ranking'] = home_rank - away_rank\n",
    "    row[\"diff_in_mean_weighted_over_years\"] = rankings_18.loc[home,\"mean_weighted_over_years\"] - rankings_18.loc[away,\"mean_weighted_over_years\"]\n",
    "    base_home_goals = max(stats.loc[home,\"Ave_goals_scored_per_game\"],stats.loc[away,\"Ave_goals_conceded_per_game\"])\n",
    "    base_away_goals = max(stats.loc[away,\"Ave_goals_scored_per_game\"],stats.loc[home,\"Ave_goals_conceded_per_game\"])\n",
    "    home_diff_in_countries = (0.4 * (stats.loc[home,\"Soccer_power_index\"] - stats.loc[away,\"Soccer_power_index\"]) +\n",
    "                              0.25 * (stats.loc[home,\"Potential\"] - stats.loc[away,\"Potential\"]) +\n",
    "                              0.25 * (stats.loc[home,\"total_worldcup_appearances\"] - stats.loc[away,\"total_worldcup_appearances\"]) +\n",
    "                              0.05 * (stats.loc[home,\"Average_height\"] - stats.loc[away,\"Average_height\"]) -\n",
    "                              0.05 * (stats.loc[home,\"Average_age\"] - stats.loc[away,\"Average_age\"]))\n",
    "    away_diff_in_countries = (0.4 * (stats.loc[away,\"Soccer_power_index\"] - stats.loc[home,\"Soccer_power_index\"]) +\n",
    "                              0.25 * (stats.loc[away,\"Potential\"] - stats.loc[home,\"Potential\"]) +\n",
    "                              0.25 * (stats.loc[away,\"total_worldcup_appearances\"] - stats.loc[home,\"total_worldcup_appearances\"]) +\n",
    "                              0.05 * (stats.loc[away,\"Average_height\"] - stats.loc[home,\"Average_height\"]) -\n",
    "                              0.05 * (stats.loc[away,\"Average_age\"] - stats.loc[home,\"Average_age\"]))\n",
    "    \n",
    "    mean_home_goals = max(0,base_home_goals + home_diff_in_countries)   #max (0,goals) because cant be negative goals\n",
    "    mean_away_goals = max(0,base_away_goals + away_diff_in_countries) \n",
    "    \n",
    "    home_prob_of_goals = []\n",
    "    home_prob_of_goals_logmodel = list(homelog_reg1.predict_proba(row)[0])\n",
    "    away_prob_of_goals = []\n",
    "    away_prob_of_goals_logmodel = list(awaylog_reg1.predict_proba(row)[0])\n",
    "    for i in range(7):\n",
    "        home_prob_of_goals.append(0.8 * poisson.pmf(i, mean_home_goals) + 0.2 * home_prob_of_goals_logmodel[i])\n",
    "        away_prob_of_goals.append(0.8 * poisson.pmf(i, mean_away_goals) + 0.2 * away_prob_of_goals_logmodel[i])\n",
    "        \n",
    "\n",
    "    home_goals = np.argmax(home_prob_of_goals)\n",
    "    away_goals = np.argmax(away_prob_of_goals)\n",
    "    if home_goals > away_goals:\n",
    "        print(\"{} wins {} with score of {}:{}\".format(home,away,str(home_goals),str(away_goals)),end='')\n",
    "        winner.append(home)\n",
    "        loser.append(away)\n",
    "    elif home_goals < away_goals:\n",
    "        print(\"{} wins {} with score of {}:{}\".format(away,home,str(away_goals),str(home_goals)),end='')\n",
    "        winner.append(away)\n",
    "        loser.append(home)\n",
    "    else:\n",
    "        team=[home,away]\n",
    "        win = random.choice(team)\n",
    "        team.remove(win)\n",
    "        lose = team[0]\n",
    "        print(\"{} draws with {} with a score of {}:{} after extra time and {} wins the penalty shootout\".format(home,away,str(home_goals),str(away_goals),win))\n",
    "        winner.append(win)\n",
    "        loser.append(lose)\n",
    "    print(\"\\n\")\n",
    "print(\"__Third place playoff__\")\n",
    "home = loser[0]\n",
    "away = loser[1]\n",
    "print(\"{} vs. {}: \".format(home,\n",
    "                            away), \n",
    "                            end='')\n",
    "row = pd.DataFrame(np.array([[np.nan, np.nan, np.nan, np.nan,np.nan,np.nan]]), columns=x_home_test.columns)\n",
    "home_rank = rankings_18.loc[home,\"rank\"]\n",
    "away_rank =  rankings_18.loc[away,\"rank\"]\n",
    "row[\"country\"] = 0\n",
    "row[\"impt\"] = 1\n",
    "row[\"home_rank_change\"] = rankings_18.loc[home,\"rank\"] - rankings_prev.loc[home,\"rank\"]\n",
    "row[\"away_rank_change\"] = rankings_18.loc[away,\"rank\"] - rankings_prev.loc[away,\"rank\"]\n",
    "row['diff_in_ranking'] = home_rank - away_rank\n",
    "row[\"diff_in_mean_weighted_over_years\"] = rankings_18.loc[home,\"mean_weighted_over_years\"] - rankings_18.loc[away,\"mean_weighted_over_years\"]\n",
    "base_home_goals = max(stats.loc[home,\"Ave_goals_scored_per_game\"],stats.loc[away,\"Ave_goals_conceded_per_game\"])\n",
    "base_away_goals = max(stats.loc[away,\"Ave_goals_scored_per_game\"],stats.loc[home,\"Ave_goals_conceded_per_game\"])\n",
    "home_diff_in_countries = (0.4 * (stats.loc[home,\"Soccer_power_index\"] - stats.loc[away,\"Soccer_power_index\"]) +\n",
    "                          0.25 * (stats.loc[home,\"Potential\"] - stats.loc[away,\"Potential\"]) +\n",
    "                          0.25 * (stats.loc[home,\"total_worldcup_appearances\"] - stats.loc[away,\"total_worldcup_appearances\"]) +\n",
    "                          0.05 * (stats.loc[home,\"Average_height\"] - stats.loc[away,\"Average_height\"]) -\n",
    "                          0.05 * (stats.loc[home,\"Average_age\"] - stats.loc[away,\"Average_age\"]))\n",
    "away_diff_in_countries = (0.4 * (stats.loc[away,\"Soccer_power_index\"] - stats.loc[home,\"Soccer_power_index\"]) +\n",
    "                          0.25 * (stats.loc[away,\"Potential\"] - stats.loc[home,\"Potential\"]) +\n",
    "                          0.25 * (stats.loc[away,\"total_worldcup_appearances\"] - stats.loc[home,\"total_worldcup_appearances\"]) +\n",
    "                          0.05 * (stats.loc[away,\"Average_height\"] - stats.loc[home,\"Average_height\"]) -\n",
    "                          0.05 * (stats.loc[away,\"Average_age\"] - stats.loc[home,\"Average_age\"]))\n",
    "    \n",
    "mean_home_goals = max(0,base_home_goals + home_diff_in_countries)   #max (0,goals) because cant be negative goals\n",
    "mean_away_goals = max(0,base_away_goals + away_diff_in_countries) \n",
    "    \n",
    "home_prob_of_goals = []\n",
    "home_prob_of_goals_logmodel = list(homelog_reg1.predict_proba(row)[0])\n",
    "away_prob_of_goals = []\n",
    "away_prob_of_goals_logmodel = list(awaylog_reg1.predict_proba(row)[0])\n",
    "for i in range(7):\n",
    "    home_prob_of_goals.append(0.8 * poisson.pmf(i, mean_home_goals) + 0.2 * home_prob_of_goals_logmodel[i])\n",
    "    away_prob_of_goals.append(0.8 * poisson.pmf(i, mean_away_goals) + 0.2 * away_prob_of_goals_logmodel[i])\n",
    "        \n",
    "\n",
    "home_goals = np.argmax(home_prob_of_goals)\n",
    "away_goals = np.argmax(away_prob_of_goals)\n",
    "if home_goals > away_goals:\n",
    "    print(\"{} wins {} with score of {}:{}\".format(home,away,str(home_goals),str(away_goals)),end='')\n",
    "\n",
    "elif home_goals < away_goals:\n",
    "    print(\"{} wins {} with score of {}:{}\".format(away,home,str(away_goals),str(home_goals)),end='')\n",
    "\n",
    "else:\n",
    "    team=[home,away]\n",
    "    win = random.choice(team)\n",
    "    team.remove(win)\n",
    "    lose = team[0]\n",
    "    print(\"{} draws with {} with a score of {}:{} after extra time and {} wins the penalty shootout\".format(home,away,str(home_goals),str(away_goals),win))\n",
    "\n",
    "print(\"\\n\")\n",
    "print(\"__World Cup Final__\")\n",
    "home = winner[0]\n",
    "away = winner[1]\n",
    "print(\"{} vs. {}: \".format(home,\n",
    "                            away), \n",
    "                            end='')\n",
    "row = pd.DataFrame(np.array([[np.nan, np.nan, np.nan, np.nan,np.nan,np.nan]]), columns=x_home_test.columns)\n",
    "home_rank = rankings_18.loc[home,\"rank\"]\n",
    "away_rank =  rankings_18.loc[away,\"rank\"]\n",
    "row[\"country\"] = 0\n",
    "row[\"impt\"] = 1\n",
    "row[\"home_rank_change\"] = rankings_18.loc[home,\"rank\"] - rankings_prev.loc[home,\"rank\"]\n",
    "row[\"away_rank_change\"] = rankings_18.loc[away,\"rank\"] - rankings_prev.loc[away,\"rank\"]\n",
    "row['diff_in_ranking'] = home_rank - away_rank\n",
    "row[\"diff_in_mean_weighted_over_years\"] = rankings_18.loc[home,\"mean_weighted_over_years\"] - rankings_18.loc[away,\"mean_weighted_over_years\"]\n",
    "base_home_goals = max(stats.loc[home,\"Ave_goals_scored_per_game\"],stats.loc[away,\"Ave_goals_conceded_per_game\"])\n",
    "base_away_goals = max(stats.loc[away,\"Ave_goals_scored_per_game\"],stats.loc[home,\"Ave_goals_conceded_per_game\"])\n",
    "home_diff_in_countries = (0.4 * (stats.loc[home,\"Soccer_power_index\"] - stats.loc[away,\"Soccer_power_index\"]) +\n",
    "                          0.25 * (stats.loc[home,\"Potential\"] - stats.loc[away,\"Potential\"]) +\n",
    "                          0.25 * (stats.loc[home,\"total_worldcup_appearances\"] - stats.loc[away,\"total_worldcup_appearances\"]) +\n",
    "                          0.05 * (stats.loc[home,\"Average_height\"] - stats.loc[away,\"Average_height\"]) -\n",
    "                          0.05 * (stats.loc[home,\"Average_age\"] - stats.loc[away,\"Average_age\"]))\n",
    "away_diff_in_countries = (0.4 * (stats.loc[away,\"Soccer_power_index\"] - stats.loc[home,\"Soccer_power_index\"]) +\n",
    "                          0.25 * (stats.loc[away,\"Potential\"] - stats.loc[home,\"Potential\"]) +\n",
    "                          0.25 * (stats.loc[away,\"total_worldcup_appearances\"] - stats.loc[home,\"total_worldcup_appearances\"]) +\n",
    "                          0.05 * (stats.loc[away,\"Average_height\"] - stats.loc[home,\"Average_height\"]) -\n",
    "                          0.05 * (stats.loc[away,\"Average_age\"] - stats.loc[home,\"Average_age\"]))\n",
    "    \n",
    "mean_home_goals = max(0,base_home_goals + home_diff_in_countries)   #max (0,goals) because cant be negative goals\n",
    "mean_away_goals = max(0,base_away_goals + away_diff_in_countries) \n",
    "    \n",
    "home_prob_of_goals = []\n",
    "home_prob_of_goals_logmodel = list(homelog_reg1.predict_proba(row)[0])\n",
    "away_prob_of_goals = []\n",
    "away_prob_of_goals_logmodel = list(awaylog_reg1.predict_proba(row)[0])\n",
    "for i in range(7):\n",
    "    home_prob_of_goals.append(0.8 * poisson.pmf(i, mean_home_goals) + 0.2 * home_prob_of_goals_logmodel[i])\n",
    "    away_prob_of_goals.append(0.8 * poisson.pmf(i, mean_away_goals) + 0.2 * away_prob_of_goals_logmodel[i])\n",
    "        \n",
    "\n",
    "home_goals = np.argmax(home_prob_of_goals)\n",
    "away_goals = np.argmax(away_prob_of_goals)\n",
    "if home_goals > away_goals:\n",
    "    print(\"{} wins {} with score of {}:{}\".format(home,away,str(home_goals),str(away_goals)),end='')\n",
    "\n",
    "elif home_goals < away_goals:\n",
    "    print(\"{} wins {} with score of {}:{}\".format(away,home,str(away_goals),str(home_goals)),end='')\n",
    "\n",
    "else:\n",
    "    team=[home,away]\n",
    "    win = random.choice(team)\n",
    "    team.remove(win)\n",
    "    lose = team[0]\n",
    "    print(\"{} draws with {} with a score of {}:{} after extra time and {} wins the penalty shootout\".format(home,away,str(home_goals),str(away_goals),win))\n"
   ]
  },
  {
   "cell_type": "markdown",
   "metadata": {
    "_uuid": "d30cde47441198335afe1569c80f0231f38b84aa"
   },
   "source": [
    " "
   ]
  },
  {
   "cell_type": "markdown",
   "metadata": {
    "_uuid": "5f9b1fab670d9d4ddcfad98a57db1d7d8949c900"
   },
   "source": [
    "## **Final Predictions:**\n",
    "\n",
    "**Winner**: Germany\n",
    "\n",
    "**2nd Place**: Spain\n",
    "\n",
    "**3rd Place**: France\n",
    "\n",
    "**Final Score**: Germany VS Spain: 2-1\n",
    "\n",
    "**Third place playoff score**: France vs England: 1-1 (France win Penalty Shootout)"
   ]
  },
  {
   "cell_type": "code",
   "execution_count": null,
   "metadata": {
    "_uuid": "61262244fae93b17e1726ebb0e4d357278714292",
    "collapsed": true
   },
   "outputs": [],
   "source": []
  }
 ],
 "metadata": {
  "kernelspec": {
   "display_name": "Python 3",
   "language": "python",
   "name": "python3"
  },
  "language_info": {
   "codemirror_mode": {
    "name": "ipython",
    "version": 3
   },
   "file_extension": ".py",
   "mimetype": "text/x-python",
   "name": "python",
   "nbconvert_exporter": "python",
   "pygments_lexer": "ipython3",
   "version": "3.7.3"
  }
 },
 "nbformat": 4,
 "nbformat_minor": 1
}
