{
 "cells": [
  {
   "cell_type": "markdown",
   "metadata": {},
   "source": [
    "# El sistema de numeración Binario"
   ]
  },
  {
   "cell_type": "markdown",
   "metadata": {},
   "source": [
    "*Esta notebook fue creada originalmente como un blog post por [Raúl E. López Briega](https://relopezbriega.com.ar/) en [Matemáticas, Analisis de datos y Python](https://relopezbriega.github.io). El contenido esta bajo la licencia BSD.*"
   ]
  },
  {
   "cell_type": "markdown",
   "metadata": {},
   "source": [
    "<img alt=\"Números Binarios\" title=\"Números Binarios\" src=\"https://relopezbriega.github.io/images/binario.jpg\" width=\"60%\" height=\"60%\">"
   ]
  },
  {
   "cell_type": "markdown",
   "metadata": {},
   "source": [
    "> \"Sólo hay 10 tipos de personas en el mundo: Los que entienden binario y los que no lo hacen.\""
   ]
  },
  {
   "cell_type": "markdown",
   "metadata": {},
   "source": [
    "## Introducción\n",
    "\n",
    "El [sistema de números binarios](https://es.wikipedia.org/wiki/Sistema_binario) es el más fundamental sistema numérico que se utiliza en todas las computadoras. Cualquier dispositivo digital que vemos hoy en día, desde celulares hasta Smart TVs utilizan el [sistema binario](https://es.wikipedia.org/wiki/Sistema_binario)! \n",
    "Este sistema sigue reglas muy similares al [sistema decimal](https://es.wikipedia.org/wiki/Sistema_de_numeraci%C3%B3n_decimal) (el que usamos diariamente) pero en lugar de utilizar una base decimal de 10 números, se utiliza una base de 2 números, [cero](https://es.wikipedia.org/wiki/Cero) y [uno](https://es.wikipedia.org/wiki/Uno). Es decir que los números van a ser expresados como una cadena de 1s y 0s. \n",
    "\n",
    "Una de las formas más sencillas de entender este [sistema de numeración](https://es.wikipedia.org/wiki/Notaci%C3%B3n_posicional), es comparándolo con algo que ya conocemos y que manejamos cotidianamente como es el [sistema decimal](https://es.wikipedia.org/wiki/Sistema_de_numeraci%C3%B3n_decimal). Comencemos viendo como convertir los números entre estos dos sistemas.\n",
    "\n",
    "\n",
    "## Convertir un número Binario a Decimal\n",
    "\n",
    "Como en cualquier [sistema de numeración](https://es.wikipedia.org/wiki/Notaci%C3%B3n_posicional), en los *[números binarios](https://es.wikipedia.org/wiki/Sistema_binario)* cada dígito tiene distinto valor dependiendo de la posición en que se encuentre dentro de la cadena. Para convertir un número binario en su equivalente en decimal, solamente debemos conocer las potencias de 2 y luego es cuestión de contar las posiciones. Algo a tener en cuenta es que al trabajar con binarios los algoritmos en general se aplican de derecha a izquierda. Entonces,  vamos a empezar a contar desde la derecha y a cada posición le vamos a asignar una potencia de 2 empezando por el 0. Por ejemplo, si queremos convertir el **10011000** al [sistema decimal](https://es.wikipedia.org/wiki/Sistema_de_numeraci%C3%B3n_decimal), deberíamos hacer lo siguiente:\n",
    "\n",
    "<img alt=\"Binario a Decimal\" title=\"Binario a Decimal\" src=\"https://relopezbriega.github.io/images/binario1.png\" width=\"60%\" height=\"60%\">\n",
    "\n",
    "Le asignamos las potencias a cada posición y luego multiplicamos los resultados de las potencias por los 1 y 0; por último sumamos los resultados y obtenemos la conversión en el sistema decimal 128 + 16 + 8 = 152.\n",
    "\n",
    "## Convertir un número Decimal a Binario\n",
    "\n",
    "Realizar el proceso inverso y convertir un *[número decimal](https://es.wikipedia.org/wiki/Sistema_de_numeraci%C3%B3n_decimal)* a un *[número binario](https://es.wikipedia.org/wiki/Sistema_binario)* también es bastante sencillo. Como el [sistema binario](https://es.wikipedia.org/wiki/Sistema_binario) solo tiene 2 alternativas 0 y 1; el número 2 se vuelve fundamental. Para convertir un *[número decimal](https://es.wikipedia.org/wiki/Sistema_de_numeraci%C3%B3n_decimal)* a su equivalente en *[binario](https://es.wikipedia.org/wiki/Sistema_binario)* entonces tenemos que comenzar a dividir por 2 hasta obtener restos de 1 y 0. Por ejemplo si queremos convertir el número 152, debemos ir dividiendo el mismo por 2 como podemos ver en el siguiente cuadro:\n",
    "\n",
    "<img alt=\"Decimal a Binario\" title=\"Decimal a Binario\" src=\"https://relopezbriega.github.io/images/binario2.png\" width=\"50%\" height=\"50%\">\n",
    "\n",
    "Una vez que completamos este proceso, simplemente tomamos los restos desde abajo hacia arriba y obtenemos el *[número binario](https://es.wikipedia.org/wiki/Sistema_binario)* equivalente, que en este caso es 10011000.\n",
    "\n",
    "## Suma de números Binarios\n",
    "\n",
    "La suma de *[números binarios](https://es.wikipedia.org/wiki/Sistema_binario)* es bastante fácil, solo hay que tener en cuenta la siguiente tabla y luego es un proceso simple y mecánico:\n",
    "\n",
    "<img alt=\"Suma de Binarios\" title=\"Suma de Binarios\" src=\"https://relopezbriega.github.io/images/binario3.png\" width=\"50%\" height=\"50%\">\n",
    "\n",
    "Es decir **0 + 0 = 0**; **0 + 1 = 1**; **1 + 0 = 1** y **1 + 1 = 10**. En este último caso en realidad el resultado de 1 + 1 es 0 y se arrastra un 1 a la izquierda.\n",
    "\n",
    "Por ejemplo, para sumar los siguientes números: 10011000 (que representa al número 152 en el sistema decimal) y 10101 (que representa al número 21), deberíamos aplicar las reglas del cuadro de la siguiente forma:\n",
    " \n",
    "<img alt=\"Suma de Binarios\" title=\"Suma de Binarios\" src=\"https://relopezbriega.github.io/images/binario4.png\" width=\"80%\" height=\"80%\">\n",
    "\n",
    "El proceso siempre se empieza de la derecha hacia la izquierda. Tener en cuenta que en la tercera posición, el resultado de 0 + 0 es 1 porque se arrastró el valor de la suma anterior de 1 + 1 = 0. El resultado final que obtuvimos fue 10101101 el cual representa al 173 en el [sistema decimal](https://es.wikipedia.org/wiki/Sistema_de_numeraci%C3%B3n_decimal)!.\n",
    "\n",
    "## Resta de números Binarios\n",
    "\n",
    "Para la resta de *[números binarios](https://es.wikipedia.org/wiki/Sistema_binario)* el algoritmo es también muy fácil y similar al que se utiliza en el [sistema decimal](https://es.wikipedia.org/wiki/Sistema_de_numeraci%C3%B3n_decimal). El cuadro a tener en cuenta en este caso es:\n",
    "\n",
    "<img alt=\"Resta de Binarios\" title=\"Resta de Binarios\" src=\"https://relopezbriega.github.io/images/binario5.png\" width=\"50%\" height=\"50%\">\n",
    "\n",
    "Es decir **0 - 0 = 0**; **1 - 0 = 1**; **1 - 1 = 0** y **0 - 1 = 1**. En este último caso en realidad como no se puede restar 1 a 0, se pide prestado una unidad de la posición siguiente como hacemos en la resta en el [sistema decimal](https://es.wikipedia.org/wiki/Sistema_de_numeraci%C3%B3n_decimal).\n",
    "\n",
    "Por ejemplo, para restar los siguientes números: 11001001 (que representa al 201 en decimales) y 1000011 (que representa al 67), deberíamos aplicar las reglas del cuadro de la siguiente forma:\n",
    "\n",
    "<img alt=\"Resta de Binarios\" title=\"Resta de Binarios\" src=\"https://relopezbriega.github.io/images/binario6.png\" width=\"80%\" height=\"80%\">\n",
    "\n",
    "Nuevamente el algoritmo se aplica de derecha a izquierda, comenzamos con 1 – 1 que da 0, luego 0 – 1 que da 1 y arrastramos a 1 a la izquierda, por lo que la siguiente columna vuelve a ser 0 – 1 que da 1, como volvimos a arrastrar la siguiente es 1 – 1 igual a 0 y después ya es más simple porque ya no tenemos arrastres. El resultado final es 10000110 que representa al número 134 en el [sistema decimal](https://es.wikipedia.org/wiki/Sistema_de_numeraci%C3%B3n_decimal)!\n",
    "\n",
    "## Multiplicación de números Binarios\n",
    "\n",
    "El algoritmo de multiplicación es similar al que utilizamos en el [sistema decimal](https://es.wikipedia.org/wiki/Sistema_de_numeraci%C3%B3n_decimal) pero es mucho más sencillo ya que solo tenemos que multiplicar por 1 y 0! La tabla que utilizamos para los cálculos es la siguiente:\n",
    "\n",
    "<img alt=\"Multiplicación de Binarios\" title=\"Multiplicación de Binarios\" src=\"https://relopezbriega.github.io/images/binario7.png\" width=\"50%\" height=\"50%\">\n",
    "\n",
    "Para poder realizar la multiplicación al igual que como ocurre con el [sistema decimal](https://es.wikipedia.org/wiki/Sistema_de_numeraci%C3%B3n_decimal), tenemos que saber sumar. Por ejemplo, si queremos multiplicar 10110 (22 en el sistema decimal)  por 1001 ( que representa al 9) el proceso sería el siguiente:\n",
    "\n",
    "<img alt=\"Multiplicación de Binarios\" title=\"Multiplicación de Binarios\" src=\"https://relopezbriega.github.io/images/binario8.png\" width=\"80%\" height=\"80%\">\n",
    "\n",
    "Vamos multiplicando dígito a dígito y luego sumamos los resultados; el resultado final es 11000110 que equivale a 198 en el sistema decimal.\n",
    "\n",
    "## División de números Binarios\n",
    "\n",
    "El algoritmo de división de *[números binarios](https://es.wikipedia.org/wiki/Sistema_binario)* es el mismo que se utiliza para el [sistema decimal](https://es.wikipedia.org/wiki/Sistema_de_numeraci%C3%B3n_decimal) con la salvedad que solo podemos trabajar con 1s y 0s y que las restas y multiplicaciones se deben realizar también en binario.\n",
    "\n",
    "Si por ejemplo queremos dividir 101010 (que representa al 42 en el sistema decimal) entre 110 (que representa al 6); el proceso sería el siguiente:\n",
    "\n",
    "<img alt=\"División de Binarios\" title=\"División de Binarios\" src=\"https://relopezbriega.github.io/images/binario9.png\" width=\"50%\" height=\"50%\">\n",
    "\n",
    "Tomamos los primeros 3 dígitos 101 como 101 (5 en decimal) es más chico que 110 (6 en decimal) no nos sirve, entonces tomamos un dígito más 1010. Como es más grande entonces entra 1 vez en 110, por lo que ya tenemos el primer dígito del resultado. Multiplicamos 1 por 110 y lo restamos a 1010, el resultado es 100, como 100 es menor que 110 bajamos el siguiente dígito, por lo que nos queda 1001 para dividir entre 110.\n",
    "\n",
    "<img alt=\"División de Binarios\" title=\"División de Binarios\" src=\"https://relopezbriega.github.io/images/binario10.png\" width=\"50%\" height=\"50%\">\n",
    "\n",
    "Como 1001 es mayor que 110, volvemos a aplicar el procedimiento y restar 110.\n",
    "\n",
    "<img alt=\"División de Binarios\" title=\"División de Binarios\" src=\"https://relopezbriega.github.io/images/binario11.png\" width=\"50%\" height=\"50%\">\n",
    "\n",
    "Como 110 entra una vez en 110, otra vez obtenemos 1 y volvemos a aplicar el procedimiento.\n",
    "\n",
    "<img alt=\"División de Binarios\" title=\"División de Binarios\" src=\"https://relopezbriega.github.io/images/binario12.png\" width=\"50%\" height=\"50%\">\n",
    "\n",
    "De esta forma arribamos al resultado final de 111 ( 7 en el sistema decimal).\n",
    "\n",
    "Como la división es un poco más difícil que las otras operaciones, realicemos un ejemplo más, en este caso vamos a dividir 101000 (40 en decimal) entre 1000 (8 en decimal).\n",
    "\n",
    "Partimos de los primeros 4 dígitos, como 1010 es mayor que 1000, el primer dígito de nuestro resultado es 1.\n",
    "\n",
    "<img alt=\"División de Binarios\" title=\"División de Binarios\" src=\"https://relopezbriega.github.io/images/binario13.png\" width=\"50%\" height=\"50%\">\n",
    "\n",
    "Luego de restar 1000 a 1010, el resultado es 10, como es más chico que 1000 bajamos el siguiente dígito; como 100 sigue siendo más chico que 1000; el segundo dígito de nuestro resultado es 0.\n",
    "\n",
    "<img alt=\"División de Binarios\" title=\"División de Binarios\" src=\"https://relopezbriega.github.io/images/binario14.png\" width=\"50%\" height=\"50%\">\n",
    "\n",
    "Continuamos aplicando el mismo procedimiento; como luego de la resta, 100 sigue siendo más chico que 1000, bajamos el siguiente dígito. Ahora como 1000 entra una vez en 1000, podemos obtener el siguiente dígito del resultado y arribar al resultado final!\n",
    "\n",
    "<img alt=\"División de Binarios\" title=\"División de Binarios\" src=\"https://relopezbriega.github.io/images/binario15.png\" width=\"50%\" height=\"50%\">\n",
    "\n",
    "Como vemos, el resultado final es 101 que equivale a 5 en el [sistema decimal](https://es.wikipedia.org/wiki/Sistema_de_numeraci%C3%B3n_decimal).\n",
    "\n",
    "## Números Binarios con Python\n",
    "\n",
    "Ahora que ya conocemos como trabajar con el [sistema de números binarios](https://es.wikipedia.org/wiki/Sistema_binario) en forma manual; podemos simplificar las cosas ayudándonos de [Python](https://www.python.org/) y su interprete interactivo. En [Python](https://www.python.org/) podemos convertir un [número decimal](https://es.wikipedia.org/wiki/Sistema_de_numeraci%C3%B3n_decimal) en su equivalente en  [binario](https://es.wikipedia.org/wiki/Sistema_binario) utilizando la función `bin()`"
   ]
  },
  {
   "cell_type": "code",
   "execution_count": 3,
   "metadata": {},
   "outputs": [
    {
     "data": {
      "text/plain": [
       "'0b10011000'"
      ]
     },
     "execution_count": 3,
     "metadata": {},
     "output_type": "execute_result"
    }
   ],
   "source": [
    "# convertir decimal a binario\n",
    "bin(152)"
   ]
  },
  {
   "cell_type": "code",
   "execution_count": 4,
   "metadata": {},
   "outputs": [
    {
     "data": {
      "text/plain": [
       "152"
      ]
     },
     "execution_count": 4,
     "metadata": {},
     "output_type": "execute_result"
    }
   ],
   "source": [
    "# Convertir binario a decimal\n",
    "int(0b10011000)"
   ]
  },
  {
   "cell_type": "code",
   "execution_count": 7,
   "metadata": {},
   "outputs": [
    {
     "data": {
      "text/plain": [
       "'0b10101101'"
      ]
     },
     "execution_count": 7,
     "metadata": {},
     "output_type": "execute_result"
    }
   ],
   "source": [
    "# suma de binarios\n",
    "bin(0b10011000 + 0b10101)"
   ]
  },
  {
   "cell_type": "code",
   "execution_count": 9,
   "metadata": {},
   "outputs": [
    {
     "data": {
      "text/plain": [
       "'0b10000110'"
      ]
     },
     "execution_count": 9,
     "metadata": {},
     "output_type": "execute_result"
    }
   ],
   "source": [
    "# resta de binarios\n",
    "bin(0b11001001 - 0b1000011)"
   ]
  },
  {
   "cell_type": "code",
   "execution_count": 10,
   "metadata": {},
   "outputs": [
    {
     "data": {
      "text/plain": [
       "'0b11000110'"
      ]
     },
     "execution_count": 10,
     "metadata": {},
     "output_type": "execute_result"
    }
   ],
   "source": [
    "# multiplicacion\n",
    "bin(0b10110 * 0b1001)"
   ]
  },
  {
   "cell_type": "code",
   "execution_count": 12,
   "metadata": {},
   "outputs": [
    {
     "data": {
      "text/plain": [
       "'0b111'"
      ]
     },
     "execution_count": 12,
     "metadata": {},
     "output_type": "execute_result"
    }
   ],
   "source": [
    "# división\n",
    "bin(0b101010 // 0b110)"
   ]
  },
  {
   "cell_type": "code",
   "execution_count": 13,
   "metadata": {},
   "outputs": [
    {
     "data": {
      "text/plain": [
       "'0b101'"
      ]
     },
     "execution_count": 13,
     "metadata": {},
     "output_type": "execute_result"
    }
   ],
   "source": [
    "# división\n",
    "bin(0b101000 // 0b1000)"
   ]
  },
  {
   "cell_type": "markdown",
   "metadata": {},
   "source": [
    "Como vemos, las operaciones entre los [sistema de numeración](https://es.wikipedia.org/wiki/Notaci%C3%B3n_posicional) son equivalentes, ya que lo que cambia es la forma en que representamos los números y no la esencia de la operación.\n",
    "\n",
    "Aquí concluye este artículo, como podemos ver el [sistema de numeración binario](https://es.wikipedia.org/wiki/Sistema_binario) posee una simpleza muy bella que lo hace extremadamente útil; con tan solo dos estados...uno y cero, podemos representar cosas extremadamente complejas como son todos los productos de la [revolución digital](https://es.wikipedia.org/wiki/Revoluci%C3%B3n_Digital) que utilizamos hoy en día!\n",
    "\n",
    "\n",
    "*Este post fue escrito por [Raúl e. López Briega](https://relopezbriega.github.io/) utilizando [Jupyter notebook](https://jupyter.org/). Pueden descargar este [notebook](https://github.com/relopezbriega/relopezbriega.github.io/blob/master/downloads/binario.ipynb) o ver su version estática en [nbviewer](https://nbviewer.ipython.org/github/relopezbriega/relopezbriega.github.io/blob/master/downloads/binario.ipynb).*"
   ]
  }
 ],
 "metadata": {
  "kernelspec": {
   "display_name": "Python 3",
   "language": "python",
   "name": "python3"
  },
  "language_info": {
   "codemirror_mode": {
    "name": "ipython",
    "version": 3
   },
   "file_extension": ".py",
   "mimetype": "text/x-python",
   "name": "python",
   "nbconvert_exporter": "python",
   "pygments_lexer": "ipython3",
   "version": "3.7.1"
  }
 },
 "nbformat": 4,
 "nbformat_minor": 2
}
