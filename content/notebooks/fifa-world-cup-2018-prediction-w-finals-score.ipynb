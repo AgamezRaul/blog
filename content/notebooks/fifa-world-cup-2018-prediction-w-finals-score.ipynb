{
 "cells": [
  {
   "cell_type": "markdown",
   "metadata": {
    "_uuid": "3cb3f3c5c27def83d011f2de99c8cdb79a1b7b45"
   },
   "source": [
    "**Predicting FIFA 2018 Winner**\n",
    "\n",
    " **Method**:\n",
    "- Use data from Kaggle to model the outcome of certain pairings between teams, given their rank, points, and the weighted point difference with the opponent.\n",
    "- Use this model to predict the outcome of the group rounds and then the single-elimination phase\n",
    "- Compare results with the countries' talent scores\n",
    "\n",
    "The analysis can be split into 3 portions:\n",
    "\n",
    "* Firstly, we will use logistic regression to predict which countries make it to the single elimination round, and subsequently win the world cup.\n",
    ">(Reference to [Dr. James Bond's predictive model](https://www.kaggle.com/agostontorok/soccer-world-cup-2018-winner))\n",
    "* Secondly, we will use the talent scores of countries to better support the results of the finals matchup.\n",
    "* Thirdly, we will predict the actual scores of the finals matchup and 2nd runner up matchup.\n",
    "\n",
    "**Predicted FIFA 2018 winner : Germany**\n",
    "\n",
    "***Takeaways:***\n",
    "\n",
    "Overlaying the output with the matchup predictions, we have 3 key observations:\n",
    "1.  The logistic regression model coupled with the talent visualization shows that of the 16 top overall talent countries,   11/16 of countries will make it through to the single elimination rounds. \n",
    "> While this is inconclusive, it does give an indication that the talent pool available is probably an important factor to a country's perfomance at FIFA. \n",
    "> The format of FIFA ensures that not all 16 of the top talent pool countries will make it through to the elimination stages with ease, there are multiple points of upset even before FIFA begins. For example, Italy was previously ousted due to losing to Sweden in the 2nd round playoff in Nov 2017, despite having one of the best talents.\n",
    "2. There are multiple matches with almost 50/50 chance for either side to win, this implies that the model is unable to predict with high confidence of some matchups and will need to be tweaked as the results unfold. **(this is what makes it interesting to watch isn't it)**,\n",
    "> In the quarterfinals matchup, Argentina vs Portugal, only 1 team will make it to the finals with the top 2 players by overall ratings (Ronaldo & Messi) leading on each side. Interestingly, the winning chances of Portugal is only by 0.01.\n",
    "3. In the Finals matchup between Belgium and Germany, there is a substantially higher overall talent score for Germany (82.58) as compared to Belgium(79.2), even if Belgium were to maximize it's potential, it will only hit a score of 81.7 (which is still below Germany's overall score). Hence, unless there is significant environmental influence, both the predictive model & talent assessment results indicate Germany as the champions of FIFA 2018.\n",
    "4. The finals is predicted to have a score of Germany vs Portugal 1-0 with the runner up being Portugal defeating Denmark with a score of 3-0. Overall champions is Germany."
   ]
  },
  {
   "cell_type": "markdown",
   "metadata": {
    "_uuid": "55d7132bf01a6553a087fd6ce7aad6be3553e4f5"
   },
   "source": [
    "**Data Used**\n",
    "\n",
    "I used 4 datasets\n",
    "- FIFA rankings from 1993 to 2018 (courtesy of [Tadhg Fitzgerald](https://www.kaggle.com/tadhgfitzgerald) \n",
    "> This one I used to get the FIFA ranking and points for the teams, which is a monthly changing rank previously shown as a [decent predictor](http://www.sportingintelligence.com/2014/06/20/upsets-giant-killings-adios-bye-bye-fifa-rankings-still-ahead-in-predicting-results-200601/) of team performance\n",
    "- International Soccer matches from 1872 to 2018 (courtesy of [Mart Jürisoo](https://www.kaggle.com/martj42))\n",
    "> This I will use to find out how much the difference in point, ranks and the current rank of the team affects the outocme of a match\n",
    "- FIFA World Cup 2018 data set (courtesy of [Nuggs](https://www.kaggle.com/ahmedelnaggar))\n",
    "> This I will use to get the upcoming matches \n",
    "- Complete FIFA 2017 Player dataset (Global) (https://www.kaggle.com/artimous/complete-fifa-2017-player-dataset-global)\n",
    "> Aggregating countries top players value & strength\n"
   ]
  },
  {
   "cell_type": "code",
   "execution_count": 1,
   "metadata": {
    "_cell_guid": "b1076dfc-b9ad-4769-8c92-a6c4dae69d19",
    "_uuid": "8f2839f25d086af736a60e9eeb907d3b93b6e0e5"
   },
   "outputs": [],
   "source": [
    "import numpy as np # linear algebra\n",
    "import pandas as pd # data processing, CSV file I/O (e.g. pd.read_csv)\n",
    "from matplotlib import pyplot as plt\n",
    "\n",
    "rankings = pd.read_csv('data/fifa_ranking.csv')\n",
    "rankings = rankings.loc[:,['rank', 'country_full', 'country_abrv', 'cur_year_avg_weighted', 'rank_date', \n",
    "                           'two_year_ago_weighted', 'three_year_ago_weighted']]\n",
    "rankings = rankings.replace({\"IR Iran\": \"Iran\"})\n",
    "rankings['weighted_points'] =  rankings['cur_year_avg_weighted'] + rankings['two_year_ago_weighted'] + rankings['three_year_ago_weighted']\n",
    "rankings['rank_date'] = pd.to_datetime(rankings['rank_date'])\n",
    "\n",
    "matches = pd.read_csv('data/results.csv')\n",
    "matches =  matches.replace({'Germany DR': 'Germany', 'China': 'China PR'})\n",
    "matches['date'] = pd.to_datetime(matches['date'])\n",
    "\n",
    "world_cup = pd.read_csv('data/World Cup 2018 Dataset.csv')\n",
    "world_cup = world_cup.loc[:, ['Team', 'Group', 'First match \\nagainst', 'Second match\\n against', 'Third match\\n against']]\n",
    "world_cup = world_cup.dropna(how='all')\n",
    "world_cup = world_cup.replace({\"IRAN\": \"Iran\", \n",
    "                               \"Costarica\": \"Costa Rica\", \n",
    "                               \"Porugal\": \"Portugal\", \n",
    "                               \"Columbia\": \"Colombia\", \n",
    "                               \"Korea\" : \"Korea Republic\"})\n",
    "world_cup = world_cup.set_index('Team')"
   ]
  },
  {
   "cell_type": "code",
   "execution_count": 30,
   "metadata": {},
   "outputs": [],
   "source": [
    "equipos = pd.read_csv('data/convocadosCopaAmerica.csv')"
   ]
  },
  {
   "cell_type": "code",
   "execution_count": 57,
   "metadata": {},
   "outputs": [
    {
     "data": {
      "text/plain": [
       "['Argentina',\n",
       " 'Brasil',\n",
       " 'Uruguay',\n",
       " 'Bolivia',\n",
       " 'Colombia',\n",
       " 'Ecuador',\n",
       " 'Venezuela',\n",
       " 'Peru',\n",
       " 'Chile',\n",
       " 'Paraguay',\n",
       " 'Japon',\n",
       " 'Qatar']"
      ]
     },
     "execution_count": 57,
     "metadata": {},
     "output_type": "execute_result"
    }
   ],
   "source": [
    "paises"
   ]
  },
  {
   "cell_type": "code",
   "execution_count": 99,
   "metadata": {},
   "outputs": [],
   "source": [
    "jugadores =  jugadores.replace({'Brazil': 'Brasil'})"
   ]
  },
  {
   "cell_type": "code",
   "execution_count": 85,
   "metadata": {},
   "outputs": [],
   "source": [
    "rankings = pd.read_csv('data/fifa_ranking.csv')\n",
    "rankings= rankings.replace({'Japan': 'Japon', 'Brazil': 'Brasil', 'Catar': 'Qatar'})"
   ]
  },
  {
   "cell_type": "code",
   "execution_count": 88,
   "metadata": {},
   "outputs": [
    {
     "data": {
      "text/plain": [
       "4        1993-08-08\n",
       "7        1993-08-08\n",
       "18       1993-08-08\n",
       "21       1993-08-08\n",
       "34       1993-08-08\n",
       "42       1993-08-08\n",
       "48       1993-08-08\n",
       "50       1993-08-08\n",
       "58       1993-08-08\n",
       "66       1993-08-08\n",
       "69       1993-08-08\n",
       "93       1993-08-08\n",
       "167      1993-09-23\n",
       "178      1993-09-23\n",
       "181      1993-09-23\n",
       "185      1993-09-23\n",
       "207      1993-09-23\n",
       "209      1993-09-23\n",
       "218      1993-09-23\n",
       "219      1993-09-23\n",
       "220      1993-09-23\n",
       "221      1993-09-23\n",
       "239      1993-09-23\n",
       "260      1993-09-23\n",
       "334      1993-10-22\n",
       "342      1993-10-22\n",
       "350      1993-10-22\n",
       "352      1993-10-22\n",
       "374      1993-10-22\n",
       "377      1993-10-22\n",
       "            ...    \n",
       "57192    2018-04-12\n",
       "57198    2018-04-12\n",
       "57216    2018-04-12\n",
       "57219    2018-04-12\n",
       "57223    2018-04-12\n",
       "57260    2018-04-12\n",
       "57372    2018-05-17\n",
       "57375    2018-05-17\n",
       "57379    2018-05-17\n",
       "57381    2018-05-17\n",
       "57386    2018-05-17\n",
       "57387    2018-05-17\n",
       "57403    2018-05-17\n",
       "57409    2018-05-17\n",
       "57427    2018-05-17\n",
       "57430    2018-05-17\n",
       "57433    2018-05-17\n",
       "57471    2018-05-17\n",
       "57583    2018-06-07\n",
       "57586    2018-06-07\n",
       "57590    2018-06-07\n",
       "57592    2018-06-07\n",
       "57595    2018-06-07\n",
       "57597    2018-06-07\n",
       "57613    2018-06-07\n",
       "57614    2018-06-07\n",
       "57640    2018-06-07\n",
       "57641    2018-06-07\n",
       "57642    2018-06-07\n",
       "57679    2018-06-07\n",
       "Name: rank_date, Length: 3432, dtype: object"
      ]
     },
     "execution_count": 88,
     "metadata": {},
     "output_type": "execute_result"
    }
   ],
   "source": [
    "rankings['rank_date']"
   ]
  },
  {
   "cell_type": "code",
   "execution_count": 87,
   "metadata": {},
   "outputs": [],
   "source": [
    "rankings = rankings.loc[rankings['country_full'].isin(paises)]"
   ]
  },
  {
   "cell_type": "code",
   "execution_count": 91,
   "metadata": {},
   "outputs": [],
   "source": [
    "rankings = rankings.loc[:,['rank', 'country_full', 'country_abrv', 'total_points', 'previous_points', 'rank_change', 'rank_date', ]]"
   ]
  },
  {
   "cell_type": "code",
   "execution_count": 92,
   "metadata": {},
   "outputs": [],
   "source": [
    "rankings.to_csv('data/rankingFIFA.csv', index=False)"
   ]
  },
  {
   "cell_type": "code",
   "execution_count": 100,
   "metadata": {},
   "outputs": [
    {
     "data": {
      "text/plain": [
       "array(['Argentina', 'Portugal', 'Brasil', 'Spain', 'Belgium', 'Croatia',\n",
       "       'Uruguay', 'Slovenia', 'Poland', 'Germany', 'France', 'England',\n",
       "       'Italy', 'Egypt', 'Colombia', 'Denmark', 'Gabon', 'Wales',\n",
       "       'Senegal', 'Costa Rica', 'Slovakia', 'Netherlands',\n",
       "       'Bosnia Herzegovina', 'Morocco', 'Serbia', 'Algeria', 'Austria',\n",
       "       'Greece', 'Chile', 'Sweden', 'Korea Republic', 'Finland', 'Guinea',\n",
       "       'Montenegro', 'Armenia', 'Switzerland', 'Norway', 'Czech Republic',\n",
       "       'Scotland', 'Ghana', 'Central African Rep.', 'DR Congo',\n",
       "       'Ivory Coast', 'Russia', 'Ukraine', 'Iceland', 'Mexico', 'Jamaica',\n",
       "       'Albania', 'Venezuela', 'Japon', 'Turkey', 'Ecuador', 'Paraguay',\n",
       "       'Mali', 'Nigeria', 'Cameroon', 'Dominican Republic', 'Israel',\n",
       "       'Kenya', 'Hungary', 'Republic of Ireland', 'Romania',\n",
       "       'United States', 'Cape Verde', 'Australia', 'Peru', 'Togo',\n",
       "       'Syria', 'Zimbabwe', 'Angola', 'Burkina Faso', 'Iran', 'Estonia',\n",
       "       'Tunisia', 'Equatorial Guinea', 'New Zealand', 'FYR Macedonia',\n",
       "       'United Arab Emirates', 'China PR', 'Guinea Bissau', 'Bulgaria',\n",
       "       'Kosovo', 'South Africa', 'Madagascar', 'Georgia', 'Tanzania',\n",
       "       'Gambia', 'Cuba', 'Belarus', 'Uzbekistan', 'Benin', 'Congo',\n",
       "       'Mozambique', 'Honduras', 'Canada', 'Northern Ireland', 'Cyprus',\n",
       "       'Saudi Arabia', 'Curacao', 'Moldova', 'Bolivia',\n",
       "       'Trinidad & Tobago', 'Sierra Leone', 'Zambia', 'Chad',\n",
       "       'Philippines', 'Haiti', 'Comoros', 'Libya', 'Panama',\n",
       "       'São Tomé & Príncipe', 'Eritrea', 'Oman', 'Iraq', 'Burundi',\n",
       "       'Fiji', 'New Caledonia', 'Lithuania', 'Luxembourg', 'Korea DPR',\n",
       "       'Liechtenstein', 'St Kitts Nevis', 'Latvia', 'Suriname', 'Uganda',\n",
       "       'El Salvador', 'Bermuda', 'Kuwait', 'Antigua & Barbuda',\n",
       "       'Thailand', 'Mauritius', 'Guatemala', 'Liberia', 'Kazakhstan',\n",
       "       'Niger', 'Mauritania', 'Montserrat', 'Namibia', 'Azerbaijan',\n",
       "       'Guam', 'Faroe Islands', 'India', 'Nicaragua', 'Barbados',\n",
       "       'Lebanon', 'Palestine', 'Guyana', 'Sudan', 'St Lucia', 'Ethiopia',\n",
       "       'Puerto Rico', 'Grenada', 'Jordan', 'Rwanda', 'Qatar',\n",
       "       'Afghanistan', 'Hong Kong', 'Andorra', 'Malta', 'Belize',\n",
       "       'South Sudan', 'Indonesia', 'Botswana'], dtype=object)"
      ]
     },
     "execution_count": 100,
     "metadata": {},
     "output_type": "execute_result"
    }
   ],
   "source": [
    "jugadores['Nationality'].unique()"
   ]
  },
  {
   "cell_type": "code",
   "execution_count": 101,
   "metadata": {},
   "outputs": [],
   "source": [
    "jugadores = jugadores.loc[jugadores['Nationality'].isin(paises)]"
   ]
  },
  {
   "cell_type": "code",
   "execution_count": 102,
   "metadata": {},
   "outputs": [],
   "source": [
    "jugadores.to_csv('data/jugadores.csv', index=False)"
   ]
  },
  {
   "cell_type": "code",
   "execution_count": 65,
   "metadata": {},
   "outputs": [],
   "source": [
    "partidos = matches.loc[matches['home_team'].isin(paises) & matches['away_team'].isin(paises)]"
   ]
  },
  {
   "cell_type": "code",
   "execution_count": 94,
   "metadata": {},
   "outputs": [],
   "source": [
    "paises = list(equipos.Seleccion.unique())"
   ]
  },
  {
   "cell_type": "code",
   "execution_count": 66,
   "metadata": {},
   "outputs": [],
   "source": [
    "partidos.to_csv('data/partidos.csv')"
   ]
  },
  {
   "cell_type": "markdown",
   "metadata": {
    "_uuid": "a34c1cd5a26c1024b0638d2d93fc0c691b290024"
   },
   "source": [
    "**Feature Extraction**\n",
    "\n",
    "Rank data are combined with the day matches are played:\n",
    "\n",
    "Then extract some features:\n",
    "- Point and rank differences\n",
    "- Friendly matches are removed, assumption being friendly is not reflective of final results in fifa, which is competitive in nature."
   ]
  },
  {
   "cell_type": "code",
   "execution_count": 3,
   "metadata": {
    "_uuid": "863552790217b049b611165e162ad3182f1692f9"
   },
   "outputs": [],
   "source": [
    "# I want to have the ranks for every day \n",
    "rankings = rankings.set_index(['rank_date'])\\\n",
    "            .groupby(['country_full'], group_keys=False)\\\n",
    "            .resample('D').first()\\\n",
    "            .fillna(method='ffill')\\\n",
    "            .reset_index()\n",
    "\n",
    "# join the ranks\n",
    "matches = matches.merge(rankings, \n",
    "                        left_on=['date', 'home_team'], \n",
    "                        right_on=['rank_date', 'country_full'])\n",
    "matches = matches.merge(rankings, \n",
    "                        left_on=['date', 'away_team'], \n",
    "                        right_on=['rank_date', 'country_full'], \n",
    "                        suffixes=('_home', '_away'))"
   ]
  },
  {
   "cell_type": "code",
   "execution_count": 4,
   "metadata": {
    "_uuid": "107fa4816e6db551811abd9fc784c34f1ad63682"
   },
   "outputs": [],
   "source": [
    "# feature generation\n",
    "matches['rank_difference'] = matches['rank_home'] - matches['rank_away']\n",
    "matches['point_difference'] = matches['weighted_points_home'] - matches['weighted_points_away']\n",
    "matches['score_difference'] = matches['home_score'] - matches['away_score']\n",
    "matches['is_stake'] = matches['tournament'] != 'Friendly'\n",
    "matches['is_won'] = matches['score_difference'] > 0 # take draw as lost\n",
    "\n",
    "# I tried earlier rest days but it did not turn to be useful\n",
    "max_rest = 30\n",
    "matches['rest_days'] = matches.groupby('home_team').diff()['date'].dt.days.clip(0,max_rest).fillna(max_rest)\n",
    "\n",
    "# I tried earlier the team as well but that did not make a difference either\n",
    "matches['wc_participant'] = matches['home_team'] * matches['home_team'].isin(world_cup.index.tolist())\n",
    "matches['wc_participant'] = matches['wc_participant'].replace({'':'Other'})\n",
    "matches = matches.join(pd.get_dummies(matches['wc_participant']))"
   ]
  },
  {
   "cell_type": "markdown",
   "metadata": {
    "_uuid": "f67d4cba7bc60580490e00507a0811803e12a6e6"
   },
   "source": [
    "**Modelling**\n",
    "\n",
    "I used a Simple Logistic regression (Accuracy = 68.18%)"
   ]
  },
  {
   "cell_type": "code",
   "execution_count": 5,
   "metadata": {
    "_uuid": "78e3186d0e783cf2a4cb1a141a8d0ffe9f2b59ba"
   },
   "outputs": [
    {
     "name": "stderr",
     "output_type": "stream",
     "text": [
      "/home/raul/anaconda3/lib/python3.7/site-packages/sklearn/linear_model/logistic.py:432: FutureWarning: Default solver will be changed to 'lbfgs' in 0.22. Specify a solver to silence this warning.\n",
      "  FutureWarning)\n"
     ]
    },
    {
     "data": {
      "image/png": "[encoded data removed]",
      "text/plain": [
       "<Figure size 1080x360 with 3 Axes>"
      ]
     },
     "metadata": {
      "needs_background": "light"
     },
     "output_type": "display_data"
    }
   ],
   "source": [
    "from sklearn import linear_model\n",
    "from sklearn import ensemble\n",
    "from sklearn.model_selection import train_test_split\n",
    "from sklearn.metrics import confusion_matrix, roc_curve, roc_auc_score\n",
    "from sklearn.pipeline import Pipeline\n",
    "from sklearn.preprocessing import PolynomialFeatures\n",
    "\n",
    "X, y = matches.loc[:,['rank_home', 'rank_difference', 'point_difference', 'is_stake']], matches['is_won']\n",
    "X_train, X_test, y_train, y_test = train_test_split(\n",
    "    X, y, test_size=0.2, random_state=42)\n",
    "\n",
    "logreg = linear_model.LogisticRegression(C=1e-5)\n",
    "features = PolynomialFeatures(degree=2)\n",
    "model = Pipeline([\n",
    "    ('polynomial_features', features),\n",
    "    ('logistic_regression', logreg)\n",
    "])\n",
    "model = model.fit(X_train, y_train)\n",
    "\n",
    "# figures \n",
    "fpr, tpr, _ = roc_curve(y_test, model.predict_proba(X_test)[:,1])\n",
    "plt.figure(figsize=(15,5))\n",
    "ax = plt.subplot(1,3,1)\n",
    "ax.plot([0, 1], [0, 1], 'k--')\n",
    "ax.plot(fpr, tpr)\n",
    "ax.set_title('AUC score is {0:0.2}'.format(roc_auc_score(y_test, model.predict_proba(X_test)[:,1])))\n",
    "ax.set_aspect(1)\n",
    "\n",
    "ax = plt.subplot(1,3,2)\n",
    "cm = confusion_matrix(y_test, model.predict(X_test))\n",
    "ax.imshow(cm, cmap='Blues', clim = (0, cm.max())) \n",
    "\n",
    "ax.set_xlabel('Predicted label')\n",
    "ax.set_title('Performance on the Test set')\n",
    "\n",
    "ax = plt.subplot(1,3,3)\n",
    "cm = confusion_matrix(y_train, model.predict(X_train))\n",
    "ax.imshow(cm, cmap='Blues', clim = (0, cm.max())) \n",
    "ax.set_xlabel('Predicted label')\n",
    "ax.set_title('Performance on the Training set')\n",
    "pass"
   ]
  },
  {
   "cell_type": "markdown",
   "metadata": {
    "_uuid": "4df844d3dda19501acb22ca095f100eed9787263"
   },
   "source": [
    "With an accuracy level of 68.18%, the model is decent especially since soccer is a team sport and has a low score per game as compared to sports such as NBA -- which means it's much harder to have a good prediction of win loss outcome when game point differences are marginal."
   ]
  },
  {
   "cell_type": "markdown",
   "metadata": {
    "_uuid": "479b97e38320c9eba008210903b17951edc84727"
   },
   "source": [
    "# World Cup simulation"
   ]
  },
  {
   "cell_type": "markdown",
   "metadata": {
    "_uuid": "16eae35346f7a015d627801e05d0d408f3091964"
   },
   "source": [
    "## Group rounds"
   ]
  },
  {
   "cell_type": "code",
   "execution_count": 6,
   "metadata": {
    "_uuid": "db455e9096f0a41a0abd512193222f366d42c4c8"
   },
   "outputs": [],
   "source": [
    "# let's define a small margin when we safer to predict draw then win\n",
    "margin = 0.05\n",
    "\n",
    "# let's define the rankings at the time of the World Cup\n",
    "world_cup_rankings = rankings.loc[(rankings['rank_date'] == rankings['rank_date'].max()) & \n",
    "                                    rankings['country_full'].isin(world_cup.index.unique())]\n",
    "world_cup_rankings = world_cup_rankings.set_index(['country_full'])"
   ]
  },
  {
   "cell_type": "code",
   "execution_count": 7,
   "metadata": {
    "_uuid": "fd197611ef601dcc41c59f48f37f66bec6d2d669"
   },
   "outputs": [
    {
     "name": "stdout",
     "output_type": "stream",
     "text": [
      "___Starting group A:___\n",
      "Russia vs. Saudi Arabia: Saudi Arabia wins with 0.55\n",
      "Russia vs. Egypt: Egypt wins with 0.66\n",
      "Russia vs. Uruguay: Uruguay wins with 0.83\n",
      "Saudi Arabia vs. Egypt: Egypt wins with 0.65\n",
      "Saudi Arabia vs. Uruguay: Uruguay wins with 0.83\n",
      "Egypt vs. Uruguay: Uruguay wins with 0.74\n",
      "___Starting group F:___\n",
      "Germany vs. Mexico: Germany wins with 0.60\n",
      "Germany vs. Sweden: Germany wins with 0.63\n",
      "Germany vs. Korea Republic: Germany wins with 0.71\n",
      "Mexico vs. Sweden: Draw\n",
      "Mexico vs. Korea Republic: Mexico wins with 0.68\n",
      "Sweden vs. Korea Republic: Sweden wins with 0.64\n",
      "___Starting group C:___\n",
      "France vs. Australia: France wins with 0.65\n",
      "France vs. Peru: Draw\n",
      "France vs. Denmark: Draw\n",
      "Australia vs. Peru: Peru wins with 0.68\n",
      "Australia vs. Denmark: Denmark wins with 0.70\n",
      "Peru vs. Denmark: Draw\n",
      "___Starting group D:___\n",
      "Argentina vs. Iceland: Argentina wins with 0.60\n",
      "Argentina vs. Croatia: Argentina wins with 0.59\n",
      "Argentina vs. Nigeria: Argentina wins with 0.70\n",
      "Iceland vs. Croatia: Draw\n",
      "Iceland vs. Nigeria: Iceland wins with 0.62\n",
      "Croatia vs. Nigeria: Croatia wins with 0.63\n",
      "___Starting group H:___\n",
      "Poland vs. Senegal: Poland wins with 0.60\n",
      "Poland vs. Colombia: Draw\n",
      "Poland vs. Japan: Poland wins with 0.73\n",
      "Senegal vs. Colombia: Colombia wins with 0.59\n",
      "Senegal vs. Japan: Senegal wins with 0.65\n",
      "Colombia vs. Japan: Colombia wins with 0.70\n",
      "___Starting group B:___\n",
      "Portugal vs. Spain: Draw\n",
      "Portugal vs. Morocco: Portugal wins with 0.68\n",
      "Portugal vs. Iran: Portugal wins with 0.66\n",
      "Spain vs. Morocco: Spain wins with 0.65\n",
      "Spain vs. Iran: Spain wins with 0.63\n",
      "Morocco vs. Iran: Draw\n",
      "___Starting group G:___\n",
      "Belgium vs. Panama: Belgium wins with 0.73\n",
      "Belgium vs. Tunisia: Belgium wins with 0.61\n",
      "Belgium vs. England: Belgium wins with 0.56\n",
      "Panama vs. Tunisia: Tunisia wins with 0.73\n",
      "Panama vs. England: England wins with 0.77\n",
      "Tunisia vs. England: England wins with 0.57\n",
      "___Starting group E:___\n",
      "Brazil vs. Switzerland: Draw\n",
      "Brazil vs. Costa Rica: Brazil wins with 0.62\n",
      "Brazil vs. Serbia: Brazil wins with 0.67\n",
      "Switzerland vs. Costa Rica: Switzerland wins with 0.59\n",
      "Switzerland vs. Serbia: Switzerland wins with 0.64\n",
      "Costa Rica vs. Serbia: Draw\n"
     ]
    }
   ],
   "source": [
    "from itertools import combinations\n",
    "\n",
    "world_cup['points'] = 0\n",
    "world_cup['total_prob'] = 0\n",
    "\n",
    "for group in set(world_cup['Group']):\n",
    "    print('___Starting group {}:___'.format(group))\n",
    "    for home, away in combinations(world_cup.query('Group == \"{}\"'.format(group)).index, 2):\n",
    "        print(\"{} vs. {}: \".format(home, away), end='')\n",
    "        row = pd.DataFrame(np.array([[np.nan, np.nan, np.nan, True]]), columns=X_test.columns)\n",
    "        # entering the rank_home value using loc to search ranking\n",
    "        row['rank_home'] = world_cup_rankings.loc[home, 'rank']\n",
    "        home_points = world_cup_rankings.loc[home, 'weighted_points']\n",
    "        opp_rank = world_cup_rankings.loc[away, 'rank']\n",
    "        opp_points = world_cup_rankings.loc[away, 'weighted_points']\n",
    "        # Computing difference in ranking\n",
    "        row['rank_difference'] = row['rank_home'] - opp_rank\n",
    "        row['point_difference'] = home_points - opp_points\n",
    "        \n",
    "        home_win_prob = model.predict_proba(row)[:,1][0]\n",
    "        world_cup.loc[home, 'total_prob'] += home_win_prob\n",
    "        world_cup.loc[away, 'total_prob'] += 1-home_win_prob\n",
    "        \n",
    "        \n",
    "        points = 0\n",
    "        if home_win_prob <= 0.5 - margin:\n",
    "            print(\"{} wins with {:.2f}\".format(away, 1-home_win_prob))\n",
    "            # Establishing the 'points' column here\n",
    "            world_cup.loc[away, 'points'] += 3\n",
    "        if home_win_prob > 0.5 - margin:\n",
    "            points = 1\n",
    "        if home_win_prob >= 0.5 + margin:\n",
    "            points = 3\n",
    "            world_cup.loc[home, 'points'] += 3\n",
    "            print(\"{} wins with {:.2f}\".format(home, home_win_prob))\n",
    "        if points == 1:\n",
    "            print(\"Draw\")\n",
    "            world_cup.loc[home, 'points'] += 1\n",
    "            world_cup.loc[away, 'points'] += 1"
   ]
  },
  {
   "cell_type": "markdown",
   "metadata": {
    "_uuid": "b92b43eca2689b0ed0ed3e441b01b9c2e2d1c4e9"
   },
   "source": []
  },
  {
   "cell_type": "markdown",
   "metadata": {
    "_uuid": "b2c787fd8541c281f736a4c6b698839f565ac1b8"
   },
   "source": [
    "## Single-elimination rounds"
   ]
  },
  {
   "cell_type": "code",
   "execution_count": 8,
   "metadata": {
    "_uuid": "2eb8426dfc5e4fdd985e8109179e34dac2e9c976",
    "scrolled": true
   },
   "outputs": [
    {
     "name": "stdout",
     "output_type": "stream",
     "text": [
      "___Starting of the round_of_16___\n",
      "Uruguay vs. Spain: Spain wins with probability 0.54\n",
      "Denmark vs. Croatia: Denmark wins with probability 0.55\n",
      "Brazil vs. Mexico: Brazil wins with probability 0.58\n",
      "Belgium vs. Colombia: Belgium wins with probability 0.59\n",
      "Egypt vs. Portugal: Portugal wins with probability 0.80\n",
      "France vs. Argentina: Argentina wins with probability 0.53\n",
      "Switzerland vs. Germany: Germany wins with probability 0.60\n",
      "England vs. Poland: Poland wins with probability 0.53\n",
      "\n",
      "\n",
      "___Starting of the quarterfinal___\n",
      "Spain vs. Denmark: Denmark wins with probability 0.51\n",
      "Brazil vs. Belgium: Belgium wins with probability 0.51\n",
      "Portugal vs. Argentina: Portugal wins with probability 0.51\n",
      "Germany vs. Poland: Germany wins with probability 0.57\n",
      "\n",
      "\n",
      "___Starting of the semifinal___\n",
      "Denmark vs. Belgium: Belgium wins with probability 0.57\n",
      "Portugal vs. Germany: Germany wins with probability 0.56\n",
      "\n",
      "\n",
      "___Starting of the final___\n",
      "Belgium vs. Germany: Germany wins with probability 0.54\n",
      "\n",
      "\n"
     ]
    }
   ],
   "source": [
    "pairing = [0,3,4,7,8,11,12,15,1,2,5,6,9,10,13,14]\n",
    "\n",
    "labels = []\n",
    "odds = []\n",
    "\n",
    "world_cup = world_cup.sort_values(by=['Group', 'points', 'total_prob'], ascending=False).reset_index()\n",
    "next_round_wc = world_cup.groupby('Group').nth([0, 1]) # select the top 2\n",
    "next_round_wc = next_round_wc.reset_index()\n",
    "next_round_wc = next_round_wc.loc[pairing]\n",
    "next_round_wc = next_round_wc.set_index('Team')\n",
    "\n",
    "finals = ['round_of_16', 'quarterfinal', 'semifinal', 'final']\n",
    "\n",
    "for f in finals:\n",
    "    print(\"___Starting of the {}___\".format(f))\n",
    "    iterations = int(len(next_round_wc) / 2)\n",
    "    winners = []\n",
    "\n",
    "    for i in range(iterations):\n",
    "        home = next_round_wc.index[i*2]\n",
    "        away = next_round_wc.index[i*2+1]\n",
    "        print(\"{} vs. {}: \".format(home,\n",
    "                                   away), \n",
    "                                   end='')\n",
    "        row = pd.DataFrame(np.array([[np.nan, np.nan, np.nan, True]]), columns=X_test.columns)\n",
    "        row['rank_home'] = world_cup_rankings.loc[home, 'rank']\n",
    "        home_points = world_cup_rankings.loc[home, 'weighted_points']\n",
    "        opp_rank = world_cup_rankings.loc[away, 'rank']\n",
    "        opp_points = world_cup_rankings.loc[away, 'weighted_points']\n",
    "        row['rank_difference'] = row['rank_home'] - opp_rank\n",
    "        row['point_difference'] = home_points - opp_points\n",
    "\n",
    "        home_win_prob = model.predict_proba(row)[:,1][0]\n",
    "        if model.predict_proba(row)[:,1] <= 0.5:\n",
    "            print(\"{0} wins with probability {1:.2f}\".format(away, 1-home_win_prob))\n",
    "            winners.append(away)\n",
    "        else:\n",
    "            print(\"{0} wins with probability {1:.2f}\".format(home, home_win_prob))\n",
    "            winners.append(home)\n",
    "\n",
    "        labels.append(\"{}({:.2f}) vs. {}({:.2f})\".format(world_cup_rankings.loc[home, 'country_abrv'], \n",
    "                                                        1/home_win_prob, \n",
    "                                                        world_cup_rankings.loc[away, 'country_abrv'], \n",
    "                                                        1/(1-home_win_prob)))\n",
    "        odds.append([home_win_prob, 1-home_win_prob])\n",
    "                \n",
    "    next_round_wc = next_round_wc.loc[winners]\n",
    "    print(\"\\n\")"
   ]
  },
  {
   "cell_type": "markdown",
   "metadata": {
    "_uuid": "6f47bdb933496bfd5a408e079fcaf8882b8861a4"
   },
   "source": [
    "# 3rd place matchup \n",
    "Portugal wins with a chance of 0.55"
   ]
  },
  {
   "cell_type": "code",
   "execution_count": 9,
   "metadata": {
    "_uuid": "e6016904a864403de381fd9ebedf75e7b940f2fb"
   },
   "outputs": [
    {
     "data": {
      "text/plain": [
       "0.5551411044103391"
      ]
     },
     "execution_count": 9,
     "metadata": {},
     "output_type": "execute_result"
    }
   ],
   "source": [
    "row['rank_home'] = world_cup_rankings.loc['Denmark', 'rank']\n",
    "home_points = world_cup_rankings.loc['Denmark', 'weighted_points']\n",
    "opp_rank = world_cup_rankings.loc['Portugal', 'rank']\n",
    "opp_points = world_cup_rankings.loc['Portugal', 'weighted_points']\n",
    "# Computing difference in ranking\n",
    "row['rank_difference'] = row['rank_home'] - opp_rank\n",
    "row['point_difference'] = home_points - opp_points\n",
    "Denmark_winning_prob = model.predict_proba(row)[:,1][0]\n",
    "Portugal_winning_prob=1 -Denmark_winning_prob\n",
    "Portugal_winning_prob"
   ]
  },
  {
   "cell_type": "code",
   "execution_count": 10,
   "metadata": {
    "_uuid": "a3edeb6eba380b54862857fb188d7098acc06933"
   },
   "outputs": [
    {
     "ename": "ModuleNotFoundError",
     "evalue": "No module named 'plotly'",
     "output_type": "error",
     "traceback": [
      "\u001b[0;31m---------------------------------------------------------------------------\u001b[0m",
      "\u001b[0;31mModuleNotFoundError\u001b[0m                       Traceback (most recent call last)",
      "\u001b[0;32m<ipython-input-10-63dee17e6106>\u001b[0m in \u001b[0;36m<module>\u001b[0;34m\u001b[0m\n\u001b[1;32m      3\u001b[0m \u001b[0mget_ipython\u001b[0m\u001b[0;34m(\u001b[0m\u001b[0;34m)\u001b[0m\u001b[0;34m.\u001b[0m\u001b[0mrun_line_magic\u001b[0m\u001b[0;34m(\u001b[0m\u001b[0;34m'matplotlib'\u001b[0m\u001b[0;34m,\u001b[0m \u001b[0;34m'inline'\u001b[0m\u001b[0;34m)\u001b[0m\u001b[0;34m\u001b[0m\u001b[0;34m\u001b[0m\u001b[0m\n\u001b[1;32m      4\u001b[0m \u001b[0;34m\u001b[0m\u001b[0m\n\u001b[0;32m----> 5\u001b[0;31m \u001b[0;32mimport\u001b[0m \u001b[0mplotly\u001b[0m\u001b[0;34m.\u001b[0m\u001b[0moffline\u001b[0m \u001b[0;32mas\u001b[0m \u001b[0mpy\u001b[0m\u001b[0;34m\u001b[0m\u001b[0;34m\u001b[0m\u001b[0m\n\u001b[0m\u001b[1;32m      6\u001b[0m \u001b[0mpy\u001b[0m\u001b[0;34m.\u001b[0m\u001b[0minit_notebook_mode\u001b[0m\u001b[0;34m(\u001b[0m\u001b[0mconnected\u001b[0m\u001b[0;34m=\u001b[0m\u001b[0;32mTrue\u001b[0m\u001b[0;34m)\u001b[0m\u001b[0;34m\u001b[0m\u001b[0;34m\u001b[0m\u001b[0m\n\u001b[1;32m      7\u001b[0m \u001b[0;32mimport\u001b[0m \u001b[0mplotly\u001b[0m\u001b[0;34m.\u001b[0m\u001b[0mgraph_objs\u001b[0m \u001b[0;32mas\u001b[0m \u001b[0mgo\u001b[0m\u001b[0;34m\u001b[0m\u001b[0;34m\u001b[0m\u001b[0m\n",
      "\u001b[0;31mModuleNotFoundError\u001b[0m: No module named 'plotly'"
     ]
    }
   ],
   "source": [
    "import seaborn as sns\n",
    "import matplotlib.pyplot as plt\n",
    "%matplotlib inline\n",
    "\n",
    "import plotly.offline as py\n",
    "py.init_notebook_mode(connected=True)\n",
    "import plotly.graph_objs as go\n",
    "import plotly.tools as tls"
   ]
  },
  {
   "cell_type": "code",
   "execution_count": 9,
   "metadata": {
    "_uuid": "0504e691f7abaf22517fc055135f71739595742e",
    "collapsed": true
   },
   "outputs": [],
   "source": [
    "df = pd.read_csv('../input/complete-player-info/CompleteDataset.csv')\n",
    "df.head()"
   ]
  },
  {
   "cell_type": "markdown",
   "metadata": {
    "_uuid": "587926ebd3049867409ac1eb287391b012a96c11"
   },
   "source": [
    "**I will assume that the mean of the top 50 talents from each country rated by 'Overall' score is representative of the country's soccer capabilities at the world cup level**"
   ]
  },
  {
   "cell_type": "code",
   "execution_count": 10,
   "metadata": {
    "_uuid": "519f398a3c27f953ea7677a3b470eede89b058a4",
    "collapsed": true
   },
   "outputs": [],
   "source": [
    "df2 = df.sort_values(['Nationality','Overall'],ascending=False).groupby('Nationality').head(50)"
   ]
  },
  {
   "cell_type": "code",
   "execution_count": 11,
   "metadata": {
    "_uuid": "559daa38ac4237ec9b85b7fc316ffa42d21564ab",
    "collapsed": true
   },
   "outputs": [],
   "source": [
    "def str2number(amount):\n",
    "    if amount[-1] == 'M':\n",
    "        return float(amount[1:-1])*1000000\n",
    "    elif amount[-1] == 'K':\n",
    "        return float(amount[1:-1])*1000\n",
    "    else:\n",
    "        return float(amount[1:])\n",
    "    \n",
    "df2['MaxPotential'] = df2['Potential'] - df2['Overall']\n",
    "df2['ValueNum'] = df2['Value'].apply(lambda x: str2number(x))\n",
    "top_teams = df2.groupby(\"Nationality\").mean().sort_values(\"ValueNum\", ascending=False).head(16).reset_index()[[\"Nationality\", \"Overall\", \"ValueNum\",'MaxPotential']]"
   ]
  },
  {
   "cell_type": "markdown",
   "metadata": {
    "_uuid": "4fe64b577adacfca4351698a86651a65ed9a68a0"
   },
   "source": [
    "**Visualizing top 16 countries with the highest talent score**"
   ]
  },
  {
   "cell_type": "code",
   "execution_count": null,
   "metadata": {
    "_uuid": "770c83cb5c2c11c085828fba993237a8a573e49e",
    "collapsed": true
   },
   "outputs": [],
   "source": [
    "trace1 = go.Bar(\n",
    "    x = top_teams[\"Nationality\"].tolist(),\n",
    "    y = top_teams[\"Overall\"].tolist(),\n",
    "    name='Country Overall',\n",
    "    marker=dict(\n",
    "        color='rgba(55, 128, 191, 0.7)',\n",
    "        line=dict(\n",
    "            color='rgba(55, 128, 191, 1.0)',\n",
    "            width=2,\n",
    "        )\n",
    "    )\n",
    ")\n",
    "\n",
    "trace2 = go.Bar(\n",
    "    x = top_teams[\"Nationality\"].tolist(),\n",
    "    y = top_teams[\"MaxPotential\"].tolist(),\n",
    "    name='Country Potential',\n",
    "    marker=dict(\n",
    "        color='rgba(219, 64, 82, 0.7)',\n",
    "        line=dict(\n",
    "            color='rgba(219, 64, 82, 1.0)',\n",
    "            width=2,\n",
    "        )\n",
    "    )\n",
    ")\n",
    "\n",
    "trace3 = go.Scatter(\n",
    "    x = top_teams[\"Nationality\"].tolist(),\n",
    "    y = (top_teams[\"ValueNum\"] / 1000000).tolist(),\n",
    "    name='Country Value [M€]',\n",
    "    mode = 'lines+markers',\n",
    "    yaxis='y2'\n",
    ")\n",
    "\n",
    "data = [trace1, trace2,trace3]\n",
    "\n",
    "layout = go.Layout(\n",
    "    barmode='stack',\n",
    "    title = 'Level of talent across countries',\n",
    "    titlefont=dict(size=25),\n",
    "    width=850,\n",
    "    height=500,\n",
    "    paper_bgcolor='rgb(244, 238, 225)',\n",
    "    plot_bgcolor='rgb(244, 238, 225)',\n",
    "    yaxis = dict(\n",
    "        title= 'Country Overall/Potential',\n",
    "        anchor = 'x',\n",
    "        rangemode='tozero'\n",
    "    ),\n",
    "    xaxis = dict(title= 'Country Name'),\n",
    "    yaxis2=dict(\n",
    "        title='Country Value [M€]',\n",
    "        titlefont=dict(\n",
    "            color='rgb(148, 103, 189)'\n",
    "        ),\n",
    "        tickfont=dict(\n",
    "            color='rgb(148, 103, 189)'\n",
    "        ),\n",
    "        overlaying='y',\n",
    "        side='right',\n",
    "        anchor = 'x',\n",
    "        rangemode = 'tozero',\n",
    "        dtick = 200\n",
    "    ),\n",
    "    #legend=dict(x=-.1, y=1.2)\n",
    "    legend=dict(x=0.05, y=0.05)\n",
    ")\n",
    "\n",
    "fig = go.Figure(data=data, layout=layout)\n",
    "py.iplot(fig)"
   ]
  },
  {
   "cell_type": "code",
   "execution_count": 89,
   "metadata": {
    "_uuid": "9363be66d16fe816a1d3df06fd03dceeb142caa3",
    "collapsed": true
   },
   "outputs": [],
   "source": [
    "# Countries identified by logreg to make it past group stages.\n",
    "next_round_wc = world_cup.groupby('Group').nth([0, 1]) \n",
    "next_round_wc['Team']"
   ]
  },
  {
   "cell_type": "code",
   "execution_count": 90,
   "metadata": {
    "_uuid": "3d395449dfe2d4125afe781aac89958da5c61a81",
    "collapsed": true
   },
   "outputs": [],
   "source": [
    "# Overlaps\n",
    "next_round_wc['Team'].isin(top_teams['Nationality']).agg('sum')"
   ]
  },
  {
   "cell_type": "markdown",
   "metadata": {
    "_uuid": "9669ed744cf073412a51ed59f92114347f441d13"
   },
   "source": [
    "***Takeaways:***\n",
    "\n",
    "Overlaying the output with the matchup predictions, we have 3 key observations:\n",
    "1.  The logistic regression model coupled with the talent visualization shows that of the 16 top overall talent countries,   11/16 of countries will make it through to the single elimination rounds. \n",
    "> While this is inconclusive, it does give an indication that the talent pool available is probably an important factor to a country's perfomance at FIFA. \n",
    "> The format of FIFA ensures that not all 16 of the top talent pool countries will make it through to the elimination stages with ease, there are multiple points of upset even before FIFA begins. For example, Italy was previously ousted due to losing to Sweden in the 2nd round playoff in Nov 2017, despite having one of the best talents.\n",
    "2. There are multiple matches with almost 50/50 chance for either side to win, this implies that the model is unable to predict with high confidence of some matchups and will need to be tweaked as the results unfold. **(this is what makes it interesting to watch isn't it)**,\n",
    "> In the quarterfinals matchup, Argentina vs Portugal, only 1 team will make it to the finals with the top 2 players by overall ratings (Ronaldo & Messi) leading on each side. Interestingly, the winning chances of Portugal is only by 0.01.\n",
    "3. In the Finals matchup between Belgium and Germany, there is a substantially higher overall talent score for Germany (82.58) as compared to Belgium(79.2), even if Belgium were to maximize it's potential, it will only hit a score of 81.7 (which is still below Germany's overall score). Hence, unless there is significant environmental influence, both the predictive model & talent assessment results indicate Germany as the champions of FIFA 2018."
   ]
  },
  {
   "cell_type": "code",
   "execution_count": 69,
   "metadata": {
    "_uuid": "ed84426daf488b05f1b245b74a5d4a71a279d4ec",
    "collapsed": true
   },
   "outputs": [],
   "source": [
    "# Extracting latest ranking for the top 4 countries in semifinals\n",
    "finals = ['Germany','Portugal','Belgium','Denmark']\n",
    "Lastest_rank_check = rankings.sort_values('rank_date', ascending = False).groupby('country_full').head(1)\n",
    "Lastest_rank_check[Lastest_rank_check['country_full'].isin(finals)]"
   ]
  },
  {
   "cell_type": "markdown",
   "metadata": {
    "_uuid": "adf4bdf97e056bc7d3f42bdafd1fd556030f01b7"
   },
   "source": [
    "***Prediction of team score using Logistic Regression (I will be doing away_score prediction in silo from home_score prediction)***"
   ]
  },
  {
   "cell_type": "code",
   "execution_count": 70,
   "metadata": {
    "_uuid": "c80a086dc9ebb2dd8c88bf66c7c80459bcb25b4d",
    "collapsed": true
   },
   "outputs": [],
   "source": [
    "# predictive model of away_score\n",
    "list = ['rank_difference','is_stake','is_won','away_score']\n",
    "df2 = matches[list]"
   ]
  },
  {
   "cell_type": "code",
   "execution_count": 71,
   "metadata": {
    "_uuid": "487f7e463a37f82276d3855b04f44e9eecb7fd9f",
    "collapsed": true
   },
   "outputs": [],
   "source": [
    "# Importing the dataset\n",
    "X2 = df2.iloc[:, 0:3]\n",
    "y2 = df2.iloc[:, -1]\n",
    "\n",
    "# Splitting the dataset into the Training set and Test set\n",
    "from sklearn.cross_validation import train_test_split\n",
    "X2_train, X2_test, y2_train, y2_test = train_test_split(X2, y2, test_size = 0.2, random_state = 0)\n",
    "\n",
    "#Logistic regression accuracy score (predicting away) = 0.389\n",
    "logreg = linear_model.LogisticRegression(C=1e-5)\n",
    "features = PolynomialFeatures(degree=2)\n",
    "model = Pipeline([('polynomial_features', features),('logistic_regression', logreg)])\n",
    "model2 = model.fit(X2_train, y2_train)\n",
    "score2 = model2.score(X2_test,y2_test)\n",
    "cm2 = confusion_matrix(y2_test, model2.predict(X2_test))\n",
    "\n",
    "#Decision tree accuracy score (predicting home) = 0.2335\n",
    "#from sklearn.tree import DecisionTreeRegressor\n",
    "#model2 = DecisionTreeRegressor(random_state = 0)\n",
    "#model2 = model2.fit(X2_train, y2_train)\n",
    "#score2 = model2.score(X2_test,y2_test)\n",
    "\n",
    "cm2 = confusion_matrix(y2_test, np.round(model2.predict(X2_test)))\n",
    "\n",
    "import seaborn as sns\n",
    "plt.figure(figsize=(9,9))\n",
    "sns.heatmap(cm, annot=True, fmt=\".3f\", linewidths=.5, square = True, cmap = 'Blues_r');\n",
    "plt.ylabel('Actual label');\n",
    "plt.xlabel('Predicted label');\n",
    "all_sample_title = 'Accuracy Score: {0}'.format(score2)\n",
    "plt.title(all_sample_title, size = 15);"
   ]
  },
  {
   "cell_type": "code",
   "execution_count": 72,
   "metadata": {
    "_uuid": "66fcd06594c500ea4242e87f6ac8eac877d2f449",
    "collapsed": true
   },
   "outputs": [],
   "source": [
    "# creating dataset with index[0] > Denmark (Home) vs  Portugal (Away) & index[1] > Belgium (Home) vs Germany (Away)\n",
    "df3 = pd.DataFrame(columns=[\"rank_difference\", \"is_stake\",'is_won'], data=[[8,True,False],[2,True,False]])\n",
    "df3"
   ]
  },
  {
   "cell_type": "code",
   "execution_count": 73,
   "metadata": {
    "_uuid": "77f0c5cf9c50dbf4a90a9571c3cb2b29c5cdde5c",
    "collapsed": true
   },
   "outputs": [],
   "source": [
    "predicted_away_score = model2.predict(df3)\n",
    "predicted_away_score"
   ]
  },
  {
   "cell_type": "markdown",
   "metadata": {
    "_uuid": "eb5194f063ec116340087f83b25eb1f682e44cfc"
   },
   "source": [
    "***Applying the same machine learning model to predict home_score***"
   ]
  },
  {
   "cell_type": "code",
   "execution_count": 74,
   "metadata": {
    "_uuid": "ee897d32e2ccbd2799656e5b91b006db08271301",
    "collapsed": true
   },
   "outputs": [],
   "source": [
    "list = ['rank_difference','is_stake','is_won','home_score']\n",
    "df6 = matches[list]\n",
    "\n",
    "X3 = df6.iloc[:, 0:3]\n",
    "y3 = df6.iloc[:, -1]\n",
    "\n",
    "# Splitting the dataset into the Training set and Test set\n",
    "from sklearn.cross_validation import train_test_split\n",
    "X3_train, X3_test, y3_train, y3_test = train_test_split(X3, y3, test_size = 0.2, random_state = 0)\n",
    "\n",
    "#Logistic regression accuracy score (predicting home) =\n",
    "logreg = linear_model.LogisticRegression(C=1e-5)\n",
    "features = PolynomialFeatures(degree=2)\n",
    "model = Pipeline([('polynomial_features', features),('logistic_regression', logreg)])\n",
    "model3 = model.fit(X3_train, y3_train)\n",
    "score3 = model3.score(X3_test,y3_test)\n",
    "cm3 = confusion_matrix(y3_test, model3.predict(X3_test))\n",
    "\n",
    "#Decision tree accuracy score (predicting home) = 0.2335\n",
    "#from sklearn.tree import DecisionTreeRegressor\n",
    "#model2 = DecisionTreeRegressor(random_state = 0)\n",
    "#model2 = model2.fit(X2_train, y2_train)\n",
    "#score2 = model2.score(X2_test,y2_test)\n",
    "\n",
    "import seaborn as sns\n",
    "plt.figure(figsize=(9,9))\n",
    "sns.heatmap(cm, annot=True, fmt=\".3f\", linewidths=.5, square = True, cmap = 'Blues_r');\n",
    "plt.ylabel('Actual label');\n",
    "plt.xlabel('Predicted label');\n",
    "all_sample_title = 'Accuracy Score: {0}'.format(score3)\n",
    "plt.title(all_sample_title, size = 15);"
   ]
  },
  {
   "cell_type": "code",
   "execution_count": 75,
   "metadata": {
    "_uuid": "2f619ce2ef550c28d4a079ad87e5545e4c27b978",
    "collapsed": true
   },
   "outputs": [],
   "source": [
    "df4 = pd.DataFrame(columns=[\"rank_difference\", \"is_stake\",'is_won'], data=[[8,True,False],[2,True,False]])\n",
    "predicted_home_score = model3.predict(df4)\n",
    "predicted_home_score"
   ]
  },
  {
   "cell_type": "code",
   "execution_count": 76,
   "metadata": {
    "_uuid": "379ee170ec69df44b5a4f73b1da659a1e9dcc8e2",
    "collapsed": true
   },
   "outputs": [],
   "source": [
    "away_score= pd.DataFrame(predicted_away_score, columns=['away_score']) \n",
    "home_score= pd.DataFrame(predicted_home_score, columns=['home_score'])\n",
    "df7 = pd.DataFrame(columns=[\"Home\",\"Away\",\"rank_difference\", \"is_stake\",'is_won'], data=[['Denmark', 'Portugal',8,True,False],['Belgium','Germany', 2,True,False]])\n",
    "result = pd.concat([df7,away_score,home_score], axis=1, sort=False)\n",
    "result"
   ]
  },
  {
   "cell_type": "markdown",
   "metadata": {
    "_uuid": "f640f20b341ffb2fdcaaeae13b9826d110776baf"
   },
   "source": [
    "**Summary**\n",
    "\n",
    ">The finals is predicted to have a score of Germany vs Belgium 1-0 with the runner up being Portugal defeating Denmark with a score of 3-0. Overall champions is Germany."
   ]
  }
 ],
 "metadata": {
  "kernelspec": {
   "display_name": "Python 3",
   "language": "python",
   "name": "python3"
  },
  "language_info": {
   "codemirror_mode": {
    "name": "ipython",
    "version": 3
   },
   "file_extension": ".py",
   "mimetype": "text/x-python",
   "name": "python",
   "nbconvert_exporter": "python",
   "pygments_lexer": "ipython3",
   "version": "3.7.3"
  }
 },
 "nbformat": 4,
 "nbformat_minor": 1
}
